{
 "cells": [
  {
   "cell_type": "code",
   "execution_count": 2,
   "metadata": {
    "colab": {
     "base_uri": "https://localhost:8080/",
     "height": 34
    },
    "colab_type": "code",
    "id": "MjuAOajGDZza",
    "outputId": "89de5d21-2aa4-4b27-905c-b7c8216d804c"
   },
   "outputs": [
    {
     "name": "stdout",
     "output_type": "stream",
     "text": [
      "Populating the interactive namespace from numpy and matplotlib\n"
     ]
    }
   ],
   "source": [
    "import warnings\n",
    "warnings.filterwarnings(\"ignore\")\n",
    "import os\n",
    "import sys\n",
    "import numpy as np\n",
    "import torch\n",
    "from sklearn.metrics import accuracy_score,confusion_matrix,classification_report\n",
    "import  torch.nn as nn\n",
    "import torch.nn.functional as F\n",
    "rseed = 42\n",
    "np.random.seed(rseed)\n",
    "torch.manual_seed(rseed)\n",
    "gpu_id = '0'\n",
    "from joblib import Parallel, delayed\n",
    "os.environ['CUDA_VISIBLE_DEVICES']=gpu_id\n",
    "os.environ['JOBLIB_TEMP_FOLDER'] = '/ksozykinraid/data/tmp/'\n",
    "from time import time\n",
    "import torch \n",
    "import pandas as pd\n",
    "import glob2\n",
    "import json\n",
    "from tqdm import tqdm\n",
    "%pylab inline"
   ]
  },
  {
   "cell_type": "code",
   "execution_count": 3,
   "metadata": {
    "colab": {
     "base_uri": "https://localhost:8080/",
     "height": 190
    },
    "colab_type": "code",
    "id": "-awu-tFUyrnZ",
    "outputId": "edbe48ef-53f0-469e-b804-bf12afca0331"
   },
   "outputs": [
    {
     "name": "stdout",
     "output_type": "stream",
     "text": [
      "Collecting wldhx.yadisk-direct\n",
      "  Downloading https://files.pythonhosted.org/packages/20/a9/e14d8abec847b839d95d131dede68aa03c0bd3ca6485cca406550dfa2a3a/wldhx.yadisk_direct-0.0.6-py3-none-any.whl\n",
      "Requirement already satisfied: requests in /usr/local/lib/python3.6/dist-packages (from wldhx.yadisk-direct) (2.21.0)\n",
      "Requirement already satisfied: urllib3<1.25,>=1.21.1 in /usr/local/lib/python3.6/dist-packages (from requests->wldhx.yadisk-direct) (1.24.3)\n",
      "Requirement already satisfied: idna<2.9,>=2.5 in /usr/local/lib/python3.6/dist-packages (from requests->wldhx.yadisk-direct) (2.8)\n",
      "Requirement already satisfied: chardet<3.1.0,>=3.0.2 in /usr/local/lib/python3.6/dist-packages (from requests->wldhx.yadisk-direct) (3.0.4)\n",
      "Requirement already satisfied: certifi>=2017.4.17 in /usr/local/lib/python3.6/dist-packages (from requests->wldhx.yadisk-direct) (2019.3.9)\n",
      "Installing collected packages: wldhx.yadisk-direct\n",
      "Successfully installed wldhx.yadisk-direct-0.0.6\n"
     ]
    }
   ],
   "source": [
    "!pip install wldhx.yadisk-direct"
   ]
  },
  {
   "cell_type": "code",
   "execution_count": 4,
   "metadata": {
    "colab": {
     "base_uri": "https://localhost:8080/",
     "height": 213,
     "resources": {
      "http://localhost:8080/nbextensions/google.colab/files.js": {
       "data": "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",
       "headers": [
        [
         "content-type",
         "application/javascript"
        ]
       ],
       "ok": true,
       "status": 200,
       "status_text": ""
      }
     }
    },
    "colab_type": "code",
    "id": "nudEkR4oyyl8",
    "outputId": "0be8606b-038a-49f6-a328-7b3a551d72f1"
   },
   "outputs": [
    {
     "data": {
      "text/html": [
       "\n",
       "     <input type=\"file\" id=\"files-114a8b22-9c28-48e2-a9f5-724b8ca8c9f7\" name=\"files[]\" multiple disabled />\n",
       "     <output id=\"result-114a8b22-9c28-48e2-a9f5-724b8ca8c9f7\">\n",
       "      Upload widget is only available when the cell has been executed in the\n",
       "      current browser session. Please rerun this cell to enable.\n",
       "      </output>\n",
       "      <script src=\"/nbextensions/google.colab/files.js\"></script> "
      ],
      "text/plain": [
       "<IPython.core.display.HTML object>"
      ]
     },
     "metadata": {
      "tags": []
     },
     "output_type": "display_data"
    },
    {
     "name": "stdout",
     "output_type": "stream",
     "text": [
      "Saving datasets.py to datasets.py\n",
      "Saving layers.py to layers.py\n",
      "Saving utils.py to utils.py\n"
     ]
    },
    {
     "data": {
      "text/plain": [
       "{'datasets.py': b'\\nfrom utils import *\\nimport torch.utils.data\\nfrom sklearn.model_selection import train_test_split\\n#from ipypb import ipb\\nfrom tqdm import tqdm\\n\\nrseed = 42\\n\\nclass pamap2Dataset(torch.utils.data.Dataset):\\n    \\n    \"\"\"\\n        \\n    \"\"\"\\n    def __init__(self,subjects,fold=\\'train\\',\\n                 win_size=256,step=128,\\n                 num_classes = 4,\\n                 test_subject = 6,\\n                 val_rate = 0.3):\\n        \"\"\"\\n        \"\"\"\\n        self.data = []\\n        self.labels = []\\n        self.test_data = []\\n        self.test_labels = []\\n        self.win_size = win_size\\n        self.step = step\\n        \\n        self.fold = fold\\n        \\n        \\n        for i in tqdm(range(len(subjects))):\\n            #data = []\\n            #labels = []\\n            subject = subjects[i]\\n            for window in sliding_window(subject[useful_columns],win_size = self.win_size,\\n                                         step=self.step):\\n                if i != test_subject:\\n                    self.data.append(window[data_columns])\\n                    self.labels.append(major_filter(window[\\'activityID\\']))\\n                else:\\n                    self.test_data.append(window[data_columns])\\n                    self.test_labels.append(major_filter(window[\\'activityID\\']))\\n        self.data = np.vstack(self.data)\\n        self.data = self.data.reshape([-1,self.win_size,len(data_columns)]).astype(\\'float32\\')\\n        self.labels = np.hstack(self.labels)\\n        \\n        \\n        self.test_data = np.vstack(self.test_data)\\n        self.test_data = self.test_data.reshape([-1,self.win_size,len(data_columns)]).astype(\\'float32\\')\\n        self.test_labels = np.hstack(self.test_labels)\\n        self.test_labels = one_hot(self.test_labels,num_classes).astype(\\'float32\\')\\n        \\n        self.labels = one_hot(self.labels,num_classes).astype(\\'float32\\')\\n        \\n        self.total_size = len(self.data)\\n        \\n        indxs = train_test_split(np.arange(self.total_size),test_size=val_rate,random_state=rseed)\\n        self.train_idxs = indxs[0]\\n        self.val_idxs = indxs[1]\\n        \\n        \\n        ## actions in original data are sequential,\\n        ## e.g. subject makeas action1, then action2 ... action3\\n        #self.val_rate = val_rate\\n        #self.val_size = int(self.val_rate*self.total_size)\\n\\n        #self.train_rate = 1-self.val_rate\\n        #self.train_size = int(self.train_rate*self.total_size)\\n        \\n        self.train_data = self.data[self.train_idxs]\\n        self.train_labels = self.labels[self.train_idxs]\\n        self.val_data = self.data[self.val_idxs]\\n        self.val_labels = self.labels[self.val_idxs]\\n        \\n        \\n    def __len__(self,):\\n        \"\"\"\\n        \"\"\"\\n        if self.fold == \\'train\\':\\n            return len(self.train_data)\\n        elif self.fold == \\'val\\':\\n            return len(self.val_data)\\n        elif self.fold == \\'test\\':\\n            return len(self.test_data)\\n    \\n    def __getitem__(self, index):\\n        \"\"\"\\n        \"\"\"\\n        if self.fold == \\'train\\':\\n            data = self.train_data[index]\\n            label =  self.train_labels[index]\\n        elif self.fold == \\'val\\':\\n            data = self.val_data[index]\\n            label =  self.val_labels[index]\\n        elif self.fold == \\'test\\':\\n            data = self.test_data[index]\\n            label =  self.test_labels[index]\\n        return data,label\\n\\n#### predefined\\n    \\nnum2label = {1: \\'lying\\',\\n               2: \\'sitting\\',\\n               3: \\'standing\\',\\n               4: \\'walking\\',\\n               5: \\'running\\',\\n               6: \\'cycling\\',\\n               7: \\'Nordic walking\\',\\n               9: \\'watching TV\\',\\n               10: \\'computer work\\',\\n               11: \\'car driving\\',\\n               12: \\'ascending stairs\\',\\n               13: \\'descending stairs\\',\\n               16: \\'vacuum cleaning\\',\\n               17: \\'ironing\\',\\n               18: \\'folding laundry\\',\\n               19: \\'house cleaning\\',\\n               20: \\'playing soccer\\',\\n               24: \\'rope jumping\\',\\n                0: \\'other\\'}\\n\\n\\nlabel2num = {\\'lying\\': 1,\\n \\'sitting\\': 2,\\n \\'standing\\': 3,\\n \\'walking\\': 4,\\n \\'running\\': 5,\\n \\'cycling\\': 6,\\n \\'Nordic walking\\': 7,\\n \\'watching TV\\': 9,\\n \\'computer work\\': 10,\\n \\'car driving\\': 11,\\n \\'ascending stairs\\': 12,\\n \\'descending stairs\\': 13,\\n \\'vacuum cleaning\\': 16,\\n \\'ironing\\': 17,\\n \\'folding laundry\\': 18,\\n \\'house cleaning\\': 19,\\n \\'playing soccer\\': 20,\\n \\'rope jumping\\': 24,\\n \\'other\\': 0}\\n\\n\\ndata_columns = [ \\n \\'hand_acc_16g_x\\',\\n \\'hand_acc_16g_y\\',\\n \\'hand_acc_16g_z\\',\\n \\'hand_gyroscope_x\\',\\n \\'hand_gyroscope_y\\',\\n \\'hand_gyroscope_z\\',\\n \\'hand_magnometer_x\\',\\n \\'hand_magnometer_y\\',\\n \\'hand_magnometer_z\\',\\n\\n \\'chest_acc_16g_x\\',\\n \\'chest_acc_16g_y\\',\\n \\'chest_acc_16g_z\\',\\n \\'chest_gyroscope_x\\',\\n \\'chest_gyroscope_y\\',\\n \\'chest_gyroscope_z\\',\\n \\'chest_magnometer_x\\',\\n \\'chest_magnometer_y\\',\\n \\'chest_magnometer_z\\',\\n\\n\\n \\'ankle_acc_16g_x\\',\\n \\'ankle_acc_16g_y\\',\\n \\'ankle_acc_16g_z\\',\\n \\'ankle_gyroscope_x\\',\\n \\'ankle_gyroscope_y\\',\\n \\'ankle_gyroscope_z\\',\\n \\'ankle_magnometer_x\\',\\n \\'ankle_magnometer_y\\',\\n \\'ankle_magnometer_z\\',\\n]\\n\\nuseful_columns =  data_columns  + [\\'activityID\\']',\n",
       " 'layers.py': b'\\n\"\"\"\\n    multi-sin-conv is an extention of the https://github.com/mravanelli/SincNet\\n\"\"\"\\n\\nimport torch\\nimport numpy as np\\nimport  torch.nn as nn\\nimport torch.nn.functional as F\\nimport math \\n\\nclass Flatten(nn.Module):\\n    def forward(self, input):\\n        return input.view(input.size(0), -1)\\n    \\nclass Flip(nn.Module):\\n    \\n    def __init__(self,dim):\\n        super(self.__class__, self).__init__()\\n        self.dim = dim\\n        \\n    def forward(self,x):\\n        xsize = x.size()\\n        dim = x.dim() + dim if self.dim < 0 else self.dim\\n        x = x.contiguous()\\n        x = x.view(-1, *xsize[dim:])\\n        x = x.view(x.size(0), x.size(1), -1)[:, torch.arange(x.size(1)-1, -1, -1), :]\\n        return x.view(xsize)\\n\\n\\nclass Sinc(nn.Module):\\n    \\n    def __init__(self,device=\\'cuda\\'):\\n        super(self.__class__, self).__init__()\\n        self.flip = Flip(0)\\n        self.device = device\\n        \\n    def forward(self,band,t_right):\\n        y_right= torch.sin(2*math.pi*band*t_right)/(2*math.pi*band*t_right)\\n        y_left = self.flip(y_right)\\n        y = torch.cat([y_left,torch.ones(1).to(self.device),y_right])\\n        return y\\n\\nclass LayerNorm(nn.Module):\\n    \"\"\"\\n        https://github.com/mravanelli/SincNet\\n    \"\"\"\\n    def __init__(self, features, eps=1e-6):\\n        super(LayerNorm,self).__init__()\\n        self.gamma = nn.Parameter(torch.ones(features))\\n        self.beta = nn.Parameter(torch.zeros(features))\\n        self.eps = eps\\n\\n    def forward(self, x):\\n        mean = x.mean(-1, keepdim=True)\\n        std = x.std(-1, keepdim=True)\\n        return self.gamma * (x - mean) / (std + self.eps) + self.beta\\n\\nclass multichannel_sinc_conv(nn.Module):\\n    \"\"\"\\n     extention of the https://github.com/mravanelli/SincNet\\n    \"\"\"\\n    def __freqinit__(self):\\n        if self.cutfreq_type == \\'mel\\':\\n            low_freq_mel = 80\\n            high_freq_mel = (2595 * np.log10(1 + (self.fs / 2) / 700))  # Convert Hz to Mel\\n            mel_points = np.linspace(low_freq_mel, high_freq_mel, self.N_filt)  # Equally spaced in Mel scale\\n            f_cos = (700 * (10**(mel_points / 2595) - 1)) # Convert Mel to Hz\\n            b1=np.roll(f_cos,1)\\n            b2=np.roll(f_cos,-1)\\n            b1[0] = 30\\n            b2[-1] = (self.fs/2)-100\\n        elif self.cutfreq_type == \\'pre_defined\\':\\n            b1 = np.array([15,35,80])\\n            b2 = np.array([25,50,90])\\n        elif self.cutfreq_type == \\'random\\':\\n            eeg_const = 100\\n            b1 = np.random.randint(10,int(self.fs//2)-10,[self.N_filt])\\n            #b1 = 10 * np.ones([self.N_filt])\\n            b2 = np.minimum(b1+5,int(self.fs//2))        \\n            b1 = b1.tolist()\\n            b2 = b2.tolist()\\n        else:\\n            raise NotImplementedError\\n        bands_low = []\\n        bands_high = []\\n        for i in range(self.N_channels):\\n            bands_low.append(b1)\\n            bands_high.append(b2)\\n        bands_low = np.array(bands_low).astype(\\'float32\\')\\n        bands_high = np.array(bands_high).astype(\\'float32\\')\\n        return (bands_low,bands_high)\\n\\n    def get_filter_bank(self,beg_freq,end_freq):\\n        if self.filt_type == \\'sinc\\':\\n            t_right = (torch.linspace(1, (self.Filt_dim-1)/2, steps=int((self.Filt_dim-1)/2))/self.fs).to(self.device)\\n            low_pass1 = 2*beg_freq.float()*self.sinc(beg_freq.float()*self.fs,t_right)\\n            low_pass2 = 2*end_freq.float()*self.sinc(end_freq.float()*self.fs,t_right)\\n            band_pass = (low_pass2-low_pass1)\\n            band_pass = band_pass/torch.max(band_pass)\\n            return band_pass.to(self.device)*self.window\\n        elif self.filt_type == \\'firwin\\':\\n            raise NotImplementedError\\n            cut1 = beg_freq.float().detach().cpu().numpy()*self.fs\\n            cut2 = end_freq.float().detach().cpu().numpy()*self.fs\\n            cut1 = np.round(cut1)\\n            cut2 = np.round(cut2)\\n            band_pass = sp.signal.firwin(self.Filt_dim, [cut1,cut2], pass_zero=False,fs=self.fs,window=\\'hamming\\')\\n            band_pass = torch.from_numpy(band_pass.astype(\\'float32\\'))\\n            band_pass = nn.Parameter(band_pass.to(self.device))\\n            return band_pass\\n        else:\\n            raise NotImplementedError\\n\\n    def __init__(self, \\n                 N_filt = 12, \\n                 N_channels = 27, \\n                 Filt_dim = 5, \\n                 fs = 100,\\n                 cutfreq_type = \\'mel\\', \\n                 filt_type = \\'sinc\\',\\n                 device = \\'cuda\\'):\\n        super(multichannel_sinc_conv,self).__init__()\\n        self.cutfreq_type = cutfreq_type\\n        self.fs = float(fs)\\n        self.device = device\\n        self.sinc = Sinc(self.device)\\n        self.filt_type = filt_type\\n        self.N_channels = N_channels\\n        self.N_filt = N_filt\\n        self.Filt_dim = Filt_dim\\n        bands = self.__freqinit__()\\n        self.bands_low = bands[0]\\n        self.bands_high = bands[1]\\n        self.filt_low = nn.Parameter(torch.from_numpy(self.bands_low/self.fs).to(self.device))\\n        self.filt_band = nn.Parameter(torch.from_numpy((self.bands_high-self.bands_low)/self.fs).to(self.device))        \\n        n = torch.linspace(0, self.Filt_dim, steps=self.Filt_dim)\\n        #hamming = 0.54-0.46*torch.cos(2*math.pi*n/self.Filt_dim)\\n        blackman = 0.42 - 0.5*torch.cos(2*math.pi*n/self.Filt_dim)\\n        blackman += 0.08*torch.cos(4*math.pi*n/self.Filt_dim)\\n        self.window = blackman.float().to(self.device)\\n        \\n    def forward(self, x):\\n        k = 0\\n        min_freq=1.0;\\n        min_band=10.0;\\n        filters = torch.zeros((self.N_filt*self.N_channels,self.Filt_dim)).to(self.device)\\n        for j in range(self.N_channels):    \\n            filt_beg_freq = torch.abs(self.filt_low)[j] + min_freq/self.fs\\n            filt_end_freq = (filt_beg_freq+(torch.abs(self.filt_band)))[j]\\n            for i in range(self.N_filt):\\n                band_pass = self.get_filter_bank(filt_beg_freq[i],filt_end_freq[i]) \\n                filters[k,:] = band_pass\\n                k+=1\\n        filters = filters.view(self.N_filt*self.N_channels,1,self.Filt_dim)\\n        return F.conv1d(x,filters,groups=self.N_channels)',\n",
       " 'utils.py': b'import numpy as np\\nimport matplotlib.pyplot as plt\\n\\ndef sliding_window(sequence,\\n                   win_size = 20, step = 5):\\n    nb_chunks = ((len(sequence)-win_size)//step)+1\\n    for i in range(0,nb_chunks*step,step):\\n        yield sequence[i:i+win_size]\\n\\ndef major_filter(activity):\\n    unique, counts = np.unique(activity, return_counts=True)\\n    return unique[np.argmax(counts)]\\n\\ndef one_hot(a, num_classes = 4):\\n    a = a.astype(\\'int32\\') - 1\\n    return np.squeeze(np.eye(num_classes)[a.reshape(-1)])\\n\\n\\ndef create_conf_matrix(y_true, y_pred, n_classes = 4):\\n    \"\"\"\\n        src : https://stackoverflow.com/questions/2148543/how-to-write-a-confusion-matrix-in-python\\n    \"\"\"\\n    m = np.zeros([n_classes,n_classes],dtype=np.int32)\\n    for pred, exp in zip(y_pred,y_true):\\n        m[pred][exp] += 1\\n    return m'}"
      ]
     },
     "execution_count": 4,
     "metadata": {
      "tags": []
     },
     "output_type": "execute_result"
    }
   ],
   "source": [
    "from google.colab import files\n",
    "files.upload()"
   ]
  },
  {
   "cell_type": "code",
   "execution_count": 0,
   "metadata": {
    "colab": {},
    "colab_type": "code",
    "id": "j8jfj7N2DZzf"
   },
   "outputs": [],
   "source": [
    "from utils import *\n",
    "from datasets import *\n",
    "from layers import *\n",
    "from wldhx import yadisk_direct"
   ]
  },
  {
   "cell_type": "code",
   "execution_count": 6,
   "metadata": {
    "colab": {
     "base_uri": "https://localhost:8080/",
     "height": 85
    },
    "colab_type": "code",
    "id": "F4TmyJ4DytQR",
    "outputId": "b3c96400-7f2c-474f-d355-476c164da0f7"
   },
   "outputs": [
    {
     "name": "stdout",
     "output_type": "stream",
     "text": [
      "  % Total    % Received % Xferd  Average Speed   Time    Time     Time  Current\n",
      "                                 Dload  Upload   Total   Spent    Left  Speed\n",
      "  0     0    0     0    0     0      0      0 --:--:-- --:--:-- --:--:--     0\n",
      "100  753M    0  753M    0     0  2366k      0 --:--:--  0:05:26 --:--:--  980k\n"
     ]
    }
   ],
   "source": [
    "!curl -L $(yadisk-direct https://yadi.sk/d/lxgnGR5Sf8VhHg) -o PAMAP2_Dataset.zip"
   ]
  },
  {
   "cell_type": "markdown",
   "metadata": {
    "colab_type": "text",
    "id": "IxP7QnU7DZzh"
   },
   "source": [
    "## Datasets"
   ]
  },
  {
   "cell_type": "code",
   "execution_count": 0,
   "metadata": {
    "colab": {},
    "colab_type": "code",
    "id": "C_dmVB_HzrZc"
   },
   "outputs": [],
   "source": [
    "!mkdir data\n",
    "!mkdir data/sensors\n",
    "!mv PAMAP2_Dataset.zip data/sensors/PAMAP2_Dataset.zip"
   ]
  },
  {
   "cell_type": "code",
   "execution_count": 0,
   "metadata": {
    "colab": {},
    "colab_type": "code",
    "id": "iw2F5NQPDZzi"
   },
   "outputs": [],
   "source": [
    "data_root = 'data/sensors'\n",
    "data_fnzip =  \"%s/%s\" % (data_root , 'PAMAP2_Dataset.zip')\n",
    "data_url = 'http://archive.ics.uci.edu/ml/machine-learning-databases/00231/PAMAP2_Dataset.zip'"
   ]
  },
  {
   "cell_type": "code",
   "execution_count": 9,
   "metadata": {
    "colab": {
     "base_uri": "https://localhost:8080/",
     "height": 408
    },
    "colab_type": "code",
    "id": "ZHr8b3XsDZzl",
    "outputId": "27537ff5-7224-43e3-da79-da607541c9e7"
   },
   "outputs": [
    {
     "name": "stdout",
     "output_type": "stream",
     "text": [
      "  % Total    % Received % Xferd  Average Speed   Time    Time     Time  Current\n",
      "                                 Dload  Upload   Total   Spent    Left  Speed\n",
      "100  656M  100  656M    0     0  41.1M      0  0:00:15  0:00:15 --:--:-- 43.5M\n",
      "Archive:  data/sensors/PAMAP2_Dataset.zip\n",
      "  inflating: data/sensors/PAMAP2_Dataset/Protocol/subject101.dat  \n",
      "  inflating: data/sensors/PAMAP2_Dataset/Protocol/subject102.dat  \n",
      "  inflating: data/sensors/PAMAP2_Dataset/Protocol/subject103.dat  \n",
      "  inflating: data/sensors/PAMAP2_Dataset/Protocol/subject104.dat  \n",
      "  inflating: data/sensors/PAMAP2_Dataset/Protocol/subject105.dat  \n",
      "  inflating: data/sensors/PAMAP2_Dataset/Protocol/subject106.dat  \n",
      "  inflating: data/sensors/PAMAP2_Dataset/Protocol/subject107.dat  \n",
      "  inflating: data/sensors/PAMAP2_Dataset/Protocol/subject108.dat  \n",
      "  inflating: data/sensors/PAMAP2_Dataset/Protocol/subject109.dat  \n",
      "  inflating: data/sensors/PAMAP2_Dataset/Optional/subject101.dat  \n",
      "  inflating: data/sensors/PAMAP2_Dataset/Optional/subject105.dat  \n",
      "  inflating: data/sensors/PAMAP2_Dataset/Optional/subject106.dat  \n",
      "  inflating: data/sensors/PAMAP2_Dataset/Optional/subject108.dat  \n",
      "  inflating: data/sensors/PAMAP2_Dataset/Optional/subject109.dat  \n",
      "  inflating: data/sensors/PAMAP2_Dataset/PerformedActivitiesSummary.pdf  \n",
      "  inflating: data/sensors/PAMAP2_Dataset/DescriptionOfActivities.pdf  \n",
      "  inflating: data/sensors/PAMAP2_Dataset/DataCollectionProtocol.pdf  \n",
      "  inflating: data/sensors/PAMAP2_Dataset/subjectInformation.pdf  \n",
      "  inflating: data/sensors/PAMAP2_Dataset/readme.pdf  \n"
     ]
    }
   ],
   "source": [
    "if not os.path.exists(data_fnzip[:-4]):\n",
    "    !curl -L $data_url -o $data_fnzip\n",
    "    !unzip $data_fnzip -d $data_root"
   ]
  },
  {
   "cell_type": "code",
   "execution_count": 0,
   "metadata": {
    "colab": {},
    "colab_type": "code",
    "id": "czAh8YgrDZzn"
   },
   "outputs": [],
   "source": [
    "path2subjets = sorted(glob2.glob('%s/PAMAP2_Dataset/Protocol/*.dat' % data_root))"
   ]
  },
  {
   "cell_type": "code",
   "execution_count": 0,
   "metadata": {
    "colab": {},
    "colab_type": "code",
    "id": "sCz5iESpDZzq"
   },
   "outputs": [],
   "source": [
    "def pamap_columns():\n",
    "    \"\"\"\n",
    "        https://github.com/NLeSC/mcfly-tutorial/blob/master/utils/tutorial_pamap2.py\n",
    "    \"\"\"\n",
    "    axes = ['x', 'y', 'z']\n",
    "    IMUsensor_columns = ['temperature'] + \\\n",
    "        ['acc_16g_' + i for i in axes] + \\\n",
    "        ['acc_6g_' + i for i in axes] + \\\n",
    "        ['gyroscope_' + i for i in axes] + \\\n",
    "        ['magnometer_' + i for i in axes] + \\\n",
    "        ['orientation_' + str(i) for i in range(4)]\n",
    "    columns = [\"timestamp\", \"activityID\", \"heartrate\"] + [\"hand_\" + s\n",
    "                                                         for s in IMUsensor_columns] \\\n",
    "        + [\"chest_\" + s for s in IMUsensor_columns] + [\"ankle_\" + s\n",
    "                                                       for s in IMUsensor_columns]\n",
    "    return columns"
   ]
  },
  {
   "cell_type": "code",
   "execution_count": 0,
   "metadata": {
    "colab": {},
    "colab_type": "code",
    "id": "ND4WszI5DZzs"
   },
   "outputs": [],
   "source": [
    "#overlap = []\n",
    "#for i in tqdm(range(n_subjects)):\n",
    "#    subject = pd.read_csv(path2subjets[i],header=None,sep=' ')\n",
    "#    subject.columns = pamap_columns()\n",
    "#    overlap.append(subject['activityID'].values)\n",
    "#overlap = np.hstack(overlap)\n",
    "#overlap = [num2label[e] for e in np.unique(overlap)[1:]]"
   ]
  },
  {
   "cell_type": "code",
   "execution_count": 0,
   "metadata": {
    "colab": {},
    "colab_type": "code",
    "id": "sUDfPdY2DZzv"
   },
   "outputs": [],
   "source": [
    "demo_activities = \"lying,sitting,standing,walking\".split(',')"
   ]
  },
  {
   "cell_type": "code",
   "execution_count": 0,
   "metadata": {
    "colab": {},
    "colab_type": "code",
    "id": "QzwTjF9hDZzx"
   },
   "outputs": [],
   "source": [
    "subset_activities = ['lying',\n",
    " 'sitting',\n",
    " 'standing',\n",
    " 'walking',\n",
    " 'running',\n",
    " 'cycling',\n",
    " 'Nordic walking',\n",
    " 'ascending stairs',\n",
    " 'descending stairs',\n",
    " 'vacuum cleaning',\n",
    " 'ironing',\n",
    " 'rope jumping']"
   ]
  },
  {
   "cell_type": "code",
   "execution_count": 0,
   "metadata": {
    "colab": {},
    "colab_type": "code",
    "id": "LfOteG-_DZz0"
   },
   "outputs": [],
   "source": [
    "all_columns = pamap_columns()"
   ]
  },
  {
   "cell_type": "code",
   "execution_count": 0,
   "metadata": {
    "colab": {},
    "colab_type": "code",
    "id": "tqS7rpQvDZz2"
   },
   "outputs": [],
   "source": [
    "input_channels = len(data_columns)"
   ]
  },
  {
   "cell_type": "code",
   "execution_count": 0,
   "metadata": {
    "colab": {},
    "colab_type": "code",
    "id": "qNh57qk5DZz5"
   },
   "outputs": [],
   "source": [
    "win_size = 256\n",
    "step = 128"
   ]
  },
  {
   "cell_type": "code",
   "execution_count": 0,
   "metadata": {
    "colab": {},
    "colab_type": "code",
    "id": "7ayYsXg6DZz9"
   },
   "outputs": [],
   "source": [
    "demo_mode = False"
   ]
  },
  {
   "cell_type": "code",
   "execution_count": 0,
   "metadata": {
    "colab": {},
    "colab_type": "code",
    "id": "k-B7e_uMDZ0A"
   },
   "outputs": [],
   "source": [
    "activities = demo_activities if demo_mode else  subset_activities"
   ]
  },
  {
   "cell_type": "code",
   "execution_count": 19,
   "metadata": {
    "colab": {
     "base_uri": "https://localhost:8080/",
     "height": 34
    },
    "colab_type": "code",
    "id": "OB58rkOtDZ0D",
    "outputId": "9c61324b-030b-44ac-9b93-169e9aac82e5"
   },
   "outputs": [
    {
     "name": "stderr",
     "output_type": "stream",
     "text": [
      "100%|██████████| 9/9 [00:26<00:00,  2.39s/it]\n"
     ]
    }
   ],
   "source": [
    "subjects = []\n",
    "n_subjects = len(path2subjets)\n",
    "for i in tqdm(range(n_subjects)):\n",
    "    subject = pd.read_csv(path2subjets[i],header=None,sep=' ')\n",
    "    subject.columns = pamap_columns()\n",
    "    subject = subject[subject['activityID'].isin([label2num[a] for a in activities])]\n",
    "    subject['activityID'] =  subject['activityID'].apply(lambda a: activities.index(num2label[a]))\n",
    "    subject = subject[useful_columns]\n",
    "    if len(subject) > 0:\n",
    "        subject = subject.fillna(0)\n",
    "        #subject = subject.iloc[:min_len]\n",
    "        subjects.append(subject)"
   ]
  },
  {
   "cell_type": "code",
   "execution_count": 0,
   "metadata": {
    "colab": {},
    "colab_type": "code",
    "id": "BXkEwBe6DZ0G"
   },
   "outputs": [],
   "source": [
    "num_classes = len(activities)"
   ]
  },
  {
   "cell_type": "code",
   "execution_count": 21,
   "metadata": {
    "colab": {
     "base_uri": "https://localhost:8080/",
     "height": 68
    },
    "colab_type": "code",
    "id": "21IwtJNvDZ0I",
    "outputId": "7709024c-7e63-446e-98c4-53c72072dada"
   },
   "outputs": [
    {
     "name": "stderr",
     "output_type": "stream",
     "text": [
      "100%|██████████| 9/9 [00:25<00:00,  2.79s/it]\n",
      "100%|██████████| 9/9 [00:24<00:00,  2.77s/it]\n",
      "100%|██████████| 9/9 [00:24<00:00,  2.77s/it]\n"
     ]
    }
   ],
   "source": [
    "train_dataset = pamap2Dataset(subjects,fold='train',num_classes=num_classes,win_size=win_size,step=step)\n",
    "val_dataset = pamap2Dataset(subjects,fold='val',num_classes=num_classes,win_size=win_size)\n",
    "test_dataset = pamap2Dataset(subjects,fold='test',num_classes=num_classes,test_subject = 6,win_size=win_size,step=step)"
   ]
  },
  {
   "cell_type": "code",
   "execution_count": 23,
   "metadata": {
    "colab": {
     "base_uri": "https://localhost:8080/",
     "height": 34
    },
    "colab_type": "code",
    "id": "O-7-UwjVDZ0M",
    "outputId": "1326cd16-1e71-4ebf-ab4c-f1b8b083a8c8"
   },
   "outputs": [
    {
     "data": {
      "text/plain": [
       "(9342, 4005, 1817)"
      ]
     },
     "execution_count": 23,
     "metadata": {
      "tags": []
     },
     "output_type": "execute_result"
    }
   ],
   "source": [
    "len(train_dataset),len(val_dataset),len(test_dataset)"
   ]
  },
  {
   "cell_type": "code",
   "execution_count": 0,
   "metadata": {
    "colab": {},
    "colab_type": "code",
    "id": "nGzZU7X3DZ0P"
   },
   "outputs": [],
   "source": [
    "#train_lb = np.argmax(train_dataset.labels,-1)\n",
    "#val_lb = np.argmax(val_dataset.val_labels,-1)"
   ]
  },
  {
   "cell_type": "code",
   "execution_count": 0,
   "metadata": {
    "colab": {},
    "colab_type": "code",
    "id": "VS0OzybnDZ0R"
   },
   "outputs": [],
   "source": [
    "#plt.hist(train_lb)"
   ]
  },
  {
   "cell_type": "markdown",
   "metadata": {
    "colab_type": "text",
    "id": "4GNbKNLGDZ0T"
   },
   "source": [
    "# Models"
   ]
  },
  {
   "cell_type": "code",
   "execution_count": 0,
   "metadata": {
    "colab": {},
    "colab_type": "code",
    "id": "1CU-olW2DZ0U"
   },
   "outputs": [],
   "source": [
    "class Conv1DNet(nn.Module):\n",
    "    \n",
    "    def __init__(self):\n",
    "        super(self.__class__, self).__init__()\n",
    "        self.input_bn = nn.BatchNorm1d(input_channels)\n",
    "        self.conv11 = nn.Conv1d(in_channels=input_channels, out_channels=64, kernel_size=3, padding=1)\n",
    "        self.pool11 = nn.MaxPool1d(kernel_size=2)\n",
    "        self.conv21 = nn.Conv1d(in_channels=64, out_channels=128, kernel_size=3, padding=1)\n",
    "        self.pool21 = nn.MaxPool1d(kernel_size=2)\n",
    "        self.conv31 = nn.Conv1d(in_channels=128, out_channels=256, kernel_size=3, padding=1)\n",
    "        self.pool31 = nn.MaxPool1d(kernel_size=2)\n",
    "        #self.gpool = GlobalMaxPooling()\n",
    "        self.fc1 = nn.Linear(256*(win_size//(2**3)),512)\n",
    "        self.fc2 = nn.Linear(512,512)\n",
    "        self.logit = nn.Linear(512,num_classes)\n",
    "        \n",
    "        self.features = nn.Sequential(\n",
    "             self.input_bn,\n",
    "             self.conv11,self.pool11,\n",
    "             nn.ReLU(),                            \n",
    "             self.conv21,self.pool21,\n",
    "             nn.ReLU(),\n",
    "             self.conv31,self.pool31,\n",
    "             nn.ReLU(),\n",
    "             Flatten(),\n",
    "        )\n",
    "        \n",
    "        self.classifier = nn.Sequential(\n",
    "             self.fc1,\n",
    "             nn.ReLU(),\n",
    "             self.fc2,\n",
    "             nn.ReLU(),\n",
    "             self.logit,\n",
    "        )\n",
    "        \n",
    "    def forward(self,input):\n",
    "        features = self.features(input)\n",
    "        return self.classifier(features)"
   ]
  },
  {
   "cell_type": "code",
   "execution_count": 0,
   "metadata": {
    "colab": {},
    "colab_type": "code",
    "id": "fGWfl7LdDZ0W"
   },
   "outputs": [],
   "source": [
    "class MultiSincNet(nn.Module):\n",
    "    \n",
    "    def __init__(self,\n",
    "                 N_filt = 12,  \n",
    "                 Filt_dim = 5, \n",
    "                 fs = 100,\n",
    "                 device = \"cuda\"):\n",
    "        super(self.__class__, self).__init__()\n",
    "        self.input_bn = nn.BatchNorm1d(input_channels)\n",
    "        self.fs = fs\n",
    "        self.device = device\n",
    "        self.sincconv = multichannel_sinc_conv(Filt_dim=Filt_dim,\n",
    "                                  N_channels=input_channels,\n",
    "                                  N_filt=N_filt,\n",
    "                                  fs=fs,\n",
    "                                  device = device)\n",
    "        self.layer_norm = LayerNorm(win_size-Filt_dim+1)\n",
    "        self.conv11 = nn.Conv1d(in_channels=324, out_channels=64, kernel_size=3, padding=1)\n",
    "        self.pool11 = nn.MaxPool1d(kernel_size=2)\n",
    "        self.conv21 = nn.Conv1d(in_channels=64, out_channels=128, kernel_size=3, padding=1)\n",
    "        self.pool21 = nn.MaxPool1d(kernel_size=2)\n",
    "        self.conv31 = nn.Conv1d(in_channels=128, out_channels=256, kernel_size=3, padding=1)\n",
    "        self.pool31 = nn.MaxPool1d(kernel_size=2)\n",
    "        #self.gpool = GlobalMaxPooling()\n",
    "        self.fc1 = nn.Linear(7936,512)\n",
    "        self.fc2 = nn.Linear(512,512)\n",
    "        self.logit = nn.Linear(512,num_classes)\n",
    "        \n",
    "        self.features = nn.Sequential(\n",
    "             self.input_bn,\n",
    "             self.sincconv,\n",
    "             #self.layer_norm,\n",
    "             self.conv11,\n",
    "             nn.LeakyReLU(),\n",
    "             self.pool11,\n",
    "             nn.LeakyReLU(),                            \n",
    "             self.conv21,self.pool21,\n",
    "             nn.LeakyReLU(),\n",
    "             self.conv31,self.pool31,\n",
    "             nn.LeakyReLU(),\n",
    "             Flatten(),\n",
    "        )\n",
    "        \n",
    "        self.classifier = nn.Sequential(\n",
    "             self.fc1,\n",
    "             nn.LeakyReLU(),\n",
    "             self.fc2,\n",
    "             nn.LeakyReLU(),\n",
    "             self.logit,\n",
    "        )\n",
    "        \n",
    "    def forward(self,input):\n",
    "        features = self.features(input)\n",
    "        return self.classifier(features)"
   ]
  },
  {
   "cell_type": "code",
   "execution_count": 0,
   "metadata": {
    "colab": {},
    "colab_type": "code",
    "id": "ZrKSr0B1DZ0Y"
   },
   "outputs": [],
   "source": [
    "class Conv1DLstmNet(nn.Module):\n",
    "    \n",
    "    def __init__(self):\n",
    "        super(self.__class__, self).__init__()\n",
    "        self.input_bn = nn.BatchNorm1d(input_channels)\n",
    "        self.conv11 = nn.Conv1d(in_channels=input_channels, out_channels=64, kernel_size=3, padding=1)\n",
    "        self.pool11 = nn.MaxPool1d(kernel_size=2)\n",
    "        self.conv21 = nn.Conv1d(in_channels=64, out_channels=128, kernel_size=3, padding=1)\n",
    "        self.pool21 = nn.MaxPool1d(kernel_size=2)\n",
    "        self.conv31 = nn.Conv1d(in_channels=128, out_channels=256, kernel_size=3, padding=1)\n",
    "        self.pool31 = nn.MaxPool1d(kernel_size=2)\n",
    "        self.lstm1 = nn.LSTM(input_size=256,hidden_size=512,batch_first=True)\n",
    "        self.fc1 = nn.Linear(2*win_size*(win_size//(2**3)),512)\n",
    "        self.fc2 = nn.Linear(512,512)\n",
    "        self.logit = nn.Linear(512,num_classes)\n",
    "        \n",
    "        self.features = nn.Sequential(\n",
    "             self.input_bn,\n",
    "             self.conv11,self.pool11,\n",
    "             nn.ReLU(),                            \n",
    "             self.conv21,self.pool21,\n",
    "             nn.ReLU(),\n",
    "             self.conv31,self.pool31,\n",
    "             nn.ReLU(),\n",
    "        )\n",
    "        \n",
    "\n",
    "        \n",
    "        self.classifier = nn.Sequential(\n",
    "             self.fc1,\n",
    "             nn.ReLU(),\n",
    "             self.fc2,\n",
    "             nn.ReLU(),\n",
    "             self.logit,\n",
    "        )\n",
    "        \n",
    "    def forward(self,input):\n",
    "        features = self.features(input).transpose(1, 2)\n",
    "        features, (hn,cn) = self.lstm1(features)\n",
    "        features = Flatten()(features.transpose(1, 2).contiguous())\n",
    "        return self.classifier(features)"
   ]
  },
  {
   "cell_type": "code",
   "execution_count": 0,
   "metadata": {
    "colab": {},
    "colab_type": "code",
    "id": "UJtSyrfrDZ0a"
   },
   "outputs": [],
   "source": [
    "class MultiSincLstmNet(nn.Module):\n",
    "    \n",
    "    def __init__(self,\n",
    "                 N_filt = 12,  \n",
    "                 Filt_dim = 5, \n",
    "                 fs = 100,\n",
    "                 device = \"cuda\"):\n",
    "        super(self.__class__, self).__init__()\n",
    "        self.input_bn = nn.BatchNorm1d(input_channels)\n",
    "        self.fs = fs\n",
    "        self.device = device\n",
    "        self.sincconv = multichannel_sinc_conv(Filt_dim=Filt_dim,\n",
    "                                  N_channels=input_channels,\n",
    "                                  N_filt=N_filt,\n",
    "                                  fs=fs,\n",
    "                                  device = device)\n",
    "        self.layer_norm = LayerNorm(win_size-Filt_dim+1)\n",
    "        self.conv11 = nn.Conv1d(in_channels=324, out_channels=64, kernel_size=3, padding=1)\n",
    "        self.pool11 = nn.MaxPool1d(kernel_size=2)\n",
    "        self.conv21 = nn.Conv1d(in_channels=64, out_channels=128, kernel_size=3, padding=1)\n",
    "        self.pool21 = nn.MaxPool1d(kernel_size=2)\n",
    "        self.conv31 = nn.Conv1d(in_channels=128, out_channels=256, kernel_size=3, padding=1)\n",
    "        self.pool31 = nn.MaxPool1d(kernel_size=2)\n",
    "        self.lstm1 = nn.LSTM(input_size=256,hidden_size=512,batch_first=True)\n",
    "        self.fc1 = nn.Linear(7936*2,512)\n",
    "        self.fc2 = nn.Linear(512,512)\n",
    "        self.logit = nn.Linear(512,num_classes)\n",
    "        \n",
    "        self.features = nn.Sequential(\n",
    "             self.input_bn,\n",
    "             self.sincconv,\n",
    "             #self.layer_norm,\n",
    "             self.conv11,\n",
    "             nn.LeakyReLU(),\n",
    "             self.pool11,\n",
    "             nn.LeakyReLU(),                            \n",
    "             self.conv21,self.pool21,\n",
    "             nn.LeakyReLU(),\n",
    "             self.conv31,self.pool31,\n",
    "             nn.LeakyReLU(),\n",
    "        )\n",
    "        \n",
    "        self.classifier = nn.Sequential(\n",
    "             self.fc1,\n",
    "             nn.LeakyReLU(),\n",
    "             self.fc2,\n",
    "             nn.LeakyReLU(),\n",
    "             self.logit,\n",
    "        )\n",
    "        \n",
    "\n",
    "                \n",
    "    def forward(self,input):\n",
    "        features = self.features(input).transpose(1, 2)\n",
    "        features, (hn,cn) = self.lstm1(features)\n",
    "        features = Flatten()(features.transpose(1, 2).contiguous())\n",
    "        return self.classifier(features)"
   ]
  },
  {
   "cell_type": "code",
   "execution_count": 0,
   "metadata": {
    "colab": {},
    "colab_type": "code",
    "id": "FQr6oLzkSFEA"
   },
   "outputs": [],
   "source": [
    "def roll2(x, n):  \n",
    "    return torch.cat((x[:, :, -n:], x[:, :, :-n]), dim=2)"
   ]
  },
  {
   "cell_type": "code",
   "execution_count": 0,
   "metadata": {
    "colab": {},
    "colab_type": "code",
    "id": "Zbfo5qBP4ASy"
   },
   "outputs": [],
   "source": [
    "class get_features_isotropy(nn.Module):\n",
    "\n",
    "    def __init__(self, hidden_ch=32, krnl=32):\n",
    "        super(get_features_isotropy,self).__init__()\n",
    "        self.hidden_ch = hidden_ch\n",
    "        self.conv1 = nn.Conv1d(9, hidden_ch, krnl)\n",
    "        self.fc1 = nn.Conv1d(hidden_ch, 1, 1)\n",
    "        self.fc2 = nn.Conv1d(hidden_ch, 1, 1)\n",
    "        self.conv2 = nn.Conv1d(12, hidden_ch, krnl)\n",
    "        self.krnl = krnl\n",
    "\n",
    "    def forward(self, x):\n",
    "        h = x.clone().reshape(-1, 27, win_size).transpose(1, 2).reshape(-1, win_size, 3, 3, 3) # we will leave only the acceleration rows unchanged\n",
    "        h1 = h.clone()\n",
    "        for body_part in range(3):\n",
    "            for orientation in range(3):\n",
    "                h1[:, :, body_part, 1, orientation] = self.fc1(F.leaky_relu(self.conv1(F.pad(roll2(h[:, :, body_part], orientation).reshape(-1, win_size, 9), (0, 0, self.krnl-1, 0)).transpose(1, 2)))).reshape(-1, win_size)\n",
    "        h = torch.cat((h, h1[:, :, :, 1:2, :]), dim=3)\n",
    "        for body_part in range(3):\n",
    "            for orientation in range(3):\n",
    "                h1[:, :, body_part, 2, orientation] = self.fc2(F.leaky_relu(self.conv2(F.pad(roll2(h[:, :, body_part], orientation).reshape(-1, win_size, 12), (0, 0, self.krnl-1, 0)).transpose(1, 2)))).reshape(-1, win_size)\n",
    "        #return h1.reshape(-1, win_size, 27).transpose(1, 2).contiguous()\n",
    "        return h1.reshape(-1, win_size*27)"
   ]
  },
  {
   "cell_type": "code",
   "execution_count": 0,
   "metadata": {
    "colab": {},
    "colab_type": "code",
    "id": "m96AnD31RZjy"
   },
   "outputs": [],
   "source": [
    "class IsotropyNet(nn.Module):\n",
    "    \n",
    "    def __init__(self, krnl=32,\n",
    "                 device = \"cuda\"):\n",
    "        super(self.__class__, self).__init__()\n",
    "        self.input_bn = nn.BatchNorm1d(input_channels)\n",
    "        self.device = device\n",
    "        self.isotropic_features = get_features_isotropy(krnl=krnl)\n",
    "        self.fc1 = nn.Linear(27*256, 512)\n",
    "        self.fc2 = nn.Linear(512, 64)\n",
    "        #self.lstm1 = nn.LSTM(input_size=win_size,hidden_size=512,batch_first=True)\n",
    "        self.logit = nn.Linear(64,num_classes)\n",
    "        \n",
    "        self.classifier = nn.Sequential(\n",
    "             self.input_bn,\n",
    "             self.isotropic_features,\n",
    "             #Flatten(),\n",
    "             self.fc1,\n",
    "             nn.LeakyReLU(),\n",
    "             self.fc2,\n",
    "             nn.LeakyReLU(),\n",
    "             self.logit,\n",
    "        )\n",
    "        \n",
    "\n",
    "                \n",
    "    def forward(self,input):\n",
    "        #features = self.features(input).transpose(1, 2)\n",
    "        #features, (hn,cn) = self.lstm1(features)\n",
    "        #features = Flatten()(features.transpose(1, 2).contiguous())\n",
    "        return self.classifier(input)"
   ]
  },
  {
   "cell_type": "code",
   "execution_count": 0,
   "metadata": {
    "colab": {},
    "colab_type": "code",
    "id": "Ehg_d2lS51q7"
   },
   "outputs": [],
   "source": [
    "\n",
    "class IsotropyMultiSincLstmNet(nn.Module):\n",
    "    def __init__(self,\n",
    "                 N_filt = 12,  \n",
    "                 Filt_dim = 5, \n",
    "                 fs = 100,\n",
    "                 device = \"cuda\"):\n",
    "        super(self.__class__, self).__init__()\n",
    "        self.isotropy = get_features_isotropy()\n",
    "        self.net = MultiSincLstmNet(N_filt = N_filt, Filt_dim = Filt_dim, fs = fs, device = device)\n",
    "    def forward(self,input):\n",
    "        print(self.isotropy(input.transpose(1, 2)).shape)\n",
    "        return self.net(self.isotropy(input))"
   ]
  },
  {
   "cell_type": "code",
   "execution_count": 0,
   "metadata": {
    "colab": {},
    "colab_type": "code",
    "id": "YF2nQ3DL7IOh"
   },
   "outputs": [],
   "source": [
    "\n",
    "class IsotropyConv1DNet(nn.Module):\n",
    "    def __init__(self):\n",
    "        super(self.__class__, self).__init__()\n",
    "        self.isotropy = get_features_isotropy()\n",
    "        self.net = Conv1DNet()\n",
    "    def forward(self,input):\n",
    "        return self.net(self.isotropy(input.transpose(1, 2)).transpose(1, 2))"
   ]
  },
  {
   "cell_type": "markdown",
   "metadata": {
    "colab_type": "text",
    "id": "k5RdnHh5DZ0c"
   },
   "source": [
    "## Debug"
   ]
  },
  {
   "cell_type": "code",
   "execution_count": 29,
   "metadata": {
    "colab": {
     "base_uri": "https://localhost:8080/",
     "height": 34
    },
    "colab_type": "code",
    "id": "a8YHA2rxDZ0d",
    "outputId": "b47a23bf-757c-467c-e78e-8cc17bb8f58f"
   },
   "outputs": [
    {
     "name": "stdout",
     "output_type": "stream",
     "text": [
      "torch.Size([1, 12])\n"
     ]
    }
   ],
   "source": [
    "device = 'cuda'\n",
    "batch_size = 1\n",
    "model = IsotropyNet().to(device)\n",
    "dummy_batch = train_dataset.train_data[:batch_size]\n",
    "dummy_batch = torch.tensor(dummy_batch).transpose(2,1)\n",
    "prediction = model(dummy_batch.to(device))\n",
    "del model\n",
    "del dummy_batch\n",
    "print(prediction.shape)\n",
    "del prediction\n",
    "torch.cuda.empty_cache()"
   ]
  },
  {
   "cell_type": "markdown",
   "metadata": {
    "colab_type": "text",
    "id": "hNkgXG34DZ0g"
   },
   "source": [
    "## Experiments"
   ]
  },
  {
   "cell_type": "code",
   "execution_count": 0,
   "metadata": {
    "colab": {},
    "colab_type": "code",
    "id": "iJ17vooN5-K5"
   },
   "outputs": [],
   "source": [
    "!mkdir har-models"
   ]
  },
  {
   "cell_type": "code",
   "execution_count": 0,
   "metadata": {
    "colab": {},
    "colab_type": "code",
    "id": "IqTM3oRbDZ0h"
   },
   "outputs": [],
   "source": [
    "num_epochs = 50\n",
    "verbose = 5\n",
    "batch_size = 1024\n",
    "device = \"cuda\""
   ]
  },
  {
   "cell_type": "code",
   "execution_count": 0,
   "metadata": {
    "colab": {},
    "colab_type": "code",
    "id": "zVRPXQbTDZ0j"
   },
   "outputs": [],
   "source": [
    "\n",
    "def compute_loss(reference, prediction):\n",
    "    \"\"\"\n",
    "    \n",
    "    \"\"\"\n",
    "    reference = reference.to(device)\n",
    "    reference = torch.argmax(reference,dim=-1).to(torch.long)\n",
    "    prediction = prediction.log_softmax(dim=-1)\n",
    "    loss = nn.NLLLoss()(prediction,reference)\n",
    "    return loss\n",
    "  \n",
    "def compute_acc(reference, prediction):\n",
    "    \"\"\"\n",
    "    \n",
    "    \"\"\"\n",
    "    reference = reference.to(device)\n",
    "    prediction = torch.argmax(prediction.log_softmax(dim=-1),dim=-1)\n",
    "    reference = torch.argmax(reference,dim=-1)\n",
    "    return (reference == prediction).to(torch.float32).mean()\n",
    "  \n",
    "train_loader = torch.utils.data.DataLoader(train_dataset,batch_size=batch_size*4,shuffle=True)\n",
    "val_loader = torch.utils.data.DataLoader(val_dataset,batch_size=batch_size,shuffle=False)\n",
    "test_loader = torch.utils.data.DataLoader(test_dataset,batch_size=batch_size,shuffle=False)\n",
    "\n",
    "#model = Conv1DNet().to(device)\n",
    "#model = Conv1DLstmNet().to(device)\n",
    "#model = MultiSincNet(device=device).to(device)\n",
    "#model = MultiSincLstmNet(device=device).to(device)\n",
    "model = IsotropyNet(krnl=32).to(device)\n",
    "\n",
    "opt = torch.optim.Adam(model.parameters(), lr=1e-3,weight_decay=1e-5)\n",
    "\n",
    "best_acc = 0.\n",
    "best_loss = np.inf\n",
    "sPATH = ''\n",
    "fmt_str = 'har-models/%s_%dclass_%.4f.pth'\n",
    "\n",
    "epoch_wo_progress=0"
   ]
  },
  {
   "cell_type": "code",
   "execution_count": 0,
   "metadata": {
    "colab": {},
    "colab_type": "code",
    "id": "bsvmI8XwDZ0w"
   },
   "outputs": [],
   "source": [
    "from collections import  defaultdict\n",
    "report  = defaultdict(list)"
   ]
  },
  {
   "cell_type": "code",
   "execution_count": 0,
   "metadata": {
    "colab": {},
    "colab_type": "code",
    "id": "gbFgRSmGDZ0y"
   },
   "outputs": [],
   "source": [
    "from IPython import display"
   ]
  },
  {
   "cell_type": "code",
   "execution_count": 89,
   "metadata": {
    "colab": {
     "base_uri": "https://localhost:8080/",
     "height": 499
    },
    "colab_type": "code",
    "id": "RVdWpQa5DZ02",
    "outputId": "1a876520-9b38-433f-a6b3-f77ab27be226"
   },
   "outputs": [
    {
     "data": {
      "image/png": "[encoded data removed]",
      "text/plain": [
       "<Figure size 432x288 with 1 Axes>"
      ]
     },
     "metadata": {
      "tags": []
     },
     "output_type": "display_data"
    },
    {
     "name": "stdout",
     "output_type": "stream",
     "text": [
      "49\tTraining:\n",
      "\tLoss:\t0.01407\n",
      "\tACC:\t0.99700\n",
      "49\tValidation:\n",
      "\tBEST VAL loss:\t0.23282\n",
      "\tLoss:\t0.26209\n",
      "\tval ACC:\t0.93633\n",
      "49\tTesting:\n",
      "\tLoss:\t0.15164\n",
      "\ttest ACC:\t0.93176\n",
      "\n",
      "\n"
     ]
    }
   ],
   "source": [
    "\n",
    "for epoch in range(num_epochs):\n",
    "    train_loss = train_acc = train_batches = 0 \n",
    "    train_acc_fixed = 0\n",
    "    model.train()\n",
    "    y_true,y_pred = [],[]\n",
    "    start = time.time()\n",
    "    for batch in train_loader:\n",
    "        \n",
    "        data,reference = batch\n",
    "        data = data.transpose(1, 2).to(device)\n",
    "#        print(data.transpose(1, 2).shape)\n",
    "        prediction = model(data)\n",
    "        y_true.append(reference)\n",
    "        y_pred.append(prediction)\n",
    "        loss = compute_loss(reference, prediction)\n",
    "        loss.backward()\n",
    "        opt.step()\n",
    "        opt.zero_grad()\n",
    "        \n",
    "        with torch.no_grad():\n",
    "            train_loss += loss.item()\n",
    "            train_batches += 1\n",
    "    y_true = torch.cat(y_true,dim=0)\n",
    "    y_pred = torch.cat(y_pred,dim=0)\n",
    "    \n",
    "    with torch.no_grad():\n",
    "        train_acc += compute_acc(y_true, y_pred).cpu().numpy()\n",
    "    \n",
    "    val_loss = val_acc = val_batches = 0\n",
    "    val_acc_fixed = 0\n",
    "    #model.train(False)\n",
    "    model.eval()\n",
    "    y_true,y_pred = [],[]\n",
    "    for batch in val_loader:\n",
    "        data,reference = batch\n",
    "        \n",
    "        #reference = torch.cat([reference]*)\n",
    "        \n",
    "        data = data.transpose(1, 2).to(device)\n",
    "        prediction = model(data)\n",
    "        y_true.append(reference)\n",
    "        y_pred.append(prediction)\n",
    "        loss = compute_loss(reference, prediction)\n",
    "        with torch.no_grad():\n",
    "            val_loss += loss.item()\n",
    "            \n",
    "            val_batches += 1\n",
    "    y_true = torch.cat(y_true,dim=0)\n",
    "    y_pred = torch.cat(y_pred,dim=0)\n",
    "    with torch.no_grad():\n",
    "        val_acc += compute_acc(y_true, y_pred).cpu().numpy()\n",
    "    #val_acc = (val_acc / val_batches)\n",
    "    val_loss = (val_loss / val_batches)\n",
    "    \n",
    "    y_true,y_pred = [],[]\n",
    "    test_loss = test_acc = test_batches = 0\n",
    "    for batch in test_loader:\n",
    "        data,reference = batch\n",
    "        data = data.transpose(2,1).to(device)\n",
    "        prediction = model(data)\n",
    "        y_true.append(reference)\n",
    "        y_pred.append(prediction)\n",
    "        #print(len(reference),len(prediction))\n",
    "        loss = compute_loss(reference, prediction)\n",
    "        with torch.no_grad():\n",
    "            test_loss += loss.item()\n",
    "            \n",
    "            test_batches += 1\n",
    "    y_true = torch.cat(y_true,dim=0)\n",
    "    y_pred = torch.cat(y_pred,dim=0)\n",
    "    with torch.no_grad():\n",
    "        test_acc += compute_acc(y_true, y_pred).cpu().numpy()\n",
    "    #test_acc = (test_acc / test_batches)\n",
    "    \n",
    "    test_loss = (test_loss / test_batches)\n",
    "    \n",
    "    \n",
    "    \n",
    "    if val_loss < best_loss:\n",
    "        epoch_wo_progress=0\n",
    "        best_loss = val_loss\n",
    "        if sPATH != '' and os.path.exists(sPATH):\n",
    "            os.remove(sPATH)\n",
    "        sPATH = fmt_str % (model.__class__.__name__,num_classes,best_loss)\n",
    "        torch.save(model.state_dict(),sPATH)\n",
    "    else:\n",
    "        epoch_wo_progress += 1\n",
    "#        if epoch_wo_progress>15:\n",
    "#            print(\"Early Stopping\")\n",
    "#            break\n",
    "    report['train_loss'].append(train_loss / train_batches)\n",
    "    report['val_loss'].append(val_loss)\n",
    "    report['test_loss'].append(test_loss)\n",
    "    finish = time.time()\n",
    "    time_epoch = finish-start    \n",
    "    display.clear_output(wait=True)\n",
    "    fig = plt.Figure(figsize=(20,20),facecolor='white')\n",
    "    plt.plot(report['train_loss'],color='green',label='train_loss')\n",
    "    plt.plot(report['val_loss'],color='magenta',label='val_loss')\n",
    "    plt.plot(report['test_loss'],color='red',label='test_loss')\n",
    "    plt.xlabel(\"#Epoch %d, %.3f seconds per epoch\" % (epoch,time_epoch))\n",
    "    plt.ylabel(\"#Loss\")\n",
    "    plt.title(model.__class__.__name__)\n",
    "    legend(loc=2, prop={'size': 12})\n",
    "    plt.grid()\n",
    "    plt.show()\n",
    "    \n",
    "    print(\"%d\\tTraining:\" % (epoch))\n",
    "        \n",
    "    print(\"\\tLoss:\\t%.5f\" % (train_loss / train_batches))\n",
    "    print(\"\\tACC:\\t%.5f\" % (train_acc))\n",
    "    print(\"%d\\tValidation:\" % (epoch))\n",
    "    print(\"\\tBEST VAL loss:\\t%.5f\" % best_loss)\n",
    "    print(\"\\tLoss:\\t%.5f\" % val_loss)\n",
    "    print(\"\\tval ACC:\\t%.5f\" % val_acc)\n",
    "    print(\"%d\\tTesting:\" % (epoch))\n",
    "    print(\"\\tLoss:\\t%.5f\" % (test_loss / test_batches))\n",
    "    print(\"\\ttest ACC:\\t%.5f\" % test_acc)\n",
    "    print('\\n')\n",
    "    \n",
    "    \n",
    "    if epoch  % verbose == 0 or epoch == num_epochs - 1:\n",
    "        pass"
   ]
  },
  {
   "cell_type": "code",
   "execution_count": 0,
   "metadata": {
    "colab": {},
    "colab_type": "code",
    "id": "G5-gg86oDZ08"
   },
   "outputs": [],
   "source": [
    "model.load_state_dict(torch.load(sPATH))\n",
    "model.eval();"
   ]
  },
  {
   "cell_type": "markdown",
   "metadata": {
    "colab_type": "text",
    "id": "-B_LfG6zDZ0_"
   },
   "source": [
    "## Metrics"
   ]
  },
  {
   "cell_type": "code",
   "execution_count": 91,
   "metadata": {
    "colab": {
     "base_uri": "https://localhost:8080/",
     "height": 34
    },
    "colab_type": "code",
    "id": "cNmaus9rDZ0_",
    "outputId": "144c96bc-9b0e-47e4-862f-38cb795b2b44"
   },
   "outputs": [
    {
     "data": {
      "text/plain": [
       "(torch.Size([793, 12]), torch.Size([793, 12]))"
      ]
     },
     "execution_count": 91,
     "metadata": {
      "tags": []
     },
     "output_type": "execute_result"
    }
   ],
   "source": [
    "reference.shape,prediction.shape"
   ]
  },
  {
   "cell_type": "code",
   "execution_count": 0,
   "metadata": {
    "colab": {},
    "colab_type": "code",
    "id": "58p5urTiDZ1C"
   },
   "outputs": [],
   "source": [
    "y_true_np = torch.argmax(y_true,dim=-1).detach().cpu().numpy()\n",
    "y_pred_np = torch.argmax(y_pred.log_softmax(dim=-1),dim=-1).detach().cpu().numpy()"
   ]
  },
  {
   "cell_type": "code",
   "execution_count": 0,
   "metadata": {
    "colab": {},
    "colab_type": "code",
    "id": "0rYq1C-RDZ1H"
   },
   "outputs": [],
   "source": [
    "np.unique(y_pred_np) == np.unique(y_true_np) \n",
    "assert len(y_true_np) == len(test_dataset)"
   ]
  },
  {
   "cell_type": "code",
   "execution_count": 0,
   "metadata": {
    "colab": {},
    "colab_type": "code",
    "id": "cmKJd0QcDZ1N"
   },
   "outputs": [],
   "source": [
    "n_conf = 5 if demo_mode else num_classes + 1"
   ]
  },
  {
   "cell_type": "code",
   "execution_count": 0,
   "metadata": {
    "colab": {},
    "colab_type": "code",
    "id": "s7bRYRuPDZ1Q"
   },
   "outputs": [],
   "source": [
    "creport = pd.DataFrame((classification_report(y_true_np,y_pred_np,output_dict=True)))\n",
    "acc = accuracy_score(y_true_np,y_pred_np)\n",
    "fm_score = []\n",
    "for i in range(n_conf):\n",
    "    try:\n",
    "        fm_score.append(creport[str(i)]['f1-score'])\n",
    "    except:\n",
    "        pass"
   ]
  },
  {
   "cell_type": "code",
   "execution_count": 96,
   "metadata": {
    "colab": {
     "base_uri": "https://localhost:8080/",
     "height": 34
    },
    "colab_type": "code",
    "id": "C97ZPpOiDZ1S",
    "outputId": "a0605f17-05b3-4d7f-d5c2-e0921f988823",
    "scrolled": true
   },
   "outputs": [
    {
     "data": {
      "text/plain": [
       "0.8384817089523997"
      ]
     },
     "execution_count": 96,
     "metadata": {
      "tags": []
     },
     "output_type": "execute_result"
    }
   ],
   "source": [
    "np.mean(fm_score)"
   ]
  },
  {
   "cell_type": "code",
   "execution_count": 0,
   "metadata": {
    "colab": {},
    "colab_type": "code",
    "id": "SFaOuRuCDZ1f"
   },
   "outputs": [],
   "source": [
    "def plot_confusion_matrix(df_confusion, title='Confusion matrix', cmap=plt.cm.jet):\n",
    "    \"\"\"\n",
    "        https://stackoverflow.com/questions/19233771/sklearn-plot-confusion-matrix-with-labels/48018785\n",
    "    \"\"\"\n",
    "    plt.figure(figsize=(20,20),facecolor='white')\n",
    "    plt.matshow(df_confusion, cmap=cmap) # imshow\n",
    "    #plt.title(\"%s\" % (model.__class__.__name__))\n",
    "    plt.colorbar()\n",
    "    tick_marks = np.arange(len(df_confusion.columns))\n",
    "    plt.xticks(tick_marks, df_confusion.columns, rotation=45)\n",
    "    plt.yticks(tick_marks, df_confusion.index)\n",
    "    #plt.tight_layout()\n",
    "    plt.ylabel(df_confusion.index.name, fontsize=12)\n",
    "    plt.xlabel(df_confusion.columns.name, fontsize=12)\n",
    "    plt.show()"
   ]
  },
  {
   "cell_type": "code",
   "execution_count": 98,
   "metadata": {
    "colab": {
     "base_uri": "https://localhost:8080/",
     "height": 331
    },
    "colab_type": "code",
    "id": "CDemKwyeDZ1h",
    "outputId": "ba8e551f-4160-4e1e-9b27-9634721e33bd"
   },
   "outputs": [
    {
     "data": {
      "text/plain": [
       "<Figure size 1440x1440 with 0 Axes>"
      ]
     },
     "metadata": {
      "tags": []
     },
     "output_type": "display_data"
    },
    {
     "data": {
      "image/png": "[encoded data removed]",
      "text/plain": [
       "<Figure size 288x288 with 2 Axes>"
      ]
     },
     "metadata": {
      "tags": []
     },
     "output_type": "display_data"
    }
   ],
   "source": [
    "# rope jumping corrupting color scheme\n",
    "cm  = create_conf_matrix(y_true_np,y_pred_np,n_classes=len(activities))\n",
    "cmdf = pd.DataFrame(cm/cm.sum(1)[:, None])\n",
    "cmdf.columns = activities\n",
    "cmdf.index = activities\n",
    "\n",
    "plot_confusion_matrix(cmdf)"
   ]
  },
  {
   "cell_type": "code",
   "execution_count": 99,
   "metadata": {
    "colab": {
     "base_uri": "https://localhost:8080/",
     "height": 34
    },
    "colab_type": "code",
    "id": "9kYu_a1MDZ1l",
    "outputId": "30c7db58-40bf-4af8-ee20-c454c4e16fc5"
   },
   "outputs": [
    {
     "name": "stdout",
     "output_type": "stream",
     "text": [
      "IsotropyNet\t12\t0.8385\t0.9318\n"
     ]
    }
   ],
   "source": [
    "print(\"%s\\t%d\\t%.4f\\t%.4f\" %(model.__class__.__name__,num_classes,np.mean(fm_score),acc))"
   ]
  },
  {
   "cell_type": "markdown",
   "metadata": {
    "colab_type": "text",
    "id": "X4gh6WsIDZ1n"
   },
   "source": [
    "## History of best Results (win_size = 256)\n",
    "\n",
    "% model.__class__.__name__,num_classes,np.mean(fm_score),acc)\n",
    "<br>\n",
    "<br>\n",
    "<pre>\n",
    "IsotropyNet128      12    0.8349\t0.9274\n",
    "IsotropyNet64   \t12\t0.8477\t0.9444\n",
    "IsotropyNet32   \t12\t0.8385\t0.9318\n",
    "Conv1DNet           12\t0.8437\t0.9380\n",
    "MultiSincNet\t    12\t0.8635\t0.9527\n",
    "Conv1DLstmNet       12\t0.9188\t0.9318\n",
    "MultiSincLstmNet\t12\t0.9219\t0.9362\n",
    "</pre>\n",
    "<br>\n",
    "<pre>\n",
    "Conv1DNet\t        4\t0.9967\t0.9960\n",
    "MultiSincNet        4\t0.9837\t0.9855\n",
    "Conv1DLstmNet\t   4\t0.9848\t0.9868\n",
    "MultiSincLstmNet\t4\t0.9934\t0.9921\n",
    "</pre>"
   ]
  },
  {
   "cell_type": "code",
   "execution_count": 0,
   "metadata": {
    "colab": {},
    "colab_type": "code",
    "id": "clhekl8md-kT"
   },
   "outputs": [],
   "source": [
    "\n"
   ]
  },
  {
   "cell_type": "markdown",
   "metadata": {
    "colab_type": "text",
    "id": "fYp4WVbbDZ1o"
   },
   "source": [
    "## some inference"
   ]
  },
  {
   "cell_type": "code",
   "execution_count": 0,
   "metadata": {
    "colab": {
     "base_uri": "https://localhost:8080/",
     "height": 129
    },
    "colab_type": "code",
    "id": "JP9AKyO_DZ1o",
    "outputId": "31c9621f-71f8-4da1-ee03-8ca1ae2de1e9"
   },
   "outputs": [
    {
     "ename": "SyntaxError",
     "evalue": "ignored",
     "output_type": "error",
     "traceback": [
      "\u001b[0;36m  File \u001b[0;32m\"<ipython-input-57-54b8a87cebf1>\"\u001b[0;36m, line \u001b[0;32m1\u001b[0m\n\u001b[0;31m    assert\u001b[0m\n\u001b[0m          ^\u001b[0m\n\u001b[0;31mSyntaxError\u001b[0m\u001b[0;31m:\u001b[0m invalid syntax\n"
     ]
    }
   ],
   "source": [
    "assert"
   ]
  },
  {
   "cell_type": "code",
   "execution_count": 0,
   "metadata": {
    "colab": {},
    "colab_type": "code",
    "id": "DesAtqP-DZ1s"
   },
   "outputs": [],
   "source": [
    "def transform_csv(path):\n",
    "    new_col_names = [\"time\", \"hand_accelerometer\", \"hand_magnetometer\", \"hand_gyroscope\", \"ankle_accelerometer\", \"ankle_magnetometer\", \"ankle_gyroscope\", \"chest_accelerometer\",\"chest_magnetometer\", \"chest_gyroscope\"]\n",
    "    replaced_cols = [\"time\", \"hand_accelerometer\", \"hand_gyroscope\", \"hand_magnetometer\", \"ankle_accelerometer\", \"ankle_gyroscope\",\"ankle_magnetometer\",  \"chest_accelerometer\", \"chest_gyroscope\",\"chest_magnetometer\"]\n",
    "        \n",
    "    def column_transform(data,col_name):\n",
    "        if col_name != \"time\":\n",
    "            new = data[col_name].str.replace(\")\",\"\").str.replace(\"(\",\"\").str.replace(\" \",\"\").str.split(\",\", n = 2, expand = True) \n",
    "            data[col_name + \"_x\"] = new[0]\n",
    "            data[col_name + \"_y\"] = new[1]\n",
    "            data[col_name + \"_z\"] = new[2]\n",
    "            data.drop(columns =[col_name], inplace = True) \n",
    "        return data\n",
    "    \n",
    "    data = pd.read_csv(path)\n",
    "    \n",
    "    data = data.rename(index=str,columns = dict(zip(list(data.columns),new_col_names)))\n",
    "    \n",
    "    data = data[replaced_cols]\n",
    "    \n",
    "\n",
    "\n",
    "    for col in data.columns:\n",
    "        data = column_transform(data, col)\n",
    "    return data"
   ]
  },
  {
   "cell_type": "code",
   "execution_count": 0,
   "metadata": {
    "colab": {},
    "colab_type": "code",
    "id": "r-bFdVPjDZ1u"
   },
   "outputs": [],
   "source": [
    "data = transform_csv('/ksozykinraid/src/real_run.csv')\n",
    "data = data.drop(['time'],1)\n",
    "data = data.values.astype('float32')"
   ]
  },
  {
   "cell_type": "code",
   "execution_count": 0,
   "metadata": {
    "colab": {},
    "colab_type": "code",
    "id": "WKZFaxBDDZ1v"
   },
   "outputs": [],
   "source": [
    "batch = []\n",
    "for window in sliding_window(data,win_size=win_size,step=5):\n",
    "    batch.append(window)\n",
    "batch = torch.tensor(np.array(batch)).to(device)\n",
    "batch = batch.transpose(2,1)"
   ]
  },
  {
   "cell_type": "code",
   "execution_count": 0,
   "metadata": {
    "colab": {},
    "colab_type": "code",
    "id": "TfZr7YMQDZ1x"
   },
   "outputs": [],
   "source": [
    "batch.shape"
   ]
  },
  {
   "cell_type": "code",
   "execution_count": 0,
   "metadata": {
    "colab": {},
    "colab_type": "code",
    "id": "IP0szGJwDZ1z"
   },
   "outputs": [],
   "source": [
    "torch.argmax(model(batch).softmax(-1),-1)"
   ]
  },
  {
   "cell_type": "code",
   "execution_count": 0,
   "metadata": {
    "colab": {},
    "colab_type": "code",
    "id": "gXpBTYotDZ12"
   },
   "outputs": [],
   "source": [
    "[activities[int(e)] for e in torch.argmax(model(batch).softmax(-1),-1)]"
   ]
  },
  {
   "cell_type": "code",
   "execution_count": 0,
   "metadata": {
    "colab": {},
    "colab_type": "code",
    "id": "hAJng0iRDZ13"
   },
   "outputs": [],
   "source": []
  }
 ],
 "metadata": {
  "accelerator": "GPU",
  "colab": {
   "collapsed_sections": [
    "fYp4WVbbDZ1o"
   ],
   "name": "pamap2upd.ipynb",
   "provenance": [],
   "version": "0.3.2"
  },
  "kernelspec": {
   "display_name": "Python [conda env:bob_py3]",
   "language": "python",
   "name": "conda-env-bob_py3-py"
  },
  "language_info": {
   "codemirror_mode": {
    "name": "ipython",
    "version": 3
   },
   "file_extension": ".py",
   "mimetype": "text/x-python",
   "name": "python",
   "nbconvert_exporter": "python",
   "pygments_lexer": "ipython3",
   "version": "3.6.8"
  }
 },
 "nbformat": 4,
 "nbformat_minor": 1
}
