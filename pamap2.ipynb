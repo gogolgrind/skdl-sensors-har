{
 "cells": [
  {
   "cell_type": "code",
   "execution_count": 1,
   "metadata": {},
   "outputs": [
    {
     "name": "stdout",
     "output_type": "stream",
     "text": [
      "Populating the interactive namespace from numpy and matplotlib\n"
     ]
    }
   ],
   "source": [
    "import warnings\n",
    "warnings.filterwarnings(\"ignore\")\n",
    "import os\n",
    "import sys\n",
    "import numpy as np\n",
    "import torch\n",
    "from sklearn.metrics import accuracy_score,confusion_matrix,classification_report\n",
    "import  torch.nn as nn\n",
    "import torch.nn.functional as F\n",
    "rseed = 42\n",
    "np.random.seed(rseed)\n",
    "torch.manual_seed(rseed)\n",
    "gpu_id = '0'\n",
    "from joblib import Parallel, delayed\n",
    "os.environ['CUDA_VISIBLE_DEVICES']=gpu_id\n",
    "os.environ['JOBLIB_TEMP_FOLDER'] = '/ksozykinraid/data/tmp/'\n",
    "from time import time\n",
    "import torch \n",
    "import pandas as pd\n",
    "import glob2\n",
    "import json\n",
    "from tqdm import tqdm\n",
    "%pylab inline"
   ]
  },
  {
   "cell_type": "code",
   "execution_count": 2,
   "metadata": {},
   "outputs": [],
   "source": [
    "from utils import *\n",
    "from datasets import *\n",
    "from layers import *"
   ]
  },
  {
   "cell_type": "markdown",
   "metadata": {},
   "source": [
    "## Datasets"
   ]
  },
  {
   "cell_type": "code",
   "execution_count": 3,
   "metadata": {},
   "outputs": [],
   "source": [
    "data_root = '/ksozykinraid/data/sensors/'\n",
    "data_fnzip =  \"%s/%s\" % (data_root , 'PAMAP2_Dataset.zip')\n",
    "data_url = 'http://archive.ics.uci.edu/ml/machine-learning-databases/00231/PAMAP2_Dataset.zip'"
   ]
  },
  {
   "cell_type": "code",
   "execution_count": 4,
   "metadata": {},
   "outputs": [],
   "source": [
    "if not os.path.exists(data_fnzip[:-4]):\n",
    "    !curl -L $data_url -o $data_fnzip\n",
    "    !unzip $data_fnzip -d $data_root"
   ]
  },
  {
   "cell_type": "code",
   "execution_count": 5,
   "metadata": {},
   "outputs": [],
   "source": [
    "path2subjets = sorted(glob2.glob('%s/PAMAP2_Dataset/Protocol/*.dat' % data_root))"
   ]
  },
  {
   "cell_type": "code",
   "execution_count": 6,
   "metadata": {},
   "outputs": [],
   "source": [
    "def pamap_columns():\n",
    "    \"\"\"\n",
    "        https://github.com/NLeSC/mcfly-tutorial/blob/master/utils/tutorial_pamap2.py\n",
    "    \"\"\"\n",
    "    axes = ['x', 'y', 'z']\n",
    "    IMUsensor_columns = ['temperature'] + \\\n",
    "        ['acc_16g_' + i for i in axes] + \\\n",
    "        ['acc_6g_' + i for i in axes] + \\\n",
    "        ['gyroscope_' + i for i in axes] + \\\n",
    "        ['magnometer_' + i for i in axes] + \\\n",
    "        ['orientation_' + str(i) for i in range(4)]\n",
    "    columns = [\"timestamp\", \"activityID\", \"heartrate\"] + [\"hand_\" + s\n",
    "                                                         for s in IMUsensor_columns] \\\n",
    "        + [\"chest_\" + s for s in IMUsensor_columns] + [\"ankle_\" + s\n",
    "                                                       for s in IMUsensor_columns]\n",
    "    return columns"
   ]
  },
  {
   "cell_type": "code",
   "execution_count": 7,
   "metadata": {},
   "outputs": [],
   "source": [
    "#overlap = []\n",
    "#for i in tqdm(range(n_subjects)):\n",
    "#    subject = pd.read_csv(path2subjets[i],header=None,sep=' ')\n",
    "#    subject.columns = pamap_columns()\n",
    "#    overlap.append(subject['activityID'].values)\n",
    "#overlap = np.hstack(overlap)\n",
    "#overlap = [num2label[e] for e in np.unique(overlap)[1:]]"
   ]
  },
  {
   "cell_type": "code",
   "execution_count": 8,
   "metadata": {},
   "outputs": [],
   "source": [
    "demo_activities = \"lying,sitting,standing,walking\".split(',')"
   ]
  },
  {
   "cell_type": "code",
   "execution_count": 9,
   "metadata": {},
   "outputs": [],
   "source": [
    "subset_activities = ['lying',\n",
    " 'sitting',\n",
    " 'standing',\n",
    " 'walking',\n",
    " 'running',\n",
    " 'cycling',\n",
    " 'Nordic walking',\n",
    " 'ascending stairs',\n",
    " 'descending stairs',\n",
    " 'vacuum cleaning',\n",
    " 'ironing',\n",
    " 'rope jumping']"
   ]
  },
  {
   "cell_type": "code",
   "execution_count": 10,
   "metadata": {},
   "outputs": [],
   "source": [
    "all_columns = pamap_columns()"
   ]
  },
  {
   "cell_type": "code",
   "execution_count": 11,
   "metadata": {},
   "outputs": [],
   "source": [
    "input_channels = len(data_columns)"
   ]
  },
  {
   "cell_type": "code",
   "execution_count": 12,
   "metadata": {},
   "outputs": [],
   "source": [
    "win_size = 256\n",
    "step = 128"
   ]
  },
  {
   "cell_type": "code",
   "execution_count": 13,
   "metadata": {},
   "outputs": [],
   "source": [
    "demo_mode = False"
   ]
  },
  {
   "cell_type": "code",
   "execution_count": 14,
   "metadata": {},
   "outputs": [],
   "source": [
    "activities = demo_activities if demo_mode else  subset_activities"
   ]
  },
  {
   "cell_type": "code",
   "execution_count": 15,
   "metadata": {},
   "outputs": [
    {
     "name": "stderr",
     "output_type": "stream",
     "text": [
      "100%|██████████| 9/9 [00:26<00:00,  2.95s/it]\n"
     ]
    }
   ],
   "source": [
    "subjects = []\n",
    "n_subjects = len(path2subjets)\n",
    "for i in tqdm(range(n_subjects)):\n",
    "    subject = pd.read_csv(path2subjets[i],header=None,sep=' ')\n",
    "    subject.columns = pamap_columns()\n",
    "    subject = subject[subject['activityID'].isin([label2num[a] for a in activities])]\n",
    "    subject['activityID'] =  subject['activityID'].apply(lambda a: activities.index(num2label[a]))\n",
    "    subject = subject[useful_columns]\n",
    "    if len(subject) > 0:\n",
    "        subject = subject.fillna(0)\n",
    "        #subject = subject.iloc[:min_len]\n",
    "        subjects.append(subject)"
   ]
  },
  {
   "cell_type": "code",
   "execution_count": 16,
   "metadata": {},
   "outputs": [],
   "source": [
    "num_classes = len(activities)"
   ]
  },
  {
   "cell_type": "code",
   "execution_count": 17,
   "metadata": {},
   "outputs": [
    {
     "name": "stderr",
     "output_type": "stream",
     "text": [
      "100%|██████████| 9/9 [00:15<00:00,  1.69s/it]\n",
      "100%|██████████| 9/9 [00:14<00:00,  1.66s/it]\n",
      "100%|██████████| 9/9 [00:15<00:00,  1.70s/it]\n"
     ]
    }
   ],
   "source": [
    "train_dataset = pamap2Dataset(subjects,fold='train',num_classes=num_classes,win_size=win_size,step=step)\n",
    "val_dataset = pamap2Dataset(subjects,fold='val',num_classes=num_classes,win_size=win_size)\n",
    "test_dataset = pamap2Dataset(subjects,fold='test',num_classes=num_classes,test_subject = 6,win_size=win_size,step=step)"
   ]
  },
  {
   "cell_type": "code",
   "execution_count": 18,
   "metadata": {},
   "outputs": [
    {
     "data": {
      "text/plain": [
       "(9342, 4005, 1817)"
      ]
     },
     "execution_count": 18,
     "metadata": {},
     "output_type": "execute_result"
    }
   ],
   "source": [
    "len(train_dataset),len(val_dataset),len(test_dataset)"
   ]
  },
  {
   "cell_type": "code",
   "execution_count": 19,
   "metadata": {},
   "outputs": [],
   "source": [
    "#train_lb = np.argmax(train_dataset.labels,-1)\n",
    "#val_lb = np.argmax(val_dataset.val_labels,-1)"
   ]
  },
  {
   "cell_type": "code",
   "execution_count": 20,
   "metadata": {},
   "outputs": [],
   "source": [
    "#plt.hist(train_lb)"
   ]
  },
  {
   "cell_type": "markdown",
   "metadata": {},
   "source": [
    "# Models"
   ]
  },
  {
   "cell_type": "code",
   "execution_count": 21,
   "metadata": {},
   "outputs": [],
   "source": [
    "class Conv1DNet(nn.Module):\n",
    "    \n",
    "    def __init__(self):\n",
    "        super(self.__class__, self).__init__()\n",
    "        self.input_bn = nn.BatchNorm1d(input_channels)\n",
    "        self.conv11 = nn.Conv1d(in_channels=input_channels, out_channels=64, kernel_size=3, padding=1)\n",
    "        self.pool11 = nn.MaxPool1d(kernel_size=2)\n",
    "        self.conv21 = nn.Conv1d(in_channels=64, out_channels=128, kernel_size=3, padding=1)\n",
    "        self.pool21 = nn.MaxPool1d(kernel_size=2)\n",
    "        self.conv31 = nn.Conv1d(in_channels=128, out_channels=256, kernel_size=3, padding=1)\n",
    "        self.pool31 = nn.MaxPool1d(kernel_size=2)\n",
    "        #self.gpool = GlobalMaxPooling()\n",
    "        self.fc1 = nn.Linear(256*(win_size//(2**3)),512)\n",
    "        self.fc2 = nn.Linear(512,512)\n",
    "        self.logit = nn.Linear(512,num_classes)\n",
    "        \n",
    "        self.features = nn.Sequential(\n",
    "             self.input_bn,\n",
    "             self.conv11,self.pool11,\n",
    "             nn.ReLU(),                            \n",
    "             self.conv21,self.pool21,\n",
    "             nn.ReLU(),\n",
    "             self.conv31,self.pool31,\n",
    "             nn.ReLU(),\n",
    "             Flatten(),\n",
    "        )\n",
    "        \n",
    "        self.classifier = nn.Sequential(\n",
    "             self.fc1,\n",
    "             nn.ReLU(),\n",
    "             self.fc2,\n",
    "             nn.ReLU(),\n",
    "             self.logit,\n",
    "        )\n",
    "        \n",
    "    def forward(self,input):\n",
    "        features = self.features(input)\n",
    "        return self.classifier(features)"
   ]
  },
  {
   "cell_type": "code",
   "execution_count": 22,
   "metadata": {},
   "outputs": [],
   "source": [
    "class MultiSincNet(nn.Module):\n",
    "    \n",
    "    def __init__(self,\n",
    "                 N_filt = 12,  \n",
    "                 Filt_dim = 5, \n",
    "                 fs = 100,\n",
    "                 device = \"cuda\"):\n",
    "        super(self.__class__, self).__init__()\n",
    "        self.input_bn = nn.BatchNorm1d(input_channels)\n",
    "        self.fs = fs\n",
    "        self.device = device\n",
    "        self.sincconv = multichannel_sinc_conv(Filt_dim=Filt_dim,\n",
    "                                  N_channels=input_channels,\n",
    "                                  N_filt=N_filt,\n",
    "                                  fs=fs,\n",
    "                                  device = device)\n",
    "        self.layer_norm = LayerNorm(win_size-Filt_dim+1)\n",
    "        self.conv11 = nn.Conv1d(in_channels=324, out_channels=64, kernel_size=3, padding=1)\n",
    "        self.pool11 = nn.MaxPool1d(kernel_size=2)\n",
    "        self.conv21 = nn.Conv1d(in_channels=64, out_channels=128, kernel_size=3, padding=1)\n",
    "        self.pool21 = nn.MaxPool1d(kernel_size=2)\n",
    "        self.conv31 = nn.Conv1d(in_channels=128, out_channels=256, kernel_size=3, padding=1)\n",
    "        self.pool31 = nn.MaxPool1d(kernel_size=2)\n",
    "        #self.gpool = GlobalMaxPooling()\n",
    "        self.fc1 = nn.Linear(7936,512)\n",
    "        self.fc2 = nn.Linear(512,512)\n",
    "        self.logit = nn.Linear(512,num_classes)\n",
    "        \n",
    "        self.features = nn.Sequential(\n",
    "             self.input_bn,\n",
    "             self.sincconv,\n",
    "             #self.layer_norm,\n",
    "             self.conv11,\n",
    "             nn.LeakyReLU(),\n",
    "             self.pool11,\n",
    "             nn.LeakyReLU(),                            \n",
    "             self.conv21,self.pool21,\n",
    "             nn.LeakyReLU(),\n",
    "             self.conv31,self.pool31,\n",
    "             nn.LeakyReLU(),\n",
    "             Flatten(),\n",
    "        )\n",
    "        \n",
    "        self.classifier = nn.Sequential(\n",
    "             self.fc1,\n",
    "             nn.LeakyReLU(),\n",
    "             self.fc2,\n",
    "             nn.LeakyReLU(),\n",
    "             self.logit,\n",
    "        )\n",
    "        \n",
    "    def forward(self,input):\n",
    "        features = self.features(input)\n",
    "        return self.classifier(features)"
   ]
  },
  {
   "cell_type": "code",
   "execution_count": 23,
   "metadata": {},
   "outputs": [],
   "source": [
    "class Conv1DLstmNet(nn.Module):\n",
    "    \n",
    "    def __init__(self):\n",
    "        super(self.__class__, self).__init__()\n",
    "        self.input_bn = nn.BatchNorm1d(input_channels)\n",
    "        self.conv11 = nn.Conv1d(in_channels=input_channels, out_channels=64, kernel_size=3, padding=1)\n",
    "        self.pool11 = nn.MaxPool1d(kernel_size=2)\n",
    "        self.conv21 = nn.Conv1d(in_channels=64, out_channels=128, kernel_size=3, padding=1)\n",
    "        self.pool21 = nn.MaxPool1d(kernel_size=2)\n",
    "        self.conv31 = nn.Conv1d(in_channels=128, out_channels=256, kernel_size=3, padding=1)\n",
    "        self.pool31 = nn.MaxPool1d(kernel_size=2)\n",
    "        self.lstm1 = nn.LSTM(input_size=win_size,hidden_size=512,batch_first=True)\n",
    "        self.fc1 = nn.Linear(2*win_size*(win_size//(2**3)),512)\n",
    "        self.fc2 = nn.Linear(512,512)\n",
    "        self.logit = nn.Linear(512,num_classes)\n",
    "        \n",
    "        self.features = nn.Sequential(\n",
    "             self.input_bn,\n",
    "             self.conv11,self.pool11,\n",
    "             nn.ReLU(),                            \n",
    "             self.conv21,self.pool21,\n",
    "             nn.ReLU(),\n",
    "             self.conv31,self.pool31,\n",
    "             nn.ReLU(),\n",
    "        )\n",
    "        \n",
    "\n",
    "        \n",
    "        self.classifier = nn.Sequential(\n",
    "             self.fc1,\n",
    "             nn.ReLU(),\n",
    "             self.fc2,\n",
    "             nn.ReLU(),\n",
    "             self.logit,\n",
    "        )\n",
    "        \n",
    "    def forward(self,input):\n",
    "        features = self.features(input).transpose(1, 2)\n",
    "        features, (hn,cn) = self.lstm1(features)\n",
    "        features = Flatten()(features.transpose(1, 2).contiguous())\n",
    "        return self.classifier(features)"
   ]
  },
  {
   "cell_type": "code",
   "execution_count": 24,
   "metadata": {},
   "outputs": [],
   "source": [
    "class MultiSincLstmNet(nn.Module):\n",
    "    \n",
    "    def __init__(self,\n",
    "                 N_filt = 12,  \n",
    "                 Filt_dim = 5, \n",
    "                 fs = 100,\n",
    "                 device = \"cuda\"):\n",
    "        super(self.__class__, self).__init__()\n",
    "        self.input_bn = nn.BatchNorm1d(input_channels)\n",
    "        self.fs = fs\n",
    "        self.device = device\n",
    "        self.sincconv = multichannel_sinc_conv(Filt_dim=Filt_dim,\n",
    "                                  N_channels=input_channels,\n",
    "                                  N_filt=N_filt,\n",
    "                                  fs=fs,\n",
    "                                  device = device)\n",
    "        self.layer_norm = LayerNorm(win_size-Filt_dim+1)\n",
    "        self.conv11 = nn.Conv1d(in_channels=324, out_channels=64, kernel_size=3, padding=1)\n",
    "        self.pool11 = nn.MaxPool1d(kernel_size=2)\n",
    "        self.conv21 = nn.Conv1d(in_channels=64, out_channels=128, kernel_size=3, padding=1)\n",
    "        self.pool21 = nn.MaxPool1d(kernel_size=2)\n",
    "        self.conv31 = nn.Conv1d(in_channels=128, out_channels=256, kernel_size=3, padding=1)\n",
    "        self.pool31 = nn.MaxPool1d(kernel_size=2)\n",
    "        self.lstm1 = nn.LSTM(input_size=win_size,hidden_size=512,batch_first=True)\n",
    "        self.fc1 = nn.Linear(7936*2,512)\n",
    "        self.fc2 = nn.Linear(512,512)\n",
    "        self.logit = nn.Linear(512,num_classes)\n",
    "        \n",
    "        self.features = nn.Sequential(\n",
    "             self.input_bn,\n",
    "             self.sincconv,\n",
    "             #self.layer_norm,\n",
    "             self.conv11,\n",
    "             nn.LeakyReLU(),\n",
    "             self.pool11,\n",
    "             nn.LeakyReLU(),                            \n",
    "             self.conv21,self.pool21,\n",
    "             nn.LeakyReLU(),\n",
    "             self.conv31,self.pool31,\n",
    "             nn.LeakyReLU(),\n",
    "        )\n",
    "        \n",
    "        self.classifier = nn.Sequential(\n",
    "             self.fc1,\n",
    "             nn.LeakyReLU(),\n",
    "             self.fc2,\n",
    "             nn.LeakyReLU(),\n",
    "             self.logit,\n",
    "        )\n",
    "        \n",
    "\n",
    "                \n",
    "    def forward(self,input):\n",
    "        features = self.features(input).transpose(1, 2)\n",
    "        features, (hn,cn) = self.lstm1(features)\n",
    "        features = Flatten()(features.transpose(1, 2).contiguous())\n",
    "        return self.classifier(features)"
   ]
  },
  {
   "cell_type": "markdown",
   "metadata": {},
   "source": [
    "## Debug"
   ]
  },
  {
   "cell_type": "code",
   "execution_count": 25,
   "metadata": {},
   "outputs": [
    {
     "name": "stdout",
     "output_type": "stream",
     "text": [
      "torch.Size([1, 12])\n"
     ]
    }
   ],
   "source": [
    "device = 'cpu'\n",
    "batch_size = 1\n",
    "model = Conv1DNet().to(device)\n",
    "dummy_batch = train_dataset.train_data[:batch_size]\n",
    "dummy_batch = torch.tensor(dummy_batch).transpose(2,1)\n",
    "prediction = model(dummy_batch.to(device))\n",
    "del model\n",
    "del dummy_batch\n",
    "print(prediction.shape)\n",
    "del prediction\n",
    "torch.cuda.empty_cache()"
   ]
  },
  {
   "cell_type": "markdown",
   "metadata": {},
   "source": [
    "## Experiments"
   ]
  },
  {
   "cell_type": "code",
   "execution_count": 26,
   "metadata": {},
   "outputs": [],
   "source": [
    "num_epochs = 50\n",
    "verbose = 5\n",
    "batch_size = 1024\n",
    "device = \"cuda\""
   ]
  },
  {
   "cell_type": "code",
   "execution_count": 27,
   "metadata": {},
   "outputs": [],
   "source": [
    "\n",
    "def compute_loss(reference, prediction):\n",
    "    \"\"\"\n",
    "    \n",
    "    \"\"\"\n",
    "    reference = reference.to(device)\n",
    "    reference = torch.argmax(reference,dim=-1).to(torch.long)\n",
    "    prediction = prediction.log_softmax(dim=-1)\n",
    "    loss = nn.NLLLoss()(prediction,reference)\n",
    "    return loss"
   ]
  },
  {
   "cell_type": "code",
   "execution_count": 28,
   "metadata": {},
   "outputs": [],
   "source": [
    "def compute_acc(reference, prediction):\n",
    "    \"\"\"\n",
    "    \n",
    "    \"\"\"\n",
    "    reference = reference.to(device)\n",
    "    prediction = torch.argmax(prediction.log_softmax(dim=-1),dim=-1)\n",
    "    reference = torch.argmax(reference,dim=-1)\n",
    "    return (reference == prediction).to(torch.float32).mean()"
   ]
  },
  {
   "cell_type": "code",
   "execution_count": 29,
   "metadata": {},
   "outputs": [],
   "source": [
    "train_loader = torch.utils.data.DataLoader(train_dataset,batch_size=batch_size,shuffle=True)\n",
    "val_loader = torch.utils.data.DataLoader(val_dataset,batch_size=batch_size,shuffle=False)\n",
    "test_loader = torch.utils.data.DataLoader(test_dataset,batch_size=batch_size,shuffle=False)"
   ]
  },
  {
   "cell_type": "code",
   "execution_count": 30,
   "metadata": {},
   "outputs": [],
   "source": [
    "#model = Conv1DNet().to(device)\n",
    "#model = Conv1DLstmNet().to(device)\n",
    "#model = MultiSincNet(device=device).to(device)\n",
    "model = MultiSincLstmNet(device=device).to(device)"
   ]
  },
  {
   "cell_type": "code",
   "execution_count": 31,
   "metadata": {},
   "outputs": [],
   "source": [
    "opt = torch.optim.Adam(model.parameters(), lr=1e-3,weight_decay=1e-5)"
   ]
  },
  {
   "cell_type": "code",
   "execution_count": 32,
   "metadata": {},
   "outputs": [],
   "source": [
    "best_acc = -1\n",
    "best_loss =999999999\n",
    "sPATH = ''\n",
    "fmt_str = '/ksozykinraid/har-models/%s_%dclass_%.4f.pth'"
   ]
  },
  {
   "cell_type": "code",
   "execution_count": 33,
   "metadata": {},
   "outputs": [],
   "source": [
    "from collections import  defaultdict\n",
    "report  = defaultdict(list)"
   ]
  },
  {
   "cell_type": "code",
   "execution_count": 34,
   "metadata": {},
   "outputs": [],
   "source": [
    "from IPython import display"
   ]
  },
  {
   "cell_type": "code",
   "execution_count": null,
   "metadata": {},
   "outputs": [],
   "source": []
  },
  {
   "cell_type": "code",
   "execution_count": 35,
   "metadata": {},
   "outputs": [
    {
     "data": {
      "image/png": "[encoded data removed]",
      "text/plain": [
       "<Figure size 432x288 with 1 Axes>"
      ]
     },
     "metadata": {
      "needs_background": "light"
     },
     "output_type": "display_data"
    },
    {
     "name": "stdout",
     "output_type": "stream",
     "text": [
      "49\tTraining:\n",
      "\tLoss:\t0.11741\n",
      "\tACC:\t0.96328\n",
      "49\tValidation:\n",
      "\tBEST VAL loss:\t0.12247\n",
      "\tLoss:\t0.17226\n",
      "\tval ACC:\t0.94732\n",
      "49\tTesting:\n",
      "\tLoss:\t0.09542\n",
      "\ttest ACC:\t0.93616\n",
      "\n",
      "\n"
     ]
    }
   ],
   "source": [
    "for epoch in range(num_epochs):\n",
    "    train_loss = train_acc = train_batches = 0 \n",
    "    train_acc_fixed = 0\n",
    "    model.train()\n",
    "    y_true,y_pred = [],[]\n",
    "    start = time.time()\n",
    "    for batch in train_loader:\n",
    "        \n",
    "        data,reference = batch\n",
    "        data = data.transpose(2,1).to(device)\n",
    "        #print(data.shape)\n",
    "        prediction = model(data)\n",
    "        y_true.append(reference)\n",
    "        y_pred.append(prediction)\n",
    "        loss = compute_loss(reference, prediction)\n",
    "        loss.backward()\n",
    "        opt.step()\n",
    "        opt.zero_grad()\n",
    "        \n",
    "        with torch.no_grad():\n",
    "            train_loss += loss.item()\n",
    "            train_batches += 1\n",
    "    y_true = torch.cat(y_true,dim=0)\n",
    "    y_pred = torch.cat(y_pred,dim=0)\n",
    "    \n",
    "    with torch.no_grad():\n",
    "        train_acc += compute_acc(y_true, y_pred).cpu().numpy()\n",
    "    \n",
    "    val_loss = val_acc = val_batches = 0\n",
    "    val_acc_fixed = 0\n",
    "    #model.train(False)\n",
    "    model.eval()\n",
    "    y_true,y_pred = [],[]\n",
    "    for batch in val_loader:\n",
    "        data,reference = batch\n",
    "        data = data.transpose(2,1).to(device)\n",
    "        prediction = model(data)\n",
    "        y_true.append(reference)\n",
    "        y_pred.append(prediction)\n",
    "        loss = compute_loss(reference, prediction)\n",
    "        with torch.no_grad():\n",
    "            val_loss += loss.item()\n",
    "            \n",
    "            val_batches += 1\n",
    "    y_true = torch.cat(y_true,dim=0)\n",
    "    y_pred = torch.cat(y_pred,dim=0)\n",
    "    with torch.no_grad():\n",
    "        val_acc += compute_acc(y_true, y_pred).cpu().numpy()\n",
    "    #val_acc = (val_acc / val_batches)\n",
    "    val_loss = (val_loss / val_batches)\n",
    "    \n",
    "    y_true,y_pred = [],[]\n",
    "    test_loss = test_acc = test_batches = 0\n",
    "    for batch in test_loader:\n",
    "        data,reference = batch\n",
    "        data = data.transpose(2,1).to(device)\n",
    "        prediction = model(data)\n",
    "        y_true.append(reference)\n",
    "        y_pred.append(prediction)\n",
    "        #print(len(reference),len(prediction))\n",
    "        loss = compute_loss(reference, prediction)\n",
    "        with torch.no_grad():\n",
    "            test_loss += loss.item()\n",
    "            \n",
    "            test_batches += 1\n",
    "    y_true = torch.cat(y_true,dim=0)\n",
    "    y_pred = torch.cat(y_pred,dim=0)\n",
    "    with torch.no_grad():\n",
    "        test_acc += compute_acc(y_true, y_pred).cpu().numpy()\n",
    "    #test_acc = (test_acc / test_batches)\n",
    "    \n",
    "    test_loss = (test_loss / test_batches)\n",
    "    \n",
    "    \n",
    "    \n",
    "    if val_loss < best_loss:\n",
    "        best_loss = val_loss\n",
    "        if sPATH != '' and os.path.exists(sPATH):\n",
    "            os.remove(sPATH)\n",
    "        sPATH = fmt_str % (model.__class__.__name__,num_classes,best_loss)\n",
    "        torch.save(model.state_dict(),sPATH)\n",
    "        if best_acc > 94:\n",
    "            print(\"Early Stopping\")\n",
    "            break\n",
    "    report['train_loss'].append(train_loss / train_batches)\n",
    "    report['val_loss'].append(val_loss)\n",
    "    report['test_loss'].append(test_loss)\n",
    "    finish = time.time()\n",
    "    time_epoch = finish-start    \n",
    "    display.clear_output(wait=True)\n",
    "    fig = plt.Figure(figsize=(20,20),facecolor='white')\n",
    "    plt.plot(report['train_loss'],color='green',label='train_loss')\n",
    "    plt.plot(report['val_loss'],color='magenta',label='val_loss')\n",
    "    plt.plot(report['test_loss'],color='red',label='test_loss')\n",
    "    plt.xlabel(\"#Epoch %d, %.3f seconds per epoch\" % (epoch,time_epoch))\n",
    "    plt.ylabel(\"#Loss\")\n",
    "    plt.title(model.__class__.__name__)\n",
    "    legend(loc=2, prop={'size': 12})\n",
    "    plt.grid()\n",
    "    plt.show()\n",
    "    \n",
    "    print(\"%d\\tTraining:\" % (epoch))\n",
    "        \n",
    "    print(\"\\tLoss:\\t%.5f\" % (train_loss / train_batches))\n",
    "    print(\"\\tACC:\\t%.5f\" % (train_acc))\n",
    "    print(\"%d\\tValidation:\" % (epoch))\n",
    "    print(\"\\tBEST VAL loss:\\t%.5f\" % best_loss)\n",
    "    print(\"\\tLoss:\\t%.5f\" % val_loss)\n",
    "    print(\"\\tval ACC:\\t%.5f\" % val_acc)\n",
    "    print(\"%d\\tTesting:\" % (epoch))\n",
    "    print(\"\\tLoss:\\t%.5f\" % (test_loss / test_batches))\n",
    "    print(\"\\ttest ACC:\\t%.5f\" % test_acc)\n",
    "    print('\\n')\n",
    "    \n",
    "    \n",
    "    if epoch  % verbose == 0 or epoch == num_epochs - 1:\n",
    "        pass"
   ]
  },
  {
   "cell_type": "code",
   "execution_count": 36,
   "metadata": {},
   "outputs": [],
   "source": [
    "model.load_state_dict(torch.load(sPATH))\n",
    "model.eval();"
   ]
  },
  {
   "cell_type": "markdown",
   "metadata": {},
   "source": [
    "## Metrics"
   ]
  },
  {
   "cell_type": "code",
   "execution_count": 37,
   "metadata": {},
   "outputs": [
    {
     "data": {
      "text/plain": [
       "(torch.Size([793, 12]), torch.Size([793, 12]))"
      ]
     },
     "execution_count": 37,
     "metadata": {},
     "output_type": "execute_result"
    }
   ],
   "source": [
    "reference.shape,prediction.shape"
   ]
  },
  {
   "cell_type": "code",
   "execution_count": 38,
   "metadata": {},
   "outputs": [],
   "source": [
    "y_true_np = torch.argmax(y_true,dim=-1).detach().cpu().numpy()\n",
    "y_pred_np = torch.argmax(y_pred.log_softmax(dim=-1),dim=-1).detach().cpu().numpy()"
   ]
  },
  {
   "cell_type": "code",
   "execution_count": 39,
   "metadata": {},
   "outputs": [],
   "source": [
    "np.unique(y_pred_np) == np.unique(y_true_np) \n",
    "assert len(y_true_np) == len(test_dataset)"
   ]
  },
  {
   "cell_type": "code",
   "execution_count": 40,
   "metadata": {},
   "outputs": [],
   "source": [
    "n_conf = 5 if demo_mode else num_classes + 1"
   ]
  },
  {
   "cell_type": "code",
   "execution_count": null,
   "metadata": {},
   "outputs": [],
   "source": []
  },
  {
   "cell_type": "code",
   "execution_count": 41,
   "metadata": {},
   "outputs": [],
   "source": [
    "creport = pd.DataFrame((classification_report(y_true_np,y_pred_np,output_dict=True)))\n",
    "acc = accuracy_score(y_true_np,y_pred_np)\n",
    "fm_score = []\n",
    "for i in range(n_conf):\n",
    "    try:\n",
    "        fm_score.append(creport[str(i)]['f1-score'])\n",
    "    except:\n",
    "        pass"
   ]
  },
  {
   "cell_type": "code",
   "execution_count": 42,
   "metadata": {
    "scrolled": true
   },
   "outputs": [
    {
     "data": {
      "text/plain": [
       "0.9219282130818229"
      ]
     },
     "execution_count": 42,
     "metadata": {},
     "output_type": "execute_result"
    }
   ],
   "source": [
    "np.mean(fm_score)"
   ]
  },
  {
   "cell_type": "code",
   "execution_count": 43,
   "metadata": {},
   "outputs": [],
   "source": [
    "# rope jumping corrupting color scheme\n",
    "cm  = create_conf_matrix(y_true_np,y_pred_np,n_classes=len(activities))\n",
    "cmdf = pd.DataFrame(cm)\n",
    "cmdf.columns = activities\n",
    "cmdf.index = activities"
   ]
  },
  {
   "cell_type": "code",
   "execution_count": 44,
   "metadata": {},
   "outputs": [
    {
     "data": {
      "text/html": [
       "<div>\n",
       "<style scoped>\n",
       "    .dataframe tbody tr th:only-of-type {\n",
       "        vertical-align: middle;\n",
       "    }\n",
       "\n",
       "    .dataframe tbody tr th {\n",
       "        vertical-align: top;\n",
       "    }\n",
       "\n",
       "    .dataframe thead th {\n",
       "        text-align: right;\n",
       "    }\n",
       "</style>\n",
       "<table border=\"1\" class=\"dataframe\">\n",
       "  <thead>\n",
       "    <tr style=\"text-align: right;\">\n",
       "      <th></th>\n",
       "      <th>lying</th>\n",
       "      <th>sitting</th>\n",
       "      <th>standing</th>\n",
       "      <th>walking</th>\n",
       "      <th>running</th>\n",
       "      <th>cycling</th>\n",
       "      <th>Nordic walking</th>\n",
       "      <th>ascending stairs</th>\n",
       "      <th>descending stairs</th>\n",
       "      <th>vacuum cleaning</th>\n",
       "      <th>ironing</th>\n",
       "      <th>rope jumping</th>\n",
       "    </tr>\n",
       "  </thead>\n",
       "  <tbody>\n",
       "    <tr>\n",
       "      <th>lying</th>\n",
       "      <td>90</td>\n",
       "      <td>3</td>\n",
       "      <td>0</td>\n",
       "      <td>0</td>\n",
       "      <td>0</td>\n",
       "      <td>0</td>\n",
       "      <td>0</td>\n",
       "      <td>1</td>\n",
       "      <td>8</td>\n",
       "      <td>1</td>\n",
       "      <td>0</td>\n",
       "      <td>0</td>\n",
       "    </tr>\n",
       "    <tr>\n",
       "      <th>sitting</th>\n",
       "      <td>5</td>\n",
       "      <td>198</td>\n",
       "      <td>2</td>\n",
       "      <td>0</td>\n",
       "      <td>0</td>\n",
       "      <td>0</td>\n",
       "      <td>3</td>\n",
       "      <td>2</td>\n",
       "      <td>4</td>\n",
       "      <td>21</td>\n",
       "      <td>0</td>\n",
       "      <td>0</td>\n",
       "    </tr>\n",
       "    <tr>\n",
       "      <th>standing</th>\n",
       "      <td>0</td>\n",
       "      <td>0</td>\n",
       "      <td>259</td>\n",
       "      <td>5</td>\n",
       "      <td>0</td>\n",
       "      <td>0</td>\n",
       "      <td>13</td>\n",
       "      <td>3</td>\n",
       "      <td>2</td>\n",
       "      <td>0</td>\n",
       "      <td>0</td>\n",
       "      <td>0</td>\n",
       "    </tr>\n",
       "    <tr>\n",
       "      <th>walking</th>\n",
       "      <td>0</td>\n",
       "      <td>0</td>\n",
       "      <td>0</td>\n",
       "      <td>22</td>\n",
       "      <td>0</td>\n",
       "      <td>1</td>\n",
       "      <td>0</td>\n",
       "      <td>0</td>\n",
       "      <td>0</td>\n",
       "      <td>0</td>\n",
       "      <td>0</td>\n",
       "      <td>0</td>\n",
       "    </tr>\n",
       "    <tr>\n",
       "      <th>running</th>\n",
       "      <td>0</td>\n",
       "      <td>0</td>\n",
       "      <td>0</td>\n",
       "      <td>1</td>\n",
       "      <td>175</td>\n",
       "      <td>1</td>\n",
       "      <td>0</td>\n",
       "      <td>0</td>\n",
       "      <td>3</td>\n",
       "      <td>0</td>\n",
       "      <td>0</td>\n",
       "      <td>0</td>\n",
       "    </tr>\n",
       "    <tr>\n",
       "      <th>cycling</th>\n",
       "      <td>0</td>\n",
       "      <td>0</td>\n",
       "      <td>1</td>\n",
       "      <td>0</td>\n",
       "      <td>0</td>\n",
       "      <td>218</td>\n",
       "      <td>0</td>\n",
       "      <td>0</td>\n",
       "      <td>10</td>\n",
       "      <td>0</td>\n",
       "      <td>0</td>\n",
       "      <td>0</td>\n",
       "    </tr>\n",
       "    <tr>\n",
       "      <th>Nordic walking</th>\n",
       "      <td>0</td>\n",
       "      <td>0</td>\n",
       "      <td>2</td>\n",
       "      <td>0</td>\n",
       "      <td>0</td>\n",
       "      <td>0</td>\n",
       "      <td>121</td>\n",
       "      <td>9</td>\n",
       "      <td>2</td>\n",
       "      <td>0</td>\n",
       "      <td>0</td>\n",
       "      <td>0</td>\n",
       "    </tr>\n",
       "    <tr>\n",
       "      <th>ascending stairs</th>\n",
       "      <td>0</td>\n",
       "      <td>0</td>\n",
       "      <td>0</td>\n",
       "      <td>0</td>\n",
       "      <td>1</td>\n",
       "      <td>4</td>\n",
       "      <td>1</td>\n",
       "      <td>75</td>\n",
       "      <td>5</td>\n",
       "      <td>0</td>\n",
       "      <td>0</td>\n",
       "      <td>0</td>\n",
       "    </tr>\n",
       "    <tr>\n",
       "      <th>descending stairs</th>\n",
       "      <td>1</td>\n",
       "      <td>0</td>\n",
       "      <td>0</td>\n",
       "      <td>0</td>\n",
       "      <td>1</td>\n",
       "      <td>0</td>\n",
       "      <td>0</td>\n",
       "      <td>0</td>\n",
       "      <td>135</td>\n",
       "      <td>0</td>\n",
       "      <td>0</td>\n",
       "      <td>0</td>\n",
       "    </tr>\n",
       "    <tr>\n",
       "      <th>vacuum cleaning</th>\n",
       "      <td>0</td>\n",
       "      <td>0</td>\n",
       "      <td>0</td>\n",
       "      <td>0</td>\n",
       "      <td>0</td>\n",
       "      <td>0</td>\n",
       "      <td>0</td>\n",
       "      <td>0</td>\n",
       "      <td>0</td>\n",
       "      <td>208</td>\n",
       "      <td>0</td>\n",
       "      <td>0</td>\n",
       "    </tr>\n",
       "    <tr>\n",
       "      <th>ironing</th>\n",
       "      <td>0</td>\n",
       "      <td>0</td>\n",
       "      <td>0</td>\n",
       "      <td>0</td>\n",
       "      <td>0</td>\n",
       "      <td>0</td>\n",
       "      <td>0</td>\n",
       "      <td>0</td>\n",
       "      <td>0</td>\n",
       "      <td>0</td>\n",
       "      <td>0</td>\n",
       "      <td>0</td>\n",
       "    </tr>\n",
       "    <tr>\n",
       "      <th>rope jumping</th>\n",
       "      <td>0</td>\n",
       "      <td>0</td>\n",
       "      <td>0</td>\n",
       "      <td>0</td>\n",
       "      <td>0</td>\n",
       "      <td>0</td>\n",
       "      <td>0</td>\n",
       "      <td>0</td>\n",
       "      <td>0</td>\n",
       "      <td>0</td>\n",
       "      <td>0</td>\n",
       "      <td>200</td>\n",
       "    </tr>\n",
       "  </tbody>\n",
       "</table>\n",
       "</div>"
      ],
      "text/plain": [
       "                   lying  sitting  standing  walking  running  cycling  \\\n",
       "lying                 90        3         0        0        0        0   \n",
       "sitting                5      198         2        0        0        0   \n",
       "standing               0        0       259        5        0        0   \n",
       "walking                0        0         0       22        0        1   \n",
       "running                0        0         0        1      175        1   \n",
       "cycling                0        0         1        0        0      218   \n",
       "Nordic walking         0        0         2        0        0        0   \n",
       "ascending stairs       0        0         0        0        1        4   \n",
       "descending stairs      1        0         0        0        1        0   \n",
       "vacuum cleaning        0        0         0        0        0        0   \n",
       "ironing                0        0         0        0        0        0   \n",
       "rope jumping           0        0         0        0        0        0   \n",
       "\n",
       "                   Nordic walking  ascending stairs  descending stairs  \\\n",
       "lying                           0                 1                  8   \n",
       "sitting                         3                 2                  4   \n",
       "standing                       13                 3                  2   \n",
       "walking                         0                 0                  0   \n",
       "running                         0                 0                  3   \n",
       "cycling                         0                 0                 10   \n",
       "Nordic walking                121                 9                  2   \n",
       "ascending stairs                1                75                  5   \n",
       "descending stairs               0                 0                135   \n",
       "vacuum cleaning                 0                 0                  0   \n",
       "ironing                         0                 0                  0   \n",
       "rope jumping                    0                 0                  0   \n",
       "\n",
       "                   vacuum cleaning  ironing  rope jumping  \n",
       "lying                            1        0             0  \n",
       "sitting                         21        0             0  \n",
       "standing                         0        0             0  \n",
       "walking                          0        0             0  \n",
       "running                          0        0             0  \n",
       "cycling                          0        0             0  \n",
       "Nordic walking                   0        0             0  \n",
       "ascending stairs                 0        0             0  \n",
       "descending stairs                0        0             0  \n",
       "vacuum cleaning                208        0             0  \n",
       "ironing                          0        0             0  \n",
       "rope jumping                     0        0           200  "
      ]
     },
     "execution_count": 44,
     "metadata": {},
     "output_type": "execute_result"
    }
   ],
   "source": [
    "cmdf"
   ]
  },
  {
   "cell_type": "code",
   "execution_count": 45,
   "metadata": {},
   "outputs": [],
   "source": [
    "def plot_confusion_matrix(df_confusion, title='Confusion matrix', cmap=plt.cm.jet):\n",
    "    \"\"\"\n",
    "        https://stackoverflow.com/questions/19233771/sklearn-plot-confusion-matrix-with-labels/48018785\n",
    "    \"\"\"\n",
    "    plt.figure(figsize=(20,20),facecolor='white')\n",
    "    plt.matshow(df_confusion, cmap=cmap) # imshow\n",
    "    #plt.title(\"%s\" % (model.__class__.__name__))\n",
    "    plt.colorbar()\n",
    "    tick_marks = np.arange(len(df_confusion.columns))\n",
    "    plt.xticks(tick_marks, df_confusion.columns, rotation=45)\n",
    "    plt.yticks(tick_marks, df_confusion.index)\n",
    "    #plt.tight_layout()\n",
    "    plt.ylabel(df_confusion.index.name, fontsize=12)\n",
    "    plt.xlabel(df_confusion.columns.name, fontsize=12)"
   ]
  },
  {
   "cell_type": "code",
   "execution_count": 46,
   "metadata": {},
   "outputs": [
    {
     "data": {
      "text/plain": [
       "<Figure size 1440x1440 with 0 Axes>"
      ]
     },
     "metadata": {},
     "output_type": "display_data"
    },
    {
     "data": {
      "image/png": "[encoded data removed]",
      "text/plain": [
       "<Figure size 288x288 with 2 Axes>"
      ]
     },
     "metadata": {
      "needs_background": "light"
     },
     "output_type": "display_data"
    }
   ],
   "source": [
    "plot_confusion_matrix(cmdf)"
   ]
  },
  {
   "cell_type": "code",
   "execution_count": 47,
   "metadata": {},
   "outputs": [
    {
     "name": "stdout",
     "output_type": "stream",
     "text": [
      "MultiSincLstmNet\t12\t0.9219\t0.9362\n"
     ]
    }
   ],
   "source": [
    "print(\"%s\\t%d\\t%.4f\\t%.4f\" %(model.__class__.__name__,num_classes,np.mean(fm_score),acc))"
   ]
  },
  {
   "cell_type": "markdown",
   "metadata": {},
   "source": [
    "## History of best Results (win_size = 256)\n",
    "\n",
    "% model.__class__.__name__,num_classes,np.mean(fm_score),acc)\n",
    "<br>\n",
    "<br>\n",
    "<pre>\n",
    "Conv1DNet           12\t0.8437\t0.9380\n",
    "MultiSincNet\t    12\t0.8635\t0.9527\n",
    "Conv1DLstmNet       12\t0.9188\t0.9318\n",
    "MultiSincLstmNet\t12\t0.9219\t0.9362\n",
    "</pre>\n",
    "<br>\n",
    "<pre>\n",
    "Conv1DNet\t        4\t0.9967\t0.9960\n",
    "MultiSincNet        4\t0.9837\t0.9855\n",
    "Conv1DLstmNet\t   4\t0.9848\t0.9868\n",
    "MultiSincLstmNet\t4\t0.9934\t0.9921\n",
    "</pre>"
   ]
  },
  {
   "cell_type": "markdown",
   "metadata": {},
   "source": [
    "## some inference"
   ]
  },
  {
   "cell_type": "code",
   "execution_count": 48,
   "metadata": {},
   "outputs": [
    {
     "ename": "SyntaxError",
     "evalue": "invalid syntax (<ipython-input-48-54b8a87cebf1>, line 1)",
     "output_type": "error",
     "traceback": [
      "\u001b[0;36m  File \u001b[0;32m\"<ipython-input-48-54b8a87cebf1>\"\u001b[0;36m, line \u001b[0;32m1\u001b[0m\n\u001b[0;31m    assert\u001b[0m\n\u001b[0m          ^\u001b[0m\n\u001b[0;31mSyntaxError\u001b[0m\u001b[0;31m:\u001b[0m invalid syntax\n"
     ]
    }
   ],
   "source": [
    "assert"
   ]
  },
  {
   "cell_type": "code",
   "execution_count": null,
   "metadata": {},
   "outputs": [],
   "source": [
    "def transform_csv(path):\n",
    "    new_col_names = [\"time\", \"hand_accelerometer\", \"hand_magnetometer\", \"hand_gyroscope\", \"ankle_accelerometer\", \"ankle_magnetometer\", \"ankle_gyroscope\", \"chest_accelerometer\",\"chest_magnetometer\", \"chest_gyroscope\"]\n",
    "    replaced_cols = [\"time\", \"hand_accelerometer\", \"hand_gyroscope\", \"hand_magnetometer\", \"ankle_accelerometer\", \"ankle_gyroscope\",\"ankle_magnetometer\",  \"chest_accelerometer\", \"chest_gyroscope\",\"chest_magnetometer\"]\n",
    "        \n",
    "    def column_transform(data,col_name):\n",
    "        if col_name != \"time\":\n",
    "            new = data[col_name].str.replace(\")\",\"\").str.replace(\"(\",\"\").str.replace(\" \",\"\").str.split(\",\", n = 2, expand = True) \n",
    "            data[col_name + \"_x\"] = new[0]\n",
    "            data[col_name + \"_y\"] = new[1]\n",
    "            data[col_name + \"_z\"] = new[2]\n",
    "            data.drop(columns =[col_name], inplace = True) \n",
    "        return data\n",
    "    \n",
    "    data = pd.read_csv(path)\n",
    "    \n",
    "    data = data.rename(index=str,columns = dict(zip(list(data.columns),new_col_names)))\n",
    "    \n",
    "    data = data[replaced_cols]\n",
    "    \n",
    "\n",
    "\n",
    "    for col in data.columns:\n",
    "        data = column_transform(data, col)\n",
    "    return data"
   ]
  },
  {
   "cell_type": "code",
   "execution_count": null,
   "metadata": {},
   "outputs": [],
   "source": [
    "data = transform_csv('/ksozykinraid/src/real_run.csv')\n",
    "data = data.drop(['time'],1)\n",
    "data = data.values.astype('float32')"
   ]
  },
  {
   "cell_type": "code",
   "execution_count": null,
   "metadata": {},
   "outputs": [],
   "source": [
    "batch = []\n",
    "for window in sliding_window(data,win_size=win_size,step=5):\n",
    "    batch.append(window)\n",
    "batch = torch.tensor(np.array(batch)).to(device)\n",
    "batch = batch.transpose(2,1)"
   ]
  },
  {
   "cell_type": "code",
   "execution_count": null,
   "metadata": {},
   "outputs": [],
   "source": [
    "batch.shape"
   ]
  },
  {
   "cell_type": "code",
   "execution_count": null,
   "metadata": {},
   "outputs": [],
   "source": [
    "torch.argmax(model(batch).softmax(-1),-1)"
   ]
  },
  {
   "cell_type": "code",
   "execution_count": null,
   "metadata": {},
   "outputs": [],
   "source": [
    "[activities[int(e)] for e in torch.argmax(model(batch).softmax(-1),-1)]"
   ]
  },
  {
   "cell_type": "code",
   "execution_count": null,
   "metadata": {},
   "outputs": [],
   "source": []
  }
 ],
 "metadata": {
  "kernelspec": {
   "display_name": "Python [conda env:bob_py3]",
   "language": "python",
   "name": "conda-env-bob_py3-py"
  },
  "language_info": {
   "codemirror_mode": {
    "name": "ipython",
    "version": 3
   },
   "file_extension": ".py",
   "mimetype": "text/x-python",
   "name": "python",
   "nbconvert_exporter": "python",
   "pygments_lexer": "ipython3",
   "version": "3.6.8"
  }
 },
 "nbformat": 4,
 "nbformat_minor": 2
}
