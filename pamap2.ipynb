{
 "cells": [
  {
   "cell_type": "code",
   "execution_count": 1,
   "metadata": {},
   "outputs": [
    {
     "name": "stdout",
     "output_type": "stream",
     "text": [
      "Populating the interactive namespace from numpy and matplotlib\n"
     ]
    }
   ],
   "source": [
    "import warnings\n",
    "warnings.filterwarnings(\"ignore\")\n",
    "import os\n",
    "import sys\n",
    "import numpy as np\n",
    "import torch\n",
    "from sklearn.metrics import accuracy_score,confusion_matrix,classification_report\n",
    "import  torch.nn as nn\n",
    "import torch.nn.functional as F\n",
    "rseed = 42\n",
    "np.random.seed(rseed)\n",
    "torch.manual_seed(rseed)\n",
    "gpu_id = '2'\n",
    "from joblib import Parallel, delayed\n",
    "os.environ['CUDA_VISIBLE_DEVICES']=gpu_id\n",
    "os.environ['JOBLIB_TEMP_FOLDER'] = '/ksozykinraid/data/tmp/'\n",
    "from time import time\n",
    "import torch \n",
    "import pandas as pd\n",
    "import glob2\n",
    "import json\n",
    "from tqdm import tqdm\n",
    "%pylab inline"
   ]
  },
  {
   "cell_type": "code",
   "execution_count": 2,
   "metadata": {},
   "outputs": [],
   "source": [
    "from utils import *\n",
    "from datasets import *\n",
    "from layers import *"
   ]
  },
  {
   "cell_type": "markdown",
   "metadata": {},
   "source": [
    "## Datasets"
   ]
  },
  {
   "cell_type": "code",
   "execution_count": 3,
   "metadata": {},
   "outputs": [],
   "source": [
    "data_root = '/ksozykinraid/data/sensors/'\n",
    "data_fnzip =  \"%s/%s\" % (data_root , 'PAMAP2_Dataset.zip')\n",
    "data_url = 'http://archive.ics.uci.edu/ml/machine-learning-databases/00231/PAMAP2_Dataset.zip'"
   ]
  },
  {
   "cell_type": "code",
   "execution_count": 4,
   "metadata": {},
   "outputs": [],
   "source": [
    "if not os.path.exists(data_fnzip[:-4]):\n",
    "    !curl -L $data_url -o $data_fnzip\n",
    "    !unzip $data_fnzip -d $data_root"
   ]
  },
  {
   "cell_type": "code",
   "execution_count": 5,
   "metadata": {},
   "outputs": [],
   "source": [
    "path2subjets = sorted(glob2.glob('%s/PAMAP2_Dataset/Protocol/*.dat' % data_root))"
   ]
  },
  {
   "cell_type": "code",
   "execution_count": 6,
   "metadata": {},
   "outputs": [],
   "source": [
    "def pamap_columns():\n",
    "    \"\"\"\n",
    "        https://github.com/NLeSC/mcfly-tutorial/blob/master/utils/tutorial_pamap2.py\n",
    "    \"\"\"\n",
    "    axes = ['x', 'y', 'z']\n",
    "    IMUsensor_columns = ['temperature'] + \\\n",
    "        ['acc_16g_' + i for i in axes] + \\\n",
    "        ['acc_6g_' + i for i in axes] + \\\n",
    "        ['gyroscope_' + i for i in axes] + \\\n",
    "        ['magnometer_' + i for i in axes] + \\\n",
    "        ['orientation_' + str(i) for i in range(4)]\n",
    "    columns = [\"timestamp\", \"activityID\", \"heartrate\"] + [\"hand_\" + s\n",
    "                                                         for s in IMUsensor_columns] \\\n",
    "        + [\"chest_\" + s for s in IMUsensor_columns] + [\"ankle_\" + s\n",
    "                                                       for s in IMUsensor_columns]\n",
    "    return columns"
   ]
  },
  {
   "cell_type": "code",
   "execution_count": 7,
   "metadata": {},
   "outputs": [],
   "source": [
    "demo_activities = \"lying,sitting,standing,walking\".split(',')"
   ]
  },
  {
   "cell_type": "code",
   "execution_count": null,
   "metadata": {},
   "outputs": [],
   "source": []
  },
  {
   "cell_type": "code",
   "execution_count": 8,
   "metadata": {},
   "outputs": [],
   "source": [
    "all_columns = pamap_columns()"
   ]
  },
  {
   "cell_type": "code",
   "execution_count": null,
   "metadata": {},
   "outputs": [],
   "source": []
  },
  {
   "cell_type": "code",
   "execution_count": 9,
   "metadata": {},
   "outputs": [],
   "source": [
    "input_channels = len(data_columns)"
   ]
  },
  {
   "cell_type": "code",
   "execution_count": 10,
   "metadata": {},
   "outputs": [
    {
     "data": {
      "text/plain": [
       "27"
      ]
     },
     "execution_count": 10,
     "metadata": {},
     "output_type": "execute_result"
    }
   ],
   "source": [
    "input_channels"
   ]
  },
  {
   "cell_type": "code",
   "execution_count": null,
   "metadata": {},
   "outputs": [],
   "source": []
  },
  {
   "cell_type": "code",
   "execution_count": 11,
   "metadata": {},
   "outputs": [],
   "source": [
    "# np.min([len(s) for s in subjects])\n",
    "min_len = 93620"
   ]
  },
  {
   "cell_type": "code",
   "execution_count": 12,
   "metadata": {},
   "outputs": [],
   "source": [
    "demo_mode = True"
   ]
  },
  {
   "cell_type": "code",
   "execution_count": 13,
   "metadata": {},
   "outputs": [
    {
     "name": "stderr",
     "output_type": "stream",
     "text": [
      "100%|██████████| 9/9 [00:18<00:00,  2.09s/it]\n"
     ]
    }
   ],
   "source": [
    "subjects = []\n",
    "n_subjects = len(path2subjets)\n",
    "for i in tqdm(range(n_subjects)):\n",
    "    subject = pd.read_csv(path2subjets[i],header=None,sep=' ')\n",
    "    subject.columns = pamap_columns()\n",
    "    if demo_mode:\n",
    "        subject = subject[subject['activityID'].isin([label2num[a] for a in demo_activities])]\n",
    "        subject['activityID'] = subject['activityID'] - 1\n",
    "    subject = subject[useful_columns]\n",
    "    if len(subject) > 0:\n",
    "        subject = subject.fillna(0)\n",
    "        #subject = subject.iloc[:min_len]\n",
    "        subjects.append(subject)"
   ]
  },
  {
   "cell_type": "code",
   "execution_count": 14,
   "metadata": {},
   "outputs": [
    {
     "data": {
      "text/html": [
       "<div>\n",
       "<style scoped>\n",
       "    .dataframe tbody tr th:only-of-type {\n",
       "        vertical-align: middle;\n",
       "    }\n",
       "\n",
       "    .dataframe tbody tr th {\n",
       "        vertical-align: top;\n",
       "    }\n",
       "\n",
       "    .dataframe thead th {\n",
       "        text-align: right;\n",
       "    }\n",
       "</style>\n",
       "<table border=\"1\" class=\"dataframe\">\n",
       "  <thead>\n",
       "    <tr style=\"text-align: right;\">\n",
       "      <th></th>\n",
       "      <th>hand_acc_16g_x</th>\n",
       "      <th>hand_acc_16g_y</th>\n",
       "      <th>hand_acc_16g_z</th>\n",
       "      <th>hand_gyroscope_x</th>\n",
       "      <th>hand_gyroscope_y</th>\n",
       "      <th>hand_gyroscope_z</th>\n",
       "      <th>hand_magnometer_x</th>\n",
       "      <th>hand_magnometer_y</th>\n",
       "      <th>hand_magnometer_z</th>\n",
       "      <th>chest_acc_16g_x</th>\n",
       "      <th>...</th>\n",
       "      <th>ankle_acc_16g_x</th>\n",
       "      <th>ankle_acc_16g_y</th>\n",
       "      <th>ankle_acc_16g_z</th>\n",
       "      <th>ankle_gyroscope_x</th>\n",
       "      <th>ankle_gyroscope_y</th>\n",
       "      <th>ankle_gyroscope_z</th>\n",
       "      <th>ankle_magnometer_x</th>\n",
       "      <th>ankle_magnometer_y</th>\n",
       "      <th>ankle_magnometer_z</th>\n",
       "      <th>activityID</th>\n",
       "    </tr>\n",
       "  </thead>\n",
       "  <tbody>\n",
       "    <tr>\n",
       "      <th>9880</th>\n",
       "      <td>-9.00214</td>\n",
       "      <td>3.10187</td>\n",
       "      <td>2.31949</td>\n",
       "      <td>-0.146257</td>\n",
       "      <td>-0.059699</td>\n",
       "      <td>-0.051229</td>\n",
       "      <td>49.9839</td>\n",
       "      <td>13.3515</td>\n",
       "      <td>-7.36445</td>\n",
       "      <td>0.837079</td>\n",
       "      <td>...</td>\n",
       "      <td>9.71683</td>\n",
       "      <td>0.336921</td>\n",
       "      <td>-2.38836</td>\n",
       "      <td>0.014686</td>\n",
       "      <td>0.019172</td>\n",
       "      <td>0.017190</td>\n",
       "      <td>-38.2428</td>\n",
       "      <td>-49.3220</td>\n",
       "      <td>12.2520</td>\n",
       "      <td>0</td>\n",
       "    </tr>\n",
       "    <tr>\n",
       "      <th>9881</th>\n",
       "      <td>-8.77219</td>\n",
       "      <td>3.17667</td>\n",
       "      <td>2.39966</td>\n",
       "      <td>-0.130033</td>\n",
       "      <td>-0.024626</td>\n",
       "      <td>-0.093336</td>\n",
       "      <td>50.3520</td>\n",
       "      <td>13.4562</td>\n",
       "      <td>-6.97214</td>\n",
       "      <td>0.987250</td>\n",
       "      <td>...</td>\n",
       "      <td>9.64108</td>\n",
       "      <td>0.375685</td>\n",
       "      <td>-2.42796</td>\n",
       "      <td>-0.004786</td>\n",
       "      <td>-0.003672</td>\n",
       "      <td>0.019288</td>\n",
       "      <td>-37.9971</td>\n",
       "      <td>-48.9484</td>\n",
       "      <td>12.1106</td>\n",
       "      <td>0</td>\n",
       "    </tr>\n",
       "    <tr>\n",
       "      <th>9882</th>\n",
       "      <td>-9.11203</td>\n",
       "      <td>3.02787</td>\n",
       "      <td>2.43356</td>\n",
       "      <td>-0.093558</td>\n",
       "      <td>-0.097161</td>\n",
       "      <td>-0.078489</td>\n",
       "      <td>49.9861</td>\n",
       "      <td>13.3512</td>\n",
       "      <td>-7.62692</td>\n",
       "      <td>0.796677</td>\n",
       "      <td>...</td>\n",
       "      <td>9.71204</td>\n",
       "      <td>0.262269</td>\n",
       "      <td>-2.54230</td>\n",
       "      <td>-0.025297</td>\n",
       "      <td>0.020647</td>\n",
       "      <td>0.021037</td>\n",
       "      <td>-38.7444</td>\n",
       "      <td>-49.2944</td>\n",
       "      <td>13.1012</td>\n",
       "      <td>0</td>\n",
       "    </tr>\n",
       "    <tr>\n",
       "      <th>9883</th>\n",
       "      <td>-8.95953</td>\n",
       "      <td>3.02704</td>\n",
       "      <td>2.47433</td>\n",
       "      <td>-0.127502</td>\n",
       "      <td>-0.062408</td>\n",
       "      <td>-0.070290</td>\n",
       "      <td>50.6001</td>\n",
       "      <td>13.5670</td>\n",
       "      <td>-7.10454</td>\n",
       "      <td>1.019650</td>\n",
       "      <td>...</td>\n",
       "      <td>9.75036</td>\n",
       "      <td>0.223742</td>\n",
       "      <td>-2.50308</td>\n",
       "      <td>-0.039941</td>\n",
       "      <td>0.018389</td>\n",
       "      <td>-0.008956</td>\n",
       "      <td>-38.6244</td>\n",
       "      <td>-49.3025</td>\n",
       "      <td>12.3925</td>\n",
       "      <td>0</td>\n",
       "    </tr>\n",
       "    <tr>\n",
       "      <th>9884</th>\n",
       "      <td>-8.95847</td>\n",
       "      <td>3.17880</td>\n",
       "      <td>2.47383</td>\n",
       "      <td>-0.122835</td>\n",
       "      <td>-0.056185</td>\n",
       "      <td>-0.060001</td>\n",
       "      <td>50.6028</td>\n",
       "      <td>13.6906</td>\n",
       "      <td>-7.63023</td>\n",
       "      <td>1.013930</td>\n",
       "      <td>...</td>\n",
       "      <td>9.64009</td>\n",
       "      <td>0.185842</td>\n",
       "      <td>-2.42680</td>\n",
       "      <td>0.015034</td>\n",
       "      <td>0.031196</td>\n",
       "      <td>0.003912</td>\n",
       "      <td>-37.9932</td>\n",
       "      <td>-48.6886</td>\n",
       "      <td>12.9613</td>\n",
       "      <td>0</td>\n",
       "    </tr>\n",
       "  </tbody>\n",
       "</table>\n",
       "<p>5 rows × 28 columns</p>\n",
       "</div>"
      ],
      "text/plain": [
       "      hand_acc_16g_x  hand_acc_16g_y  hand_acc_16g_z  hand_gyroscope_x  \\\n",
       "9880        -9.00214         3.10187         2.31949         -0.146257   \n",
       "9881        -8.77219         3.17667         2.39966         -0.130033   \n",
       "9882        -9.11203         3.02787         2.43356         -0.093558   \n",
       "9883        -8.95953         3.02704         2.47433         -0.127502   \n",
       "9884        -8.95847         3.17880         2.47383         -0.122835   \n",
       "\n",
       "      hand_gyroscope_y  hand_gyroscope_z  hand_magnometer_x  \\\n",
       "9880         -0.059699         -0.051229            49.9839   \n",
       "9881         -0.024626         -0.093336            50.3520   \n",
       "9882         -0.097161         -0.078489            49.9861   \n",
       "9883         -0.062408         -0.070290            50.6001   \n",
       "9884         -0.056185         -0.060001            50.6028   \n",
       "\n",
       "      hand_magnometer_y  hand_magnometer_z  chest_acc_16g_x     ...      \\\n",
       "9880            13.3515           -7.36445         0.837079     ...       \n",
       "9881            13.4562           -6.97214         0.987250     ...       \n",
       "9882            13.3512           -7.62692         0.796677     ...       \n",
       "9883            13.5670           -7.10454         1.019650     ...       \n",
       "9884            13.6906           -7.63023         1.013930     ...       \n",
       "\n",
       "      ankle_acc_16g_x  ankle_acc_16g_y  ankle_acc_16g_z  ankle_gyroscope_x  \\\n",
       "9880          9.71683         0.336921         -2.38836           0.014686   \n",
       "9881          9.64108         0.375685         -2.42796          -0.004786   \n",
       "9882          9.71204         0.262269         -2.54230          -0.025297   \n",
       "9883          9.75036         0.223742         -2.50308          -0.039941   \n",
       "9884          9.64009         0.185842         -2.42680           0.015034   \n",
       "\n",
       "      ankle_gyroscope_y  ankle_gyroscope_z  ankle_magnometer_x  \\\n",
       "9880           0.019172           0.017190            -38.2428   \n",
       "9881          -0.003672           0.019288            -37.9971   \n",
       "9882           0.020647           0.021037            -38.7444   \n",
       "9883           0.018389          -0.008956            -38.6244   \n",
       "9884           0.031196           0.003912            -37.9932   \n",
       "\n",
       "      ankle_magnometer_y  ankle_magnometer_z  activityID  \n",
       "9880            -49.3220             12.2520           0  \n",
       "9881            -48.9484             12.1106           0  \n",
       "9882            -49.2944             13.1012           0  \n",
       "9883            -49.3025             12.3925           0  \n",
       "9884            -48.6886             12.9613           0  \n",
       "\n",
       "[5 rows x 28 columns]"
      ]
     },
     "execution_count": 14,
     "metadata": {},
     "output_type": "execute_result"
    }
   ],
   "source": [
    "subjects[4].head()"
   ]
  },
  {
   "cell_type": "code",
   "execution_count": 15,
   "metadata": {},
   "outputs": [
    {
     "data": {
      "text/plain": [
       "dict_keys(['lying', 'sitting', 'standing', 'walking', 'running', 'cycling', 'Nordic walking', 'watching TV', 'computer work', 'car driving', 'ascending stairs', 'descending stairs', 'vacuum cleaning', 'ironing', 'folding laundry', 'house cleaning', 'playing soccer', 'rope jumping', 'other'])"
      ]
     },
     "execution_count": 15,
     "metadata": {},
     "output_type": "execute_result"
    }
   ],
   "source": [
    "label2num.keys()"
   ]
  },
  {
   "cell_type": "code",
   "execution_count": 16,
   "metadata": {},
   "outputs": [],
   "source": [
    "if demo_mode:\n",
    "    num_classes = 4\n",
    "else:\n",
    "    num_classes = max([int(e) for e in num2label.keys() ]) + 1"
   ]
  },
  {
   "cell_type": "code",
   "execution_count": 17,
   "metadata": {},
   "outputs": [
    {
     "data": {
      "text/plain": [
       "4"
      ]
     },
     "execution_count": 17,
     "metadata": {},
     "output_type": "execute_result"
    }
   ],
   "source": [
    "num_classes"
   ]
  },
  {
   "cell_type": "code",
   "execution_count": 18,
   "metadata": {},
   "outputs": [],
   "source": [
    "win_size = 256\n",
    "step = 128"
   ]
  },
  {
   "cell_type": "code",
   "execution_count": 19,
   "metadata": {},
   "outputs": [
    {
     "name": "stderr",
     "output_type": "stream",
     "text": [
      "100%|██████████| 8/8 [00:05<00:00,  1.55it/s]\n",
      "100%|██████████| 8/8 [00:04<00:00,  1.60it/s]\n"
     ]
    }
   ],
   "source": [
    "train_dataset = pamap2Dataset(subjects,evaluate=False,win_size=win_size,step=step,num_classes=num_classes)\n",
    "val_dataset = pamap2Dataset(subjects,evaluate=True,num_classes=num_classes)\n"
   ]
  },
  {
   "cell_type": "code",
   "execution_count": 20,
   "metadata": {},
   "outputs": [],
   "source": [
    "train_lb = np.argmax(train_dataset.labels[train_dataset.train_idxs],-1)\n",
    "val_lb = np.argmax(val_dataset.labels[val_dataset.val_idxs],-1)"
   ]
  },
  {
   "cell_type": "code",
   "execution_count": 21,
   "metadata": {},
   "outputs": [
    {
     "data": {
      "text/plain": [
       "(array([ 997.,    0.,    0., 1035.,    0.,    0., 1293.,    0.,    0.,\n",
       "        1076.]),\n",
       " array([0. , 0.3, 0.6, 0.9, 1.2, 1.5, 1.8, 2.1, 2.4, 2.7, 3. ]),\n",
       " <a list of 10 Patch objects>)"
      ]
     },
     "execution_count": 21,
     "metadata": {},
     "output_type": "execute_result"
    },
    {
     "data": {
      "image/png": "[encoded data removed]",
      "text/plain": [
       "<Figure size 432x288 with 1 Axes>"
      ]
     },
     "metadata": {
      "needs_background": "light"
     },
     "output_type": "display_data"
    }
   ],
   "source": [
    "plt.hist(train_lb)"
   ]
  },
  {
   "cell_type": "code",
   "execution_count": 22,
   "metadata": {},
   "outputs": [
    {
     "data": {
      "text/plain": [
       "(array([448.,   0.,   0., 449.,   0.,   0., 564.,   0.,   0., 426.]),\n",
       " array([0. , 0.3, 0.6, 0.9, 1.2, 1.5, 1.8, 2.1, 2.4, 2.7, 3. ]),\n",
       " <a list of 10 Patch objects>)"
      ]
     },
     "execution_count": 22,
     "metadata": {},
     "output_type": "execute_result"
    },
    {
     "data": {
      "image/png": "[encoded data removed]",
      "text/plain": [
       "<Figure size 432x288 with 1 Axes>"
      ]
     },
     "metadata": {
      "needs_background": "light"
     },
     "output_type": "display_data"
    }
   ],
   "source": [
    "plt.hist(val_lb)"
   ]
  },
  {
   "cell_type": "markdown",
   "metadata": {},
   "source": [
    "# Models"
   ]
  },
  {
   "cell_type": "code",
   "execution_count": 23,
   "metadata": {},
   "outputs": [],
   "source": [
    "class Conv1DNet(nn.Module):\n",
    "    \n",
    "    def __init__(self):\n",
    "        super(self.__class__, self).__init__()\n",
    "        self.input_bn = nn.BatchNorm1d(input_channels)\n",
    "        self.conv11 = nn.Conv1d(in_channels=input_channels, out_channels=64, kernel_size=3, padding=1)\n",
    "        self.pool11 = nn.MaxPool1d(kernel_size=2)\n",
    "        self.conv21 = nn.Conv1d(in_channels=64, out_channels=128, kernel_size=3, padding=1)\n",
    "        self.pool21 = nn.MaxPool1d(kernel_size=2)\n",
    "        self.conv31 = nn.Conv1d(in_channels=128, out_channels=256, kernel_size=3, padding=1)\n",
    "        self.pool31 = nn.MaxPool1d(kernel_size=2)\n",
    "        #self.gpool = GlobalMaxPooling()\n",
    "        self.fc1 = nn.Linear(256*(win_size//(2**3)),512)\n",
    "        self.fc2 = nn.Linear(512,512)\n",
    "        self.logit = nn.Linear(512,num_classes)\n",
    "        \n",
    "        self.features = nn.Sequential(\n",
    "             self.input_bn,\n",
    "             self.conv11,self.pool11,\n",
    "             nn.ReLU(),                            \n",
    "             self.conv21,self.pool21,\n",
    "             nn.ReLU(),\n",
    "             self.conv31,self.pool31,\n",
    "             nn.ReLU(),\n",
    "             Flatten(),\n",
    "        )\n",
    "        \n",
    "        self.classifier = nn.Sequential(\n",
    "             self.fc1,\n",
    "             nn.ReLU(),\n",
    "             self.fc2,\n",
    "             nn.ReLU(),\n",
    "             self.logit,\n",
    "        )\n",
    "        \n",
    "    def forward(self,input):\n",
    "        features = self.features(input)\n",
    "        return self.classifier(features)"
   ]
  },
  {
   "cell_type": "code",
   "execution_count": 24,
   "metadata": {},
   "outputs": [],
   "source": [
    "class MultiSincNet(nn.Module):\n",
    "    \n",
    "    def __init__(self,\n",
    "                 N_filt = 12,  \n",
    "                 Filt_dim = 5, \n",
    "                 fs = 100,\n",
    "                 device = \"cuda\"):\n",
    "        super(self.__class__, self).__init__()\n",
    "        self.input_bn = nn.BatchNorm1d(input_channels)\n",
    "        self.fs = fs\n",
    "        self.device = device\n",
    "        self.sincconv = multichannel_sinc_conv(Filt_dim=Filt_dim,\n",
    "                                  N_channels=input_channels,\n",
    "                                  N_filt=N_filt,\n",
    "                                  fs=fs,\n",
    "                                  device = device)\n",
    "        self.layer_norm = LayerNorm(win_size-Filt_dim+1)\n",
    "        self.conv11 = nn.Conv1d(in_channels=324, out_channels=64, kernel_size=3, padding=1)\n",
    "        self.pool11 = nn.MaxPool1d(kernel_size=2)\n",
    "        self.conv21 = nn.Conv1d(in_channels=64, out_channels=128, kernel_size=3, padding=1)\n",
    "        self.pool21 = nn.MaxPool1d(kernel_size=2)\n",
    "        self.conv31 = nn.Conv1d(in_channels=128, out_channels=256, kernel_size=3, padding=1)\n",
    "        self.pool31 = nn.MaxPool1d(kernel_size=2)\n",
    "        #self.gpool = GlobalMaxPooling()\n",
    "        self.fc1 = nn.Linear(7936,512)\n",
    "        self.fc2 = nn.Linear(512,512)\n",
    "        self.logit = nn.Linear(512,num_classes)\n",
    "        \n",
    "        self.features = nn.Sequential(\n",
    "             self.input_bn,\n",
    "             self.sincconv,\n",
    "             #self.layer_norm,\n",
    "             self.conv11,\n",
    "             nn.LeakyReLU(),\n",
    "             self.pool11,\n",
    "             nn.LeakyReLU(),                            \n",
    "             self.conv21,self.pool21,\n",
    "             nn.LeakyReLU(),\n",
    "             self.conv31,self.pool31,\n",
    "             nn.LeakyReLU(),\n",
    "             Flatten(),\n",
    "        )\n",
    "        \n",
    "        self.classifier = nn.Sequential(\n",
    "             self.fc1,\n",
    "             nn.LeakyReLU(),\n",
    "             self.fc2,\n",
    "             nn.LeakyReLU(),\n",
    "             self.logit,\n",
    "        )\n",
    "        \n",
    "    def forward(self,input):\n",
    "        features = self.features(input)\n",
    "        return self.classifier(features)"
   ]
  },
  {
   "cell_type": "code",
   "execution_count": 25,
   "metadata": {},
   "outputs": [
    {
     "name": "stdout",
     "output_type": "stream",
     "text": [
      "torch.Size([1, 4])\n"
     ]
    }
   ],
   "source": [
    "#debug\n",
    "device = 'cpu'\n",
    "batch_size = 1\n",
    "model = MultiSincNet(device=device).to(device)\n",
    "dummy_batch = train_dataset.data[:batch_size]\n",
    "dummy_batch = torch.tensor(dummy_batch).transpose(2,1)\n",
    "prediction = model(dummy_batch.to(device))\n",
    "del model\n",
    "del dummy_batch\n",
    "print(prediction.shape)\n",
    "del prediction\n",
    "torch.cuda.empty_cache()"
   ]
  },
  {
   "cell_type": "markdown",
   "metadata": {},
   "source": [
    "## Experiments"
   ]
  },
  {
   "cell_type": "code",
   "execution_count": 26,
   "metadata": {},
   "outputs": [],
   "source": [
    "num_epochs = 20\n",
    "verbose = 5\n",
    "batch_size = 1024\n",
    "device = \"cuda\""
   ]
  },
  {
   "cell_type": "code",
   "execution_count": 27,
   "metadata": {},
   "outputs": [],
   "source": [
    "\n",
    "def compute_loss(reference, prediction):\n",
    "    \"\"\"\n",
    "    \n",
    "    \"\"\"\n",
    "    reference = reference.to(device)\n",
    "    reference = torch.argmax(reference,dim=-1).to(torch.long)\n",
    "    prediction = prediction.log_softmax(dim=-1)\n",
    "    loss = nn.NLLLoss()(prediction,reference)\n",
    "    return loss"
   ]
  },
  {
   "cell_type": "code",
   "execution_count": 28,
   "metadata": {},
   "outputs": [],
   "source": [
    "def compute_acc(reference, prediction):\n",
    "    \"\"\"\n",
    "    \n",
    "    \"\"\"\n",
    "    reference = reference.to(device)\n",
    "    prediction = torch.argmax(prediction.log_softmax(dim=-1),dim=-1)\n",
    "    reference = torch.argmax(reference,dim=-1)\n",
    "    return (reference == prediction).to(torch.float32).mean()"
   ]
  },
  {
   "cell_type": "code",
   "execution_count": 29,
   "metadata": {},
   "outputs": [],
   "source": [
    "train_loader = torch.utils.data.DataLoader(train_dataset,batch_size=batch_size,shuffle=True)\n",
    "val_loader = torch.utils.data.DataLoader(val_dataset,batch_size=batch_size,shuffle=False)"
   ]
  },
  {
   "cell_type": "code",
   "execution_count": 30,
   "metadata": {},
   "outputs": [],
   "source": [
    "model = Conv1DNet().to(device)\n",
    "#model = MultiSincNet(device=device).to(device)\n",
    "opt = torch.optim.Adam(model.parameters(), lr=1e-3,weight_decay=1e-5)"
   ]
  },
  {
   "cell_type": "code",
   "execution_count": 31,
   "metadata": {},
   "outputs": [],
   "source": [
    "best_acc = -1\n",
    "best_loss =999999999\n",
    "sPATH = ''\n",
    "fmt_str = '/ksozykinraid/har-models/%s_%dclass_%.4f.pth'"
   ]
  },
  {
   "cell_type": "code",
   "execution_count": 32,
   "metadata": {},
   "outputs": [],
   "source": [
    "from collections import  defaultdict\n",
    "report  = defaultdict(list)"
   ]
  },
  {
   "cell_type": "code",
   "execution_count": 33,
   "metadata": {},
   "outputs": [],
   "source": [
    "from IPython import display"
   ]
  },
  {
   "cell_type": "code",
   "execution_count": null,
   "metadata": {},
   "outputs": [],
   "source": []
  },
  {
   "cell_type": "code",
   "execution_count": 34,
   "metadata": {},
   "outputs": [
    {
     "data": {
      "image/png": "[encoded data removed]",
      "text/plain": [
       "<Figure size 432x288 with 1 Axes>"
      ]
     },
     "metadata": {
      "needs_background": "light"
     },
     "output_type": "display_data"
    },
    {
     "name": "stdout",
     "output_type": "stream",
     "text": [
      "19\tTraining:\n",
      "\tLoss:\t0.02415\n",
      "\tACC:\t0.99114\n",
      "19\tValidation:\n",
      "\tBEST VAL loss:\t0.04846\n",
      "\tLoss:\t0.05459\n",
      "\tACC:\t0.98357\n",
      "\n",
      "\n"
     ]
    }
   ],
   "source": [
    "\n",
    "for epoch in range(num_epochs):\n",
    "    \n",
    "    \n",
    "    train_loss = train_acc = train_batches = 0 \n",
    "    train_acc_fixed = 0\n",
    "    model.train()\n",
    "    y_true,y_pred = [],[]\n",
    "    start = time.time()\n",
    "    for batch in train_loader:\n",
    "        \n",
    "        data,reference = batch\n",
    "        data = data.transpose(2,1).to(device)\n",
    "        prediction = model(data)\n",
    "        y_true.append(reference)\n",
    "        y_pred.append(prediction)\n",
    "        loss = compute_loss(reference, prediction)\n",
    "        loss.backward()\n",
    "        opt.step()\n",
    "        opt.zero_grad()\n",
    "        \n",
    "        with torch.no_grad():\n",
    "            train_loss += loss.item()\n",
    "            train_batches += 1\n",
    "    y_true = torch.cat(y_true,dim=0)\n",
    "    y_pred = torch.cat(y_pred,dim=0)\n",
    "    \n",
    "    with torch.no_grad():\n",
    "        train_acc += compute_acc(y_true, y_pred).cpu().numpy()\n",
    "    \n",
    "    val_loss = val_acc = val_batches = 0\n",
    "    val_acc_fixed = 0\n",
    "    #model.train(False)\n",
    "    model.eval()\n",
    "    y_true,y_pred = [],[]\n",
    "    for batch in val_loader:\n",
    "        data,reference = batch\n",
    "        data = data.transpose(2,1).to(device)\n",
    "        prediction = model(data)\n",
    "        y_true.append(reference)\n",
    "        y_pred.append(prediction)\n",
    "        loss = compute_loss(reference, prediction)\n",
    "        with torch.no_grad():\n",
    "            val_loss += loss.item()\n",
    "            \n",
    "            val_batches += 1\n",
    "    y_true = torch.cat(y_true,dim=0)\n",
    "    y_pred = torch.cat(y_pred,dim=0)\n",
    "    with torch.no_grad():\n",
    "        val_acc += compute_acc(y_true, y_pred).cpu().numpy()\n",
    "    #val_acc = (val_acc / val_batches)\n",
    "    \n",
    "    val_loss = (val_loss / val_batches)\n",
    "    if val_loss < best_loss:\n",
    "        best_loss = val_loss\n",
    "        if sPATH != '' and os.path.exists(sPATH):\n",
    "            os.remove(sPATH)\n",
    "        sPATH = fmt_str % (model.__class__.__name__,num_classes,best_loss)\n",
    "        torch.save(model.state_dict(),sPATH)\n",
    "        if best_acc > 94:\n",
    "            print(\"Early Stopping\")\n",
    "            break\n",
    "    report['train_loss'].append(train_loss / train_batches)\n",
    "    report['val_loss'].append(val_loss)\n",
    "    finish = time.time()\n",
    "    time_epoch = finish-start    \n",
    "    display.clear_output(wait=True)\n",
    "    fig = plt.Figure(figsize=(12,6),facecolor='white')\n",
    "    plt.plot(report['train_loss'],color='green',label='train_loss')\n",
    "    plt.plot(report['val_loss'],color='magenta',label='val_loss')\n",
    "    plt.xlabel(\"#Epoch %d, %.3f seconds per epoch\" % (epoch,time_epoch))\n",
    "    plt.ylabel(\"#Loss\")\n",
    "    plt.title(model.__class__.__name__)\n",
    "    legend(loc=2, prop={'size': 12})\n",
    "    plt.grid()\n",
    "    plt.show()\n",
    "    \n",
    "    print(\"%d\\tTraining:\" % (epoch))\n",
    "        \n",
    "    print(\"\\tLoss:\\t%.5f\" % (train_loss / train_batches))\n",
    "    print(\"\\tACC:\\t%.5f\" % (train_acc))\n",
    "    print(\"%d\\tValidation:\" % (epoch))\n",
    "    print(\"\\tBEST VAL loss:\\t%.5f\" % best_loss)\n",
    "    print(\"\\tLoss:\\t%.5f\" % val_loss)\n",
    "    print(\"\\tACC:\\t%.5f\" % val_acc)\n",
    "    print('\\n')\n",
    "    \n",
    "    \n",
    "    if epoch  % verbose == 0 or epoch == num_epochs - 1:\n",
    "        pass"
   ]
  },
  {
   "cell_type": "code",
   "execution_count": 35,
   "metadata": {},
   "outputs": [],
   "source": [
    "model.load_state_dict(torch.load(sPATH))\n",
    "model.eval();"
   ]
  },
  {
   "cell_type": "markdown",
   "metadata": {},
   "source": [
    "## Metrics"
   ]
  },
  {
   "cell_type": "code",
   "execution_count": 36,
   "metadata": {},
   "outputs": [],
   "source": [
    "y_true_np = torch.argmax(y_true,dim=-1).detach().cpu().numpy()\n",
    "y_pred_np = torch.argmax(y_pred.log_softmax(dim=-1),dim=-1).detach().cpu().numpy()"
   ]
  },
  {
   "cell_type": "code",
   "execution_count": 37,
   "metadata": {},
   "outputs": [],
   "source": [
    "n_conf = 5 if demo_mode else num_classes + 1"
   ]
  },
  {
   "cell_type": "code",
   "execution_count": 38,
   "metadata": {},
   "outputs": [],
   "source": [
    "if demo_mode:\n",
    "    y_true_np,y_pred_np = y_true_np+1,y_pred_np+1 "
   ]
  },
  {
   "cell_type": "code",
   "execution_count": 39,
   "metadata": {},
   "outputs": [],
   "source": [
    "creport = pd.DataFrame((classification_report(y_true_np,y_pred_np,output_dict=True)))\n",
    "\n",
    "fm_score = []\n",
    "for i in range(n_conf):\n",
    "    try:\n",
    "        fm_score.append(creport[str(i)]['f1-score'])\n",
    "    except:\n",
    "        pass"
   ]
  },
  {
   "cell_type": "code",
   "execution_count": 40,
   "metadata": {
    "scrolled": true
   },
   "outputs": [
    {
     "data": {
      "text/plain": [
       "0.9834317458343345"
      ]
     },
     "execution_count": 40,
     "metadata": {},
     "output_type": "execute_result"
    }
   ],
   "source": [
    "np.mean(fm_score )"
   ]
  },
  {
   "cell_type": "code",
   "execution_count": 41,
   "metadata": {},
   "outputs": [
    {
     "data": {
      "text/plain": [
       "5"
      ]
     },
     "execution_count": 41,
     "metadata": {},
     "output_type": "execute_result"
    }
   ],
   "source": [
    "n_conf"
   ]
  },
  {
   "cell_type": "code",
   "execution_count": 42,
   "metadata": {},
   "outputs": [],
   "source": [
    "# rope jumping corrupting color scheme\n",
    "cm  = create_conf_matrix(y_true_np,y_pred_np,n_classes=n_conf)\n",
    "cmdf = pd.DataFrame(cm)\n",
    "\n",
    "cols = [num2label[i] if i in list(num2label.keys()) else str(i) for i in range(n_conf)]\n",
    "cmdf.columns = cols\n",
    "cmdf.index = cols\n",
    "correct = [i for i,e in enumerate(cmdf.columns) if not str(e).isnumeric() ]\n",
    "cmdf = cmdf.iloc[correct ,correct ]\n",
    "#if 'rope jumping' in cmdf.columns:\n",
    "#    cmdf = cmdf.drop('rope jumping', 1)"
   ]
  },
  {
   "cell_type": "code",
   "execution_count": 43,
   "metadata": {},
   "outputs": [
    {
     "name": "stdout",
     "output_type": "stream",
     "text": [
      "<class '__main__.Conv1DNet'>\n"
     ]
    }
   ],
   "source": [
    "print(model.__class__)"
   ]
  },
  {
   "cell_type": "code",
   "execution_count": 44,
   "metadata": {},
   "outputs": [
    {
     "data": {
      "text/html": [
       "<div>\n",
       "<style scoped>\n",
       "    .dataframe tbody tr th:only-of-type {\n",
       "        vertical-align: middle;\n",
       "    }\n",
       "\n",
       "    .dataframe tbody tr th {\n",
       "        vertical-align: top;\n",
       "    }\n",
       "\n",
       "    .dataframe thead th {\n",
       "        text-align: right;\n",
       "    }\n",
       "</style>\n",
       "<table border=\"1\" class=\"dataframe\">\n",
       "  <thead>\n",
       "    <tr style=\"text-align: right;\">\n",
       "      <th></th>\n",
       "      <th>other</th>\n",
       "      <th>lying</th>\n",
       "      <th>sitting</th>\n",
       "      <th>standing</th>\n",
       "      <th>walking</th>\n",
       "    </tr>\n",
       "  </thead>\n",
       "  <tbody>\n",
       "    <tr>\n",
       "      <th>other</th>\n",
       "      <td>0</td>\n",
       "      <td>0</td>\n",
       "      <td>0</td>\n",
       "      <td>0</td>\n",
       "      <td>0</td>\n",
       "    </tr>\n",
       "    <tr>\n",
       "      <th>lying</th>\n",
       "      <td>0</td>\n",
       "      <td>436</td>\n",
       "      <td>6</td>\n",
       "      <td>7</td>\n",
       "      <td>2</td>\n",
       "    </tr>\n",
       "    <tr>\n",
       "      <th>sitting</th>\n",
       "      <td>0</td>\n",
       "      <td>11</td>\n",
       "      <td>443</td>\n",
       "      <td>4</td>\n",
       "      <td>0</td>\n",
       "    </tr>\n",
       "    <tr>\n",
       "      <th>standing</th>\n",
       "      <td>0</td>\n",
       "      <td>1</td>\n",
       "      <td>0</td>\n",
       "      <td>553</td>\n",
       "      <td>0</td>\n",
       "    </tr>\n",
       "    <tr>\n",
       "      <th>walking</th>\n",
       "      <td>0</td>\n",
       "      <td>0</td>\n",
       "      <td>0</td>\n",
       "      <td>0</td>\n",
       "      <td>424</td>\n",
       "    </tr>\n",
       "  </tbody>\n",
       "</table>\n",
       "</div>"
      ],
      "text/plain": [
       "          other  lying  sitting  standing  walking\n",
       "other         0      0        0         0        0\n",
       "lying         0    436        6         7        2\n",
       "sitting       0     11      443         4        0\n",
       "standing      0      1        0       553        0\n",
       "walking       0      0        0         0      424"
      ]
     },
     "execution_count": 44,
     "metadata": {},
     "output_type": "execute_result"
    }
   ],
   "source": [
    "cmdf"
   ]
  },
  {
   "cell_type": "markdown",
   "metadata": {},
   "source": [
    "## History of best Results"
   ]
  },
  {
   "cell_type": "markdown",
   "metadata": {},
   "source": [
    "#### Regular conv1DNet\n",
    "all classes F_m : 0.9021275746051783\n",
    "<br>\n",
    "4 classes F_M   : 0.9834350989829983\n",
    "\n",
    "#### MultiSincNet\n",
    "all classes F_m : 0.916053014748477\n",
    "<br>\n",
    "4 classes F_M   : 0.9863380805083194"
   ]
  },
  {
   "cell_type": "code",
   "execution_count": null,
   "metadata": {},
   "outputs": [],
   "source": []
  }
 ],
 "metadata": {
  "kernelspec": {
   "display_name": "Python [conda env:bob_py3]",
   "language": "python",
   "name": "conda-env-bob_py3-py"
  },
  "language_info": {
   "codemirror_mode": {
    "name": "ipython",
    "version": 3
   },
   "file_extension": ".py",
   "mimetype": "text/x-python",
   "name": "python",
   "nbconvert_exporter": "python",
   "pygments_lexer": "ipython3",
   "version": "3.6.8"
  }
 },
 "nbformat": 4,
 "nbformat_minor": 2
}
