{
 "cells": [
  {
   "cell_type": "code",
   "execution_count": 1,
   "metadata": {},
   "outputs": [
    {
     "name": "stdout",
     "output_type": "stream",
     "text": [
      "Populating the interactive namespace from numpy and matplotlib\n"
     ]
    }
   ],
   "source": [
    "import warnings\n",
    "warnings.filterwarnings(\"ignore\")\n",
    "import os\n",
    "import sys\n",
    "import numpy as np\n",
    "import torch\n",
    "import  torch.nn as nn\n",
    "import torch.nn.functional as F\n",
    "rseed = 42\n",
    "np.random.seed(rseed)\n",
    "torch.manual_seed(rseed)\n",
    "gpu_id = '3'\n",
    "import joblib\n",
    "from joblib import Parallel, delayed\n",
    "os.environ['CUDA_VISIBLE_DEVICES']=gpu_id\n",
    "os.environ['JOBLIB_TEMP_FOLDER'] = '/ksozykinraid/data/tmp/'\n",
    "import torch \n",
    "import pandas as pd\n",
    "import glob2\n",
    "import json\n",
    "from ipypb import ipb\n",
    "from tqdm import tqdm\n",
    "%pylab inline"
   ]
  },
  {
   "cell_type": "markdown",
   "metadata": {},
   "source": [
    "## Datasets"
   ]
  },
  {
   "cell_type": "code",
   "execution_count": 2,
   "metadata": {},
   "outputs": [],
   "source": [
    "data_root = '/ksozykinraid/data/sensors/'\n",
    "data_fnzip =  \"%s/%s\" % (data_root , 'PAMAP2_Dataset.zip')\n",
    "data_url = 'http://archive.ics.uci.edu/ml/machine-learning-databases/00231/PAMAP2_Dataset.zip'"
   ]
  },
  {
   "cell_type": "code",
   "execution_count": 3,
   "metadata": {},
   "outputs": [],
   "source": [
    "if not os.path.exists(data_fnzip[:-4]):\n",
    "    !curl -L $data_url -o $data_fnzip\n",
    "    !unzip $data_fnzip -d $data_root"
   ]
  },
  {
   "cell_type": "code",
   "execution_count": 4,
   "metadata": {},
   "outputs": [],
   "source": [
    "path2subjets = sorted(glob2.glob('%s/PAMAP2_Dataset/Protocol/*.dat' % data_root))"
   ]
  },
  {
   "cell_type": "code",
   "execution_count": 5,
   "metadata": {},
   "outputs": [],
   "source": [
    "def pamap_columns():\n",
    "    \"\"\"\n",
    "        https://github.com/NLeSC/mcfly-tutorial/blob/master/utils/tutorial_pamap2.py\n",
    "    \"\"\"\n",
    "    axes = ['x', 'y', 'z']\n",
    "    IMUsensor_columns = ['temperature'] + \\\n",
    "        ['acc_16g_' + i for i in axes] + \\\n",
    "        ['acc_6g_' + i for i in axes] + \\\n",
    "        ['gyroscope_' + i for i in axes] + \\\n",
    "        ['magnometer_' + i for i in axes] + \\\n",
    "        ['orientation_' + str(i) for i in range(4)]\n",
    "    columns = [\"timestamp\", \"activityID\", \"heartrate\"] + [\"hand_\" + s\n",
    "                                                         for s in IMUsensor_columns] \\\n",
    "        + [\"chest_\" + s for s in IMUsensor_columns] + [\"ankle_\" + s\n",
    "                                                       for s in IMUsensor_columns]\n",
    "    return columns"
   ]
  },
  {
   "cell_type": "code",
   "execution_count": 6,
   "metadata": {},
   "outputs": [],
   "source": [
    "demo_activities = \"lying,sitting,standing,walking\".split(',')"
   ]
  },
  {
   "cell_type": "code",
   "execution_count": 7,
   "metadata": {},
   "outputs": [],
   "source": [
    "num2label = {1: 'lying',\n",
    "               2: 'sitting',\n",
    "               3: 'standing',\n",
    "               4: 'walking',\n",
    "               5: 'running',\n",
    "               6: 'cycling',\n",
    "               7: 'Nordic walking',\n",
    "               9: 'watching TV',\n",
    "               10: 'computer work',\n",
    "               11: 'car driving',\n",
    "               12: 'ascending stairs',\n",
    "               13: 'descending stairs',\n",
    "               16: 'vacuum cleaning',\n",
    "               17: 'ironing',\n",
    "               18: 'folding laundry',\n",
    "               19: 'house cleaning',\n",
    "               20: 'playing soccer',\n",
    "               24: 'rope jumping',\n",
    "                0: 'other'}\n",
    "\n",
    "label2num = {'lying': 1,\n",
    " 'sitting': 2,\n",
    " 'standing': 3,\n",
    " 'walking': 4,\n",
    " 'running': 5,\n",
    " 'cycling': 6,\n",
    " 'Nordic walking': 7,\n",
    " 'watching TV': 9,\n",
    " 'computer work': 10,\n",
    " 'car driving': 11,\n",
    " 'ascending stairs': 12,\n",
    " 'descending stairs': 13,\n",
    " 'vacuum cleaning': 16,\n",
    " 'ironing': 17,\n",
    " 'folding laundry': 18,\n",
    " 'house cleaning': 19,\n",
    " 'playing soccer': 20,\n",
    " 'rope jumping': 24,\n",
    " 'other': 0}"
   ]
  },
  {
   "cell_type": "code",
   "execution_count": 8,
   "metadata": {},
   "outputs": [],
   "source": [
    "all_columns = pamap_columns()"
   ]
  },
  {
   "cell_type": "code",
   "execution_count": 9,
   "metadata": {},
   "outputs": [],
   "source": [
    "data_columns = [ \n",
    " 'hand_acc_16g_x',\n",
    " 'hand_acc_16g_y',\n",
    " 'hand_acc_16g_z',\n",
    " 'hand_gyroscope_x',\n",
    " 'hand_gyroscope_y',\n",
    " 'hand_gyroscope_z',\n",
    " 'hand_magnometer_x',\n",
    " 'hand_magnometer_y',\n",
    " 'hand_magnometer_z',\n",
    "\n",
    " 'chest_acc_16g_x',\n",
    " 'chest_acc_16g_y',\n",
    " 'chest_acc_16g_z',\n",
    " 'chest_gyroscope_x',\n",
    " 'chest_gyroscope_y',\n",
    " 'chest_gyroscope_z',\n",
    " 'chest_magnometer_x',\n",
    " 'chest_magnometer_y',\n",
    " 'chest_magnometer_z',\n",
    "\n",
    "\n",
    " 'ankle_acc_16g_x',\n",
    " 'ankle_acc_16g_y',\n",
    " 'ankle_acc_16g_z',\n",
    " 'ankle_gyroscope_x',\n",
    " 'ankle_gyroscope_y',\n",
    " 'ankle_gyroscope_z',\n",
    " 'ankle_magnometer_x',\n",
    " 'ankle_magnometer_y',\n",
    " 'ankle_magnometer_z',\n",
    "]"
   ]
  },
  {
   "cell_type": "code",
   "execution_count": 10,
   "metadata": {},
   "outputs": [],
   "source": [
    "input_channels = len(data_columns)"
   ]
  },
  {
   "cell_type": "code",
   "execution_count": 11,
   "metadata": {},
   "outputs": [
    {
     "data": {
      "text/plain": [
       "27"
      ]
     },
     "execution_count": 11,
     "metadata": {},
     "output_type": "execute_result"
    }
   ],
   "source": [
    "input_channels"
   ]
  },
  {
   "cell_type": "code",
   "execution_count": 12,
   "metadata": {},
   "outputs": [],
   "source": [
    "useful_colums =  data_columns  + ['activityID']"
   ]
  },
  {
   "cell_type": "code",
   "execution_count": 13,
   "metadata": {},
   "outputs": [],
   "source": [
    "# np.min([len(s) for s in subjects])\n",
    "min_len = 93620"
   ]
  },
  {
   "cell_type": "code",
   "execution_count": 14,
   "metadata": {},
   "outputs": [],
   "source": [
    "demo_mode = False"
   ]
  },
  {
   "cell_type": "code",
   "execution_count": 15,
   "metadata": {},
   "outputs": [
    {
     "data": {
      "text/html": [
       "<div><span class=\"Text-label\" style=\"display:inline-block; overflow:hidden; white-space:nowrap; text-overflow:ellipsis; min-width:0; max-width:10ex; vertical-align:middle; text-align:right\"></span>\n",
       "<progress style=\"width:60ex\" max=\"9\" value=\"9\" class=\"Progress-main\"/></progress>\n",
       "<span class=\"Progress-label\"><strong>100%</strong></span>\n",
       "<span class=\"Iteration-label\">9/9</span>\n",
       "<span class=\"Time-label\">[00:18<00:00, 2.03s/it]</span></div>"
      ],
      "text/plain": [
       "\u001b[A\u001b[2K\r",
       " [████████████████████████████████████████████████████████████] 9/9 [00:18<00:00, 2.03s/it]"
      ]
     },
     "metadata": {},
     "output_type": "display_data"
    }
   ],
   "source": [
    "subjects = []\n",
    "n_subjects = len(path2subjets)\n",
    "for i in ipb(n_subjects):\n",
    "    subject = pd.read_csv(path2subjets[i],header=None,sep=' ')\n",
    "    subject.columns = pamap_columns()\n",
    "    if demo_mode:\n",
    "        subject = subject[subject['activityID'].isin([label2num[a] for a in demo_activities])]\n",
    "        subject['activityID'] = subject['activityID'] - 1\n",
    "    subject = subject[useful_colums]\n",
    "    if len(subject) > 0:\n",
    "        subject = subject.fillna(0)\n",
    "        #subject = subject.iloc[:min_len]\n",
    "        subjects.append(subject)"
   ]
  },
  {
   "cell_type": "code",
   "execution_count": 16,
   "metadata": {},
   "outputs": [
    {
     "data": {
      "text/plain": [
       "array([ 0,  1,  2,  3,  4,  5,  6,  7, 12, 13, 16, 17, 24])"
      ]
     },
     "execution_count": 16,
     "metadata": {},
     "output_type": "execute_result"
    }
   ],
   "source": [
    "np.unique(subjects[4][\"activityID\"])"
   ]
  },
  {
   "cell_type": "code",
   "execution_count": 17,
   "metadata": {},
   "outputs": [],
   "source": [
    "import torch.utils.data"
   ]
  },
  {
   "cell_type": "code",
   "execution_count": 18,
   "metadata": {},
   "outputs": [],
   "source": [
    "def sliding_window(sequence,win_size = 20,step=5):\n",
    "    # Pre-compute number of chunks to emit\n",
    "    nb_chunks = ((len(sequence)-win_size)//step)+1\n",
    "    # Do the work\n",
    "    for i in range(0,nb_chunks*step,step):\n",
    "        yield sequence[i:i+win_size]"
   ]
  },
  {
   "cell_type": "code",
   "execution_count": 19,
   "metadata": {},
   "outputs": [],
   "source": [
    "def major_filter(activity):\n",
    "    unique, counts = np.unique(activity, return_counts=True)\n",
    "    return unique[np.argmax(counts)]"
   ]
  },
  {
   "cell_type": "code",
   "execution_count": 20,
   "metadata": {},
   "outputs": [],
   "source": [
    "def one_hot(a, num_classes = 4):\n",
    "    a = a.astype('int32') - 1\n",
    "    return np.squeeze(np.eye(num_classes)[a.reshape(-1)])"
   ]
  },
  {
   "cell_type": "code",
   "execution_count": 21,
   "metadata": {},
   "outputs": [],
   "source": [
    "from sklearn.model_selection import train_test_split"
   ]
  },
  {
   "cell_type": "code",
   "execution_count": 22,
   "metadata": {},
   "outputs": [
    {
     "data": {
      "text/plain": [
       "dict_keys(['lying', 'sitting', 'standing', 'walking', 'running', 'cycling', 'Nordic walking', 'watching TV', 'computer work', 'car driving', 'ascending stairs', 'descending stairs', 'vacuum cleaning', 'ironing', 'folding laundry', 'house cleaning', 'playing soccer', 'rope jumping', 'other'])"
      ]
     },
     "execution_count": 22,
     "metadata": {},
     "output_type": "execute_result"
    }
   ],
   "source": [
    "label2num.keys()"
   ]
  },
  {
   "cell_type": "code",
   "execution_count": 23,
   "metadata": {},
   "outputs": [],
   "source": [
    "if demo_mode:\n",
    "    num_classes = 4\n",
    "else:\n",
    "    num_classes = max([int(e) for e in num2label.keys() ]) + 1"
   ]
  },
  {
   "cell_type": "code",
   "execution_count": 24,
   "metadata": {},
   "outputs": [
    {
     "data": {
      "text/plain": [
       "25"
      ]
     },
     "execution_count": 24,
     "metadata": {},
     "output_type": "execute_result"
    }
   ],
   "source": [
    "num_classes"
   ]
  },
  {
   "cell_type": "code",
   "execution_count": 25,
   "metadata": {},
   "outputs": [],
   "source": [
    "class acivityDataset(torch.utils.data.Dataset):\n",
    "    \n",
    "    \"\"\"\n",
    "        \n",
    "    \"\"\"\n",
    "    def __init__(self,subjects,evaluate=False,\n",
    "                 win_size=256,step=128,\n",
    "                 num_classes = 4,\n",
    "                 val_rate = 0.3):\n",
    "        \"\"\"\n",
    "        \"\"\"\n",
    "        self.data = []\n",
    "        self.labels = []\n",
    "        self.win_size = win_size\n",
    "        self.step = step\n",
    "        \n",
    "        self.evaluate = evaluate\n",
    "        \n",
    "        \n",
    "        for i in ipb(range(len(subjects))):\n",
    "            data = []\n",
    "            labels = []\n",
    "            subject = subjects[i]\n",
    "            for window in sliding_window(subject[useful_colums],win_size = self.win_size,\n",
    "                                         step=self.step):\n",
    "                self.data.append(window[data_columns])\n",
    "                self.labels.append(major_filter(window['activityID']))\n",
    "        self.data = np.vstack(self.data)\n",
    "        self.data = self.data.reshape([-1,self.win_size,len(data_columns)]).astype('float32')\n",
    "        self.labels = np.hstack(self.labels)\n",
    "        \n",
    "        self.labels = one_hot(self.labels,num_classes).astype('float32')\n",
    "        \n",
    "        self.total_size = len(self.data)\n",
    "        \n",
    "        indxs = train_test_split(np.arange(self.total_size),test_size=val_rate,random_state=rseed)\n",
    "        self.train_idxs = indxs[0]\n",
    "        self.val_idxs = indxs[1]\n",
    "        \n",
    "        #self.val_rate = val_rate\n",
    "        #self.val_size = int(self.val_rate*self.total_size)\n",
    "\n",
    "        #self.train_rate = 1-self.val_rate\n",
    "        #self.train_size = int(self.train_rate*self.total_size)\n",
    "        \n",
    "        self.train_data = self.data[self.train_idxs]\n",
    "        self.train_labels = self.labels[self.train_idxs]\n",
    "        self.val_data = self.data[self.val_idxs]\n",
    "        self.val_labels = self.labels[self.val_idxs]\n",
    "        \n",
    "        \n",
    "    def __len__(self,):\n",
    "        \"\"\"\n",
    "        \"\"\"\n",
    "        if not self.evaluate:\n",
    "            return len(self.train_data)\n",
    "        else:\n",
    "            return len(self.val_data)\n",
    "            \n",
    "    \n",
    "    def __getitem__(self, index):\n",
    "        \"\"\"\n",
    "        \"\"\"\n",
    "        if not self.evaluate:\n",
    "            data = self.train_data[index]\n",
    "            label =  self.train_labels[index]\n",
    "        else:\n",
    "            data = self.val_data[index]\n",
    "            label =  self.val_labels[index]\n",
    "        \n",
    "        return data,label"
   ]
  },
  {
   "cell_type": "code",
   "execution_count": 26,
   "metadata": {},
   "outputs": [],
   "source": [
    "win_size = 256\n",
    "step = 128"
   ]
  },
  {
   "cell_type": "code",
   "execution_count": 27,
   "metadata": {},
   "outputs": [
    {
     "data": {
      "text/html": [
       "<div><span class=\"Text-label\" style=\"display:inline-block; overflow:hidden; white-space:nowrap; text-overflow:ellipsis; min-width:0; max-width:10ex; vertical-align:middle; text-align:right\"></span>\n",
       "<progress style=\"width:60ex\" max=\"9\" value=\"9\" class=\"Progress-main\"/></progress>\n",
       "<span class=\"Progress-label\"><strong>100%</strong></span>\n",
       "<span class=\"Iteration-label\">9/9</span>\n",
       "<span class=\"Time-label\">[00:18<00:00, 2.00s/it]</span></div>"
      ],
      "text/plain": [
       "\u001b[A\u001b[2K\r",
       " [████████████████████████████████████████████████████████████] 9/9 [00:18<00:00, 2.00s/it]"
      ]
     },
     "metadata": {},
     "output_type": "display_data"
    },
    {
     "data": {
      "text/html": [
       "<div><span class=\"Text-label\" style=\"display:inline-block; overflow:hidden; white-space:nowrap; text-overflow:ellipsis; min-width:0; max-width:10ex; vertical-align:middle; text-align:right\"></span>\n",
       "<progress style=\"width:60ex\" max=\"9\" value=\"9\" class=\"Progress-main\"/></progress>\n",
       "<span class=\"Progress-label\"><strong>100%</strong></span>\n",
       "<span class=\"Iteration-label\">9/9</span>\n",
       "<span class=\"Time-label\">[00:17<00:00, 1.93s/it]</span></div>"
      ],
      "text/plain": [
       "\u001b[A\u001b[2K\r",
       " [████████████████████████████████████████████████████████████] 9/9 [00:17<00:00, 1.93s/it]"
      ]
     },
     "metadata": {},
     "output_type": "display_data"
    }
   ],
   "source": [
    "train_dataset = acivityDataset(subjects,evaluate=False,win_size=win_size,step=step,num_classes=num_classes)\n",
    "val_dataset = acivityDataset(subjects,evaluate=True,num_classes=num_classes)\n"
   ]
  },
  {
   "cell_type": "code",
   "execution_count": 28,
   "metadata": {},
   "outputs": [],
   "source": [
    "train_lb = np.argmax(train_dataset.labels[train_dataset.train_idxs],-1)\n",
    "val_lb = np.argmax(val_dataset.labels[val_dataset.val_idxs],-1)"
   ]
  },
  {
   "cell_type": "code",
   "execution_count": 29,
   "metadata": {},
   "outputs": [
    {
     "data": {
      "text/plain": [
       "(array([3084., 1859., 1929.,    0.,  638.,  570., 2278.,    0.,    0.,\n",
       "        5340.]),\n",
       " array([ 0. ,  2.4,  4.8,  7.2,  9.6, 12. , 14.4, 16.8, 19.2, 21.6, 24. ]),\n",
       " <a list of 10 Patch objects>)"
      ]
     },
     "execution_count": 29,
     "metadata": {},
     "output_type": "execute_result"
    },
    {
     "data": {
      "image/png": "[encoded data removed]",
      "text/plain": [
       "<Figure size 432x288 with 1 Axes>"
      ]
     },
     "metadata": {
      "needs_background": "light"
     },
     "output_type": "display_data"
    }
   ],
   "source": [
    "plt.hist(train_lb)"
   ]
  },
  {
   "cell_type": "code",
   "execution_count": 30,
   "metadata": {},
   "outputs": [
    {
     "data": {
      "text/plain": [
       "(array([1349.,  770.,  828.,    0.,  279.,  250.,  960.,    0.,    0.,\n",
       "        2293.]),\n",
       " array([ 0. ,  2.4,  4.8,  7.2,  9.6, 12. , 14.4, 16.8, 19.2, 21.6, 24. ]),\n",
       " <a list of 10 Patch objects>)"
      ]
     },
     "execution_count": 30,
     "metadata": {},
     "output_type": "execute_result"
    },
    {
     "data": {
      "image/png": "[encoded data removed]",
      "text/plain": [
       "<Figure size 432x288 with 1 Axes>"
      ]
     },
     "metadata": {
      "needs_background": "light"
     },
     "output_type": "display_data"
    }
   ],
   "source": [
    "plt.hist(val_lb)"
   ]
  },
  {
   "cell_type": "markdown",
   "metadata": {},
   "source": [
    "# Models"
   ]
  },
  {
   "cell_type": "code",
   "execution_count": 31,
   "metadata": {},
   "outputs": [],
   "source": [
    "class Flatten(nn.Module):\n",
    "    def forward(self, input):\n",
    "        return input.view(input.size(0), -1)"
   ]
  },
  {
   "cell_type": "code",
   "execution_count": 32,
   "metadata": {},
   "outputs": [],
   "source": [
    "\"\"\"\n",
    "     extention of the https://github.com/mravanelli/SincNet\n",
    "\"\"\"\n",
    "\n",
    "class Flip(nn.Module):\n",
    "    \n",
    "    def __init__(self,dim):\n",
    "        super(self.__class__, self).__init__()\n",
    "        self.dim = dim\n",
    "        \n",
    "    def forward(self,x):\n",
    "        xsize = x.size()\n",
    "        dim = x.dim() + dim if self.dim < 0 else self.dim\n",
    "        x = x.contiguous()\n",
    "        x = x.view(-1, *xsize[dim:])\n",
    "        x = x.view(x.size(0), x.size(1), -1)[:, torch.arange(x.size(1)-1, -1, -1), :]\n",
    "        return x.view(xsize)\n",
    "\n",
    "\n",
    "class Sinc(nn.Module):\n",
    "    \n",
    "    def __init__(self):\n",
    "        super(self.__class__, self).__init__()\n",
    "        self.flip = Flip(0)\n",
    "        \n",
    "    def forward(self,band,t_right):\n",
    "        y_right= torch.sin(2*math.pi*band*t_right)/(2*math.pi*band*t_right)\n",
    "        y_left = self.flip(y_right)\n",
    "        y = torch.cat([y_left,torch.ones(1).to(device),y_right])\n",
    "        return y"
   ]
  },
  {
   "cell_type": "code",
   "execution_count": 33,
   "metadata": {},
   "outputs": [],
   "source": [
    "class multichannel_sinc_conv(nn.Module):\n",
    "    \"\"\"\n",
    "     extention of the https://github.com/mravanelli/SincNet\n",
    "    \"\"\"\n",
    "    def __freqinit__(self):\n",
    "        if self.cutfreq_type == 'mel':\n",
    "            low_freq_mel = 80\n",
    "            high_freq_mel = (2595 * np.log10(1 + (self.fs / 2) / 700))  # Convert Hz to Mel\n",
    "            mel_points = np.linspace(low_freq_mel, high_freq_mel, self.N_filt)  # Equally spaced in Mel scale\n",
    "            f_cos = (700 * (10**(mel_points / 2595) - 1)) # Convert Mel to Hz\n",
    "            b1=np.roll(f_cos,1)\n",
    "            b2=np.roll(f_cos,-1)\n",
    "            b1[0] = 30\n",
    "            b2[-1] = (self.fs/2)-100\n",
    "        elif self.cutfreq_type == 'pre_defined':\n",
    "            b1 = np.array([15,35,80])\n",
    "            b2 = np.array([25,50,90])\n",
    "        elif self.cutfreq_type == 'random':\n",
    "            eeg_const = 100\n",
    "            b1 = np.random.randint(10,int(self.fs//2)-10,[self.N_filt])\n",
    "            #b1 = 10 * np.ones([self.N_filt])\n",
    "            b2 = np.minimum(b1+5,int(self.fs//2))        \n",
    "            b1 = b1.tolist()\n",
    "            b2 = b2.tolist()\n",
    "        else:\n",
    "            raise NotImplementedError\n",
    "        bands_low = []\n",
    "        bands_high = []\n",
    "        for i in range(self.N_channels):\n",
    "            bands_low.append(b1)\n",
    "            bands_high.append(b2)\n",
    "        bands_low = np.array(bands_low).astype('float32')\n",
    "        bands_high = np.array(bands_high).astype('float32')\n",
    "        return (bands_low,bands_high)\n",
    "\n",
    "    def get_filter_bank(self,beg_freq,end_freq):\n",
    "        if self.filt_type == 'sinc':\n",
    "            t_right = (torch.linspace(1, (self.Filt_dim-1)/2, steps=int((self.Filt_dim-1)/2))/self.fs).to(device)\n",
    "            low_pass1 = 2*beg_freq.float()*self.sinc(beg_freq.float()*self.fs,t_right)\n",
    "            low_pass2 = 2*end_freq.float()*self.sinc(end_freq.float()*self.fs,t_right)\n",
    "            band_pass = (low_pass2-low_pass1)\n",
    "            band_pass = band_pass/torch.max(band_pass)\n",
    "            return band_pass.to(device)*self.window\n",
    "        elif self.filt_type == 'firwin':\n",
    "            cut1 = beg_freq.float().detach().cpu().numpy()*self.fs\n",
    "            cut2 = end_freq.float().detach().cpu().numpy()*self.fs\n",
    "            cut1 = np.round(cut1)\n",
    "            cut2 = np.round(cut2)\n",
    "            band_pass = sp.signal.firwin(self.Filt_dim, [cut1,cut2], pass_zero=False,fs=self.fs,window='hamming')\n",
    "            band_pass = torch.from_numpy(band_pass.astype('float32'))\n",
    "            band_pass = nn.Parameter(band_pass.to(device))\n",
    "            return band_pass\n",
    "        else:\n",
    "            raise NotImplementedError\n",
    "\n",
    "    def __init__(self, \n",
    "                 N_filt, N_channels, Filt_dim, fs,\n",
    "                 cutfreq_type = 'mel', filt_type = 'sinc'):\n",
    "        super(multichannel_sinc_conv,self).__init__()\n",
    "        self.cutfreq_type = cutfreq_type\n",
    "        self.fs = float(fs)\n",
    "        self.sinc = Sinc()\n",
    "        self.filt_type = filt_type\n",
    "        self.N_channels = N_channels\n",
    "        self.N_filt = N_filt\n",
    "        self.Filt_dim = Filt_dim\n",
    "        bands = self.__freqinit__()\n",
    "        self.bands_low = bands[0]\n",
    "        self.bands_high = bands[1]\n",
    "        self.filt_low = nn.Parameter(torch.from_numpy(self.bands_low/self.fs).to(device))\n",
    "        self.filt_band = nn.Parameter(torch.from_numpy((self.bands_high-self.bands_low)/self.fs).to(device))        \n",
    "        n = torch.linspace(0, self.Filt_dim, steps=self.Filt_dim)\n",
    "        window = 0.54-0.46*torch.cos(2*math.pi*n/self.Filt_dim) \n",
    "        self.window = window.float().to(device)\n",
    "        \n",
    "    def forward(self, x):\n",
    "        k = 0\n",
    "        min_freq=1.0;\n",
    "        min_band=10.0;\n",
    "        filters = torch.zeros((self.N_filt*self.N_channels,self.Filt_dim)).to(device)\n",
    "        for j in range(self.N_channels):    \n",
    "            filt_beg_freq = torch.abs(self.filt_low)[j] + min_freq/self.fs\n",
    "            filt_end_freq = (filt_beg_freq+(torch.abs(self.filt_band)))[j]\n",
    "            for i in range(self.N_filt):\n",
    "                band_pass = self.get_filter_bank(filt_beg_freq[i],filt_end_freq[i]) \n",
    "                filters[k,:] = band_pass\n",
    "                k+=1\n",
    "        filters = filters.view(self.N_filt*self.N_channels,1,self.Filt_dim)\n",
    "        return F.conv1d(x,filters,groups=self.N_channels)"
   ]
  },
  {
   "cell_type": "code",
   "execution_count": 34,
   "metadata": {},
   "outputs": [],
   "source": [
    "class Conv1DNet(nn.Module):\n",
    "    \n",
    "    def __init__(self):\n",
    "        super(self.__class__, self).__init__()\n",
    "        self.input_bn = nn.BatchNorm1d(input_channels)\n",
    "        self.conv11 = nn.Conv1d(in_channels=input_channels, out_channels=64, kernel_size=3, padding=1)\n",
    "        self.pool11 = nn.MaxPool1d(kernel_size=2)\n",
    "        self.conv21 = nn.Conv1d(in_channels=64, out_channels=128, kernel_size=3, padding=1)\n",
    "        self.pool21 = nn.MaxPool1d(kernel_size=2)\n",
    "        self.conv31 = nn.Conv1d(in_channels=128, out_channels=256, kernel_size=3, padding=1)\n",
    "        self.pool31 = nn.MaxPool1d(kernel_size=2)\n",
    "        #self.gpool = GlobalMaxPooling()\n",
    "        self.fc1 = nn.Linear(256*(win_size//(2**3)),512)\n",
    "        self.fc2 = nn.Linear(512,512)\n",
    "        self.logit = nn.Linear(512,num_classes)\n",
    "        \n",
    "        self.net = nn.Sequential(self.input_bn,\n",
    "                                 self.conv11,self.pool11,\n",
    "                                 nn.ReLU(),                            \n",
    "                                 self.conv21,self.pool21,\n",
    "                                 nn.ReLU(),\n",
    "                                 self.conv31,self.pool31,\n",
    "                                 nn.ReLU(),\n",
    "                                 Flatten(),\n",
    "                                 self.fc1,\n",
    "                                 nn.ReLU(),\n",
    "                                 self.fc2,\n",
    "                                 nn.ReLU(),\n",
    "                                 self.logit,\n",
    "                                )\n",
    "        \n",
    "    def forward(self,input):\n",
    "        return self.net(input)"
   ]
  },
  {
   "cell_type": "code",
   "execution_count": 35,
   "metadata": {},
   "outputs": [],
   "source": [
    "class MultiSincNet(nn.Module):\n",
    "    \n",
    "    def __init__(self):\n",
    "        super(self.__class__, self).__init__()\n",
    "        self.input_bn = nn.BatchNorm1d(input_channels)\n",
    "        self.sincconv = multichannel_sinc_conv(Filt_dim=5,N_channels=input_channels,N_filt=12,fs=100)\n",
    "        self.conv11 = nn.Conv1d(in_channels=324, out_channels=64, kernel_size=3, padding=1)\n",
    "        self.pool11 = nn.MaxPool1d(kernel_size=2)\n",
    "        self.conv21 = nn.Conv1d(in_channels=64, out_channels=128, kernel_size=3, padding=1)\n",
    "        self.pool21 = nn.MaxPool1d(kernel_size=2)\n",
    "        self.conv31 = nn.Conv1d(in_channels=128, out_channels=256, kernel_size=3, padding=1)\n",
    "        self.pool31 = nn.MaxPool1d(kernel_size=2)\n",
    "        #self.gpool = GlobalMaxPooling()\n",
    "        self.fc1 = nn.Linear(7936,512)\n",
    "        #self.fc2 = nn.Linear(512,512)\n",
    "        self.logit = nn.Linear(512,num_classes)\n",
    "        \n",
    "        self.net = nn.Sequential(self.input_bn,\n",
    "                                 self.sincconv,\n",
    "                                 self.conv11,\n",
    "                                 nn.ReLU(),\n",
    "                                 self.pool11,\n",
    "                                 nn.ReLU(),                            \n",
    "                                 self.conv21,self.pool21,\n",
    "                                 nn.ReLU(),\n",
    "                                 self.conv31,self.pool31,\n",
    "                                 nn.ReLU(),\n",
    "                                 Flatten(),\n",
    "                                 self.fc1,\n",
    "                                 nn.ReLU(),\n",
    "                                 #self.fc2,\n",
    "                                 nn.ReLU(),\n",
    "                                 self.logit,\n",
    "                                )\n",
    "        \n",
    "    def forward(self,input):\n",
    "        return self.net(input)"
   ]
  },
  {
   "cell_type": "code",
   "execution_count": 36,
   "metadata": {},
   "outputs": [],
   "source": [
    "#model = MultiSincNet().to(device)\n",
    "#model(dummy_batch.cuda()).shape\n",
    "#dummy_batch = train_dataset.data[:batch_size]\n",
    "#dummy_batch = torch.tensor(dummy_batch).transpose(2,1)\n",
    "#dummy_labels = torch.tensor(train_dataset.labels[:batch_size])\n",
    "#prediction = model(dummy_batch)\n",
    "#reference = dummy_labels"
   ]
  },
  {
   "cell_type": "code",
   "execution_count": null,
   "metadata": {},
   "outputs": [],
   "source": []
  },
  {
   "cell_type": "markdown",
   "metadata": {},
   "source": [
    "## Experiments"
   ]
  },
  {
   "cell_type": "code",
   "execution_count": 37,
   "metadata": {},
   "outputs": [],
   "source": [
    "num_epochs = 20\n",
    "verbose = 5\n",
    "batch_size = 1024\n",
    "device = \"cuda\""
   ]
  },
  {
   "cell_type": "code",
   "execution_count": 38,
   "metadata": {},
   "outputs": [],
   "source": [
    "\n",
    "def compute_loss(reference, prediction):\n",
    "    \"\"\"\n",
    "    \n",
    "    \"\"\"\n",
    "    reference = reference.to(device)\n",
    "    reference = torch.argmax(reference,dim=-1).to(torch.long)\n",
    "    prediction = prediction.log_softmax(dim=-1)\n",
    "    loss = nn.NLLLoss()(prediction,reference)\n",
    "    return loss"
   ]
  },
  {
   "cell_type": "code",
   "execution_count": 39,
   "metadata": {},
   "outputs": [],
   "source": [
    "def compute_acc(reference, prediction):\n",
    "    \"\"\"\n",
    "    \n",
    "    \"\"\"\n",
    "    reference = reference.to(device)\n",
    "    prediction = torch.argmax(prediction.log_softmax(dim=-1),dim=-1)\n",
    "    reference = torch.argmax(reference,dim=-1)\n",
    "    return (reference == prediction).to(torch.float32).mean()"
   ]
  },
  {
   "cell_type": "code",
   "execution_count": 40,
   "metadata": {},
   "outputs": [],
   "source": [
    "train_loader = torch.utils.data.DataLoader(train_dataset,batch_size=batch_size,shuffle=True)\n",
    "val_loader = torch.utils.data.DataLoader(val_dataset,batch_size=batch_size,shuffle=False)"
   ]
  },
  {
   "cell_type": "code",
   "execution_count": 41,
   "metadata": {},
   "outputs": [],
   "source": [
    "#model = Conv1DNet().to(device)\n",
    "model = MultiSincNet().to(device)\n",
    "opt = torch.optim.Adam(model.parameters(), lr=1e-3,weight_decay=1e-7)"
   ]
  },
  {
   "cell_type": "code",
   "execution_count": null,
   "metadata": {},
   "outputs": [],
   "source": []
  },
  {
   "cell_type": "code",
   "execution_count": 42,
   "metadata": {},
   "outputs": [],
   "source": [
    "best_acc = -1\n",
    "best_loss =999999999\n",
    "sPATH = ''\n",
    "fmt_str = '/ksozykinraid/models/%s_%.4f.pth'"
   ]
  },
  {
   "cell_type": "code",
   "execution_count": 43,
   "metadata": {},
   "outputs": [],
   "source": [
    "from collections import  defaultdict\n",
    "report  = defaultdict(list)"
   ]
  },
  {
   "cell_type": "code",
   "execution_count": 44,
   "metadata": {},
   "outputs": [],
   "source": [
    "from IPython import display"
   ]
  },
  {
   "cell_type": "code",
   "execution_count": 45,
   "metadata": {},
   "outputs": [
    {
     "data": {
      "image/png": "[encoded data removed]",
      "text/plain": [
       "<Figure size 432x288 with 1 Axes>"
      ]
     },
     "metadata": {
      "needs_background": "light"
     },
     "output_type": "display_data"
    },
    {
     "name": "stdout",
     "output_type": "stream",
     "text": [
      "19\tTraining:\n",
      "\tLoss:\t0.15378\n",
      "\tACC:\t0.94955\n",
      "19\tValidation:\n",
      "\tBEST VAL loss:\t0.29121\n",
      "\tLoss:\t0.29387\n",
      "\tACC:\t0.90608\n",
      "\n",
      "\n"
     ]
    }
   ],
   "source": [
    "\n",
    "for epoch in range(num_epochs):\n",
    "    \n",
    "    \n",
    "    train_loss = train_acc = train_batches = 0 \n",
    "    train_acc_fixed = 0\n",
    "    model.train()\n",
    "    y_true,y_pred = [],[]\n",
    "    for batch in train_loader:\n",
    "        \n",
    "        data,reference = batch\n",
    "        data = data.transpose(2,1).to(device)\n",
    "        prediction = model(data)\n",
    "        y_true.append(reference)\n",
    "        y_pred.append(prediction)\n",
    "        loss = compute_loss(reference, prediction)\n",
    "        loss.backward()\n",
    "        opt.step()\n",
    "        opt.zero_grad()\n",
    "        \n",
    "        with torch.no_grad():\n",
    "            train_loss += loss.item()\n",
    "            train_batches += 1\n",
    "    y_true = torch.cat(y_true,dim=0)\n",
    "    y_pred = torch.cat(y_pred,dim=0)\n",
    "    \n",
    "    with torch.no_grad():\n",
    "        train_acc += compute_acc(y_true, y_pred).cpu().numpy()\n",
    "    \n",
    "    val_loss = val_acc = val_batches = 0\n",
    "    val_acc_fixed = 0\n",
    "    #model.train(False)\n",
    "    model.eval()\n",
    "    y_true,y_pred = [],[]\n",
    "    for batch in val_loader:\n",
    "        data,reference = batch\n",
    "        data = data.transpose(2,1).to(device)\n",
    "        prediction = model(data)\n",
    "        y_true.append(reference)\n",
    "        y_pred.append(prediction)\n",
    "        loss = compute_loss(reference, prediction)\n",
    "        with torch.no_grad():\n",
    "            val_loss += loss.item()\n",
    "            \n",
    "            val_batches += 1\n",
    "    y_true = torch.cat(y_true,dim=0)\n",
    "    y_pred = torch.cat(y_pred,dim=0)\n",
    "    with torch.no_grad():\n",
    "        val_acc += compute_acc(y_true, y_pred).cpu().numpy()\n",
    "    #val_acc = (val_acc / val_batches)\n",
    "    \n",
    "    val_loss = (val_loss / val_batches)\n",
    "    if val_loss < best_loss:\n",
    "        best_loss = val_loss\n",
    "        if sPATH != '' and os.path.exists(sPATH):\n",
    "            os.remove(sPATH)\n",
    "        sPATH = fmt_str % (model.__class__.__name__,best_loss)\n",
    "        torch.save(model.state_dict(),sPATH)\n",
    "        if best_acc > 94:\n",
    "            print(\"Early Stopping\")\n",
    "            break\n",
    "    report['train_loss'].append(train_loss / train_batches)\n",
    "    report['val_loss'].append(val_loss)\n",
    "    \n",
    "    display.clear_output(wait=True)\n",
    "    fig = plt.Figure(figsize=(12,6),facecolor='white')\n",
    "    plt.plot(report['train_loss'],color='green',label='train_loss')\n",
    "    plt.plot(report['val_loss'],color='magenta',label='val_loss')\n",
    "    plt.xlabel(\"#Epoch %d\" % epoch)\n",
    "    plt.ylabel(\"#Loss\")\n",
    "    plt.title(model.__class__.__name__)\n",
    "    legend(loc=2, prop={'size': 12})\n",
    "    plt.grid()\n",
    "    plt.show()\n",
    "    \n",
    "    print(\"%d\\tTraining:\" % (epoch))\n",
    "        \n",
    "    print(\"\\tLoss:\\t%.5f\" % (train_loss / train_batches))\n",
    "    print(\"\\tACC:\\t%.5f\" % (train_acc))\n",
    "    print(\"%d\\tValidation:\" % (epoch))\n",
    "    print(\"\\tBEST VAL loss:\\t%.5f\" % best_loss)\n",
    "    print(\"\\tLoss:\\t%.5f\" % val_loss)\n",
    "    print(\"\\tACC:\\t%.5f\" % val_acc)\n",
    "    print('\\n')\n",
    "    \n",
    "    \n",
    "    if epoch  % verbose == 0 or epoch == num_epochs - 1:\n",
    "        pass"
   ]
  },
  {
   "cell_type": "code",
   "execution_count": 46,
   "metadata": {},
   "outputs": [],
   "source": [
    "model.load_state_dict(torch.load(sPATH))\n",
    "model.eval();"
   ]
  },
  {
   "cell_type": "markdown",
   "metadata": {},
   "source": [
    "## Metrics"
   ]
  },
  {
   "cell_type": "code",
   "execution_count": 47,
   "metadata": {},
   "outputs": [],
   "source": [
    "y_true_np = torch.argmax(y_true,dim=-1).detach().cpu().numpy()\n",
    "y_pred_np = torch.argmax(y_pred.log_softmax(dim=-1),dim=-1).detach().cpu().numpy()"
   ]
  },
  {
   "cell_type": "code",
   "execution_count": 48,
   "metadata": {},
   "outputs": [],
   "source": [
    "from sklearn.metrics import accuracy_score,confusion_matrix,classification_report"
   ]
  },
  {
   "cell_type": "code",
   "execution_count": 49,
   "metadata": {},
   "outputs": [],
   "source": [
    "def plot_confusion_matrix(df_confusion, title='Confusion matrix', cmap=plt.cm.jet):\n",
    "    plt.figure(figsize(20,20),facecolor='white')\n",
    "    plt.matshow(df_confusion, cmap=cmap) # imshow\n",
    "    plt.title(model.__class__.__name__)\n",
    "    colorbar()\n",
    "    tick_marks = np.arange(len(df_confusion.columns))\n",
    "    plt.xticks(tick_marks, df_confusion.columns, rotation=45)\n",
    "    plt.yticks(tick_marks, df_confusion.index)\n",
    "    #plt.tight_layout()\n",
    "    plt.ylabel(df_confusion.index.name, fontsize=12)\n",
    "    plt.xlabel(df_confusion.columns.name, fontsize=12)"
   ]
  },
  {
   "cell_type": "code",
   "execution_count": 50,
   "metadata": {},
   "outputs": [],
   "source": [
    "def create_conf_matrix(y_true, y_pred, n_classes = num_classes):\n",
    "    \"\"\"\n",
    "        src : https://stackoverflow.com/questions/2148543/how-to-write-a-confusion-matrix-in-python\n",
    "    \"\"\"\n",
    "    m = np.zeros([n_classes,n_classes],dtype=np.int32)\n",
    "    for pred, exp in zip(y_pred,y_true):\n",
    "        m[pred][exp] += 1\n",
    "    return m"
   ]
  },
  {
   "cell_type": "code",
   "execution_count": 51,
   "metadata": {},
   "outputs": [],
   "source": [
    "n_conf = 5 if demo_mode else num_classes + 1"
   ]
  },
  {
   "cell_type": "code",
   "execution_count": 52,
   "metadata": {},
   "outputs": [],
   "source": [
    "if demo_mode:\n",
    "    y_true_np,y_pred_np = y_true_np+1,y_pred_np+1 "
   ]
  },
  {
   "cell_type": "code",
   "execution_count": 56,
   "metadata": {},
   "outputs": [],
   "source": [
    "creport = pd.DataFrame((classification_report(y_true_np,y_pred_np,output_dict=True)))\n",
    "\n",
    "fm_score = []\n",
    "for i in range(n_conf):\n",
    "    try:\n",
    "        fm_score.append(creport[str(i)]['f1-score'])\n",
    "    except:\n",
    "        pass"
   ]
  },
  {
   "cell_type": "code",
   "execution_count": 57,
   "metadata": {
    "scrolled": true
   },
   "outputs": [
    {
     "data": {
      "text/plain": [
       "0.9105440135508759"
      ]
     },
     "execution_count": 57,
     "metadata": {},
     "output_type": "execute_result"
    }
   ],
   "source": [
    "np.mean(fm_score )"
   ]
  },
  {
   "cell_type": "code",
   "execution_count": 68,
   "metadata": {},
   "outputs": [],
   "source": [
    "correct = [i for i,e in enumerate(cmdf.columns) if not str(e).isnumeric() ]"
   ]
  },
  {
   "cell_type": "code",
   "execution_count": 75,
   "metadata": {},
   "outputs": [],
   "source": [
    "# rope jumping corrupting color scheme\n",
    "cm  = create_conf_matrix(y_true_np,y_pred_np,n_classes=n_conf)\n",
    "cmdf = pd.DataFrame(cm)\n",
    "cols = [num2label[i] if i in list(num2label.keys()) else str(i) for i in range(n_conf)]\n",
    "cmdf.columns = cols\n",
    "cmdf.index = cols\n",
    "cmdf = cmdf.iloc[correct ,correct ]\n",
    "#if 'rope jumping' in cmdf.columns:\n",
    "#    cmdf = cmdf.drop('rope jumping', 1)"
   ]
  },
  {
   "cell_type": "code",
   "execution_count": 76,
   "metadata": {},
   "outputs": [
    {
     "data": {
      "text/html": [
       "<div>\n",
       "<style scoped>\n",
       "    .dataframe tbody tr th:only-of-type {\n",
       "        vertical-align: middle;\n",
       "    }\n",
       "\n",
       "    .dataframe tbody tr th {\n",
       "        vertical-align: top;\n",
       "    }\n",
       "\n",
       "    .dataframe thead th {\n",
       "        text-align: right;\n",
       "    }\n",
       "</style>\n",
       "<table border=\"1\" class=\"dataframe\">\n",
       "  <thead>\n",
       "    <tr style=\"text-align: right;\">\n",
       "      <th></th>\n",
       "      <th>other</th>\n",
       "      <th>lying</th>\n",
       "      <th>sitting</th>\n",
       "      <th>standing</th>\n",
       "      <th>walking</th>\n",
       "      <th>running</th>\n",
       "      <th>cycling</th>\n",
       "      <th>Nordic walking</th>\n",
       "      <th>8</th>\n",
       "      <th>watching TV</th>\n",
       "      <th>computer work</th>\n",
       "      <th>car driving</th>\n",
       "      <th>ascending stairs</th>\n",
       "      <th>descending stairs</th>\n",
       "      <th>14</th>\n",
       "      <th>15</th>\n",
       "      <th>vacuum cleaning</th>\n",
       "      <th>ironing</th>\n",
       "    </tr>\n",
       "  </thead>\n",
       "  <tbody>\n",
       "    <tr>\n",
       "      <th>other</th>\n",
       "      <td>419</td>\n",
       "      <td>1</td>\n",
       "      <td>0</td>\n",
       "      <td>0</td>\n",
       "      <td>0</td>\n",
       "      <td>0</td>\n",
       "      <td>0</td>\n",
       "      <td>0</td>\n",
       "      <td>0</td>\n",
       "      <td>0</td>\n",
       "      <td>0</td>\n",
       "      <td>0</td>\n",
       "      <td>0</td>\n",
       "      <td>0</td>\n",
       "      <td>0</td>\n",
       "      <td>0</td>\n",
       "      <td>0</td>\n",
       "      <td>0</td>\n",
       "    </tr>\n",
       "    <tr>\n",
       "      <th>lying</th>\n",
       "      <td>0</td>\n",
       "      <td>439</td>\n",
       "      <td>1</td>\n",
       "      <td>0</td>\n",
       "      <td>0</td>\n",
       "      <td>0</td>\n",
       "      <td>0</td>\n",
       "      <td>0</td>\n",
       "      <td>0</td>\n",
       "      <td>0</td>\n",
       "      <td>0</td>\n",
       "      <td>0</td>\n",
       "      <td>0</td>\n",
       "      <td>0</td>\n",
       "      <td>0</td>\n",
       "      <td>0</td>\n",
       "      <td>0</td>\n",
       "      <td>0</td>\n",
       "    </tr>\n",
       "    <tr>\n",
       "      <th>sitting</th>\n",
       "      <td>0</td>\n",
       "      <td>2</td>\n",
       "      <td>386</td>\n",
       "      <td>0</td>\n",
       "      <td>0</td>\n",
       "      <td>0</td>\n",
       "      <td>0</td>\n",
       "      <td>0</td>\n",
       "      <td>0</td>\n",
       "      <td>0</td>\n",
       "      <td>0</td>\n",
       "      <td>0</td>\n",
       "      <td>0</td>\n",
       "      <td>0</td>\n",
       "      <td>0</td>\n",
       "      <td>0</td>\n",
       "      <td>8</td>\n",
       "      <td>0</td>\n",
       "    </tr>\n",
       "    <tr>\n",
       "      <th>standing</th>\n",
       "      <td>0</td>\n",
       "      <td>0</td>\n",
       "      <td>0</td>\n",
       "      <td>474</td>\n",
       "      <td>1</td>\n",
       "      <td>0</td>\n",
       "      <td>2</td>\n",
       "      <td>0</td>\n",
       "      <td>0</td>\n",
       "      <td>0</td>\n",
       "      <td>0</td>\n",
       "      <td>0</td>\n",
       "      <td>0</td>\n",
       "      <td>0</td>\n",
       "      <td>0</td>\n",
       "      <td>0</td>\n",
       "      <td>0</td>\n",
       "      <td>0</td>\n",
       "    </tr>\n",
       "    <tr>\n",
       "      <th>walking</th>\n",
       "      <td>0</td>\n",
       "      <td>0</td>\n",
       "      <td>0</td>\n",
       "      <td>0</td>\n",
       "      <td>207</td>\n",
       "      <td>0</td>\n",
       "      <td>1</td>\n",
       "      <td>0</td>\n",
       "      <td>0</td>\n",
       "      <td>0</td>\n",
       "      <td>0</td>\n",
       "      <td>0</td>\n",
       "      <td>0</td>\n",
       "      <td>0</td>\n",
       "      <td>0</td>\n",
       "      <td>0</td>\n",
       "      <td>0</td>\n",
       "      <td>0</td>\n",
       "    </tr>\n",
       "    <tr>\n",
       "      <th>running</th>\n",
       "      <td>0</td>\n",
       "      <td>0</td>\n",
       "      <td>0</td>\n",
       "      <td>0</td>\n",
       "      <td>0</td>\n",
       "      <td>366</td>\n",
       "      <td>0</td>\n",
       "      <td>0</td>\n",
       "      <td>0</td>\n",
       "      <td>0</td>\n",
       "      <td>0</td>\n",
       "      <td>0</td>\n",
       "      <td>0</td>\n",
       "      <td>0</td>\n",
       "      <td>0</td>\n",
       "      <td>1</td>\n",
       "      <td>0</td>\n",
       "      <td>0</td>\n",
       "    </tr>\n",
       "    <tr>\n",
       "      <th>cycling</th>\n",
       "      <td>0</td>\n",
       "      <td>0</td>\n",
       "      <td>0</td>\n",
       "      <td>0</td>\n",
       "      <td>0</td>\n",
       "      <td>1</td>\n",
       "      <td>404</td>\n",
       "      <td>0</td>\n",
       "      <td>0</td>\n",
       "      <td>0</td>\n",
       "      <td>0</td>\n",
       "      <td>0</td>\n",
       "      <td>0</td>\n",
       "      <td>0</td>\n",
       "      <td>0</td>\n",
       "      <td>0</td>\n",
       "      <td>0</td>\n",
       "      <td>0</td>\n",
       "    </tr>\n",
       "    <tr>\n",
       "      <th>Nordic walking</th>\n",
       "      <td>0</td>\n",
       "      <td>0</td>\n",
       "      <td>0</td>\n",
       "      <td>0</td>\n",
       "      <td>0</td>\n",
       "      <td>0</td>\n",
       "      <td>0</td>\n",
       "      <td>0</td>\n",
       "      <td>0</td>\n",
       "      <td>0</td>\n",
       "      <td>0</td>\n",
       "      <td>0</td>\n",
       "      <td>0</td>\n",
       "      <td>0</td>\n",
       "      <td>0</td>\n",
       "      <td>0</td>\n",
       "      <td>0</td>\n",
       "      <td>0</td>\n",
       "    </tr>\n",
       "    <tr>\n",
       "      <th>8</th>\n",
       "      <td>0</td>\n",
       "      <td>0</td>\n",
       "      <td>0</td>\n",
       "      <td>0</td>\n",
       "      <td>0</td>\n",
       "      <td>0</td>\n",
       "      <td>0</td>\n",
       "      <td>0</td>\n",
       "      <td>0</td>\n",
       "      <td>0</td>\n",
       "      <td>0</td>\n",
       "      <td>0</td>\n",
       "      <td>0</td>\n",
       "      <td>0</td>\n",
       "      <td>0</td>\n",
       "      <td>0</td>\n",
       "      <td>0</td>\n",
       "      <td>0</td>\n",
       "    </tr>\n",
       "    <tr>\n",
       "      <th>watching TV</th>\n",
       "      <td>0</td>\n",
       "      <td>0</td>\n",
       "      <td>0</td>\n",
       "      <td>0</td>\n",
       "      <td>0</td>\n",
       "      <td>0</td>\n",
       "      <td>0</td>\n",
       "      <td>0</td>\n",
       "      <td>0</td>\n",
       "      <td>0</td>\n",
       "      <td>0</td>\n",
       "      <td>0</td>\n",
       "      <td>0</td>\n",
       "      <td>0</td>\n",
       "      <td>0</td>\n",
       "      <td>0</td>\n",
       "      <td>0</td>\n",
       "      <td>0</td>\n",
       "    </tr>\n",
       "    <tr>\n",
       "      <th>computer work</th>\n",
       "      <td>0</td>\n",
       "      <td>0</td>\n",
       "      <td>0</td>\n",
       "      <td>0</td>\n",
       "      <td>0</td>\n",
       "      <td>0</td>\n",
       "      <td>0</td>\n",
       "      <td>0</td>\n",
       "      <td>0</td>\n",
       "      <td>0</td>\n",
       "      <td>0</td>\n",
       "      <td>0</td>\n",
       "      <td>0</td>\n",
       "      <td>0</td>\n",
       "      <td>0</td>\n",
       "      <td>0</td>\n",
       "      <td>0</td>\n",
       "      <td>0</td>\n",
       "    </tr>\n",
       "    <tr>\n",
       "      <th>car driving</th>\n",
       "      <td>0</td>\n",
       "      <td>0</td>\n",
       "      <td>0</td>\n",
       "      <td>0</td>\n",
       "      <td>3</td>\n",
       "      <td>1</td>\n",
       "      <td>0</td>\n",
       "      <td>0</td>\n",
       "      <td>0</td>\n",
       "      <td>0</td>\n",
       "      <td>0</td>\n",
       "      <td>225</td>\n",
       "      <td>3</td>\n",
       "      <td>0</td>\n",
       "      <td>0</td>\n",
       "      <td>0</td>\n",
       "      <td>0</td>\n",
       "      <td>0</td>\n",
       "    </tr>\n",
       "    <tr>\n",
       "      <th>ascending stairs</th>\n",
       "      <td>0</td>\n",
       "      <td>0</td>\n",
       "      <td>0</td>\n",
       "      <td>0</td>\n",
       "      <td>0</td>\n",
       "      <td>0</td>\n",
       "      <td>1</td>\n",
       "      <td>0</td>\n",
       "      <td>0</td>\n",
       "      <td>0</td>\n",
       "      <td>0</td>\n",
       "      <td>0</td>\n",
       "      <td>171</td>\n",
       "      <td>0</td>\n",
       "      <td>0</td>\n",
       "      <td>0</td>\n",
       "      <td>0</td>\n",
       "      <td>0</td>\n",
       "    </tr>\n",
       "    <tr>\n",
       "      <th>descending stairs</th>\n",
       "      <td>0</td>\n",
       "      <td>0</td>\n",
       "      <td>0</td>\n",
       "      <td>0</td>\n",
       "      <td>0</td>\n",
       "      <td>0</td>\n",
       "      <td>0</td>\n",
       "      <td>0</td>\n",
       "      <td>0</td>\n",
       "      <td>0</td>\n",
       "      <td>0</td>\n",
       "      <td>0</td>\n",
       "      <td>0</td>\n",
       "      <td>0</td>\n",
       "      <td>0</td>\n",
       "      <td>0</td>\n",
       "      <td>0</td>\n",
       "      <td>0</td>\n",
       "    </tr>\n",
       "    <tr>\n",
       "      <th>14</th>\n",
       "      <td>0</td>\n",
       "      <td>0</td>\n",
       "      <td>0</td>\n",
       "      <td>0</td>\n",
       "      <td>0</td>\n",
       "      <td>0</td>\n",
       "      <td>0</td>\n",
       "      <td>0</td>\n",
       "      <td>0</td>\n",
       "      <td>0</td>\n",
       "      <td>0</td>\n",
       "      <td>0</td>\n",
       "      <td>0</td>\n",
       "      <td>0</td>\n",
       "      <td>0</td>\n",
       "      <td>0</td>\n",
       "      <td>0</td>\n",
       "      <td>0</td>\n",
       "    </tr>\n",
       "    <tr>\n",
       "      <th>15</th>\n",
       "      <td>0</td>\n",
       "      <td>0</td>\n",
       "      <td>1</td>\n",
       "      <td>0</td>\n",
       "      <td>0</td>\n",
       "      <td>2</td>\n",
       "      <td>0</td>\n",
       "      <td>0</td>\n",
       "      <td>0</td>\n",
       "      <td>0</td>\n",
       "      <td>0</td>\n",
       "      <td>1</td>\n",
       "      <td>0</td>\n",
       "      <td>0</td>\n",
       "      <td>0</td>\n",
       "      <td>367</td>\n",
       "      <td>0</td>\n",
       "      <td>0</td>\n",
       "    </tr>\n",
       "    <tr>\n",
       "      <th>vacuum cleaning</th>\n",
       "      <td>0</td>\n",
       "      <td>1</td>\n",
       "      <td>11</td>\n",
       "      <td>0</td>\n",
       "      <td>0</td>\n",
       "      <td>1</td>\n",
       "      <td>1</td>\n",
       "      <td>0</td>\n",
       "      <td>0</td>\n",
       "      <td>0</td>\n",
       "      <td>0</td>\n",
       "      <td>0</td>\n",
       "      <td>2</td>\n",
       "      <td>0</td>\n",
       "      <td>0</td>\n",
       "      <td>4</td>\n",
       "      <td>514</td>\n",
       "      <td>0</td>\n",
       "    </tr>\n",
       "    <tr>\n",
       "      <th>ironing</th>\n",
       "      <td>0</td>\n",
       "      <td>0</td>\n",
       "      <td>0</td>\n",
       "      <td>0</td>\n",
       "      <td>0</td>\n",
       "      <td>0</td>\n",
       "      <td>0</td>\n",
       "      <td>0</td>\n",
       "      <td>0</td>\n",
       "      <td>0</td>\n",
       "      <td>0</td>\n",
       "      <td>0</td>\n",
       "      <td>0</td>\n",
       "      <td>0</td>\n",
       "      <td>0</td>\n",
       "      <td>0</td>\n",
       "      <td>0</td>\n",
       "      <td>0</td>\n",
       "    </tr>\n",
       "  </tbody>\n",
       "</table>\n",
       "</div>"
      ],
      "text/plain": [
       "                   other  lying  sitting  standing  walking  running  cycling  \\\n",
       "other                419      1        0         0        0        0        0   \n",
       "lying                  0    439        1         0        0        0        0   \n",
       "sitting                0      2      386         0        0        0        0   \n",
       "standing               0      0        0       474        1        0        2   \n",
       "walking                0      0        0         0      207        0        1   \n",
       "running                0      0        0         0        0      366        0   \n",
       "cycling                0      0        0         0        0        1      404   \n",
       "Nordic walking         0      0        0         0        0        0        0   \n",
       "8                      0      0        0         0        0        0        0   \n",
       "watching TV            0      0        0         0        0        0        0   \n",
       "computer work          0      0        0         0        0        0        0   \n",
       "car driving            0      0        0         0        3        1        0   \n",
       "ascending stairs       0      0        0         0        0        0        1   \n",
       "descending stairs      0      0        0         0        0        0        0   \n",
       "14                     0      0        0         0        0        0        0   \n",
       "15                     0      0        1         0        0        2        0   \n",
       "vacuum cleaning        0      1       11         0        0        1        1   \n",
       "ironing                0      0        0         0        0        0        0   \n",
       "\n",
       "                   Nordic walking  8  watching TV  computer work  car driving  \\\n",
       "other                           0  0            0              0            0   \n",
       "lying                           0  0            0              0            0   \n",
       "sitting                         0  0            0              0            0   \n",
       "standing                        0  0            0              0            0   \n",
       "walking                         0  0            0              0            0   \n",
       "running                         0  0            0              0            0   \n",
       "cycling                         0  0            0              0            0   \n",
       "Nordic walking                  0  0            0              0            0   \n",
       "8                               0  0            0              0            0   \n",
       "watching TV                     0  0            0              0            0   \n",
       "computer work                   0  0            0              0            0   \n",
       "car driving                     0  0            0              0          225   \n",
       "ascending stairs                0  0            0              0            0   \n",
       "descending stairs               0  0            0              0            0   \n",
       "14                              0  0            0              0            0   \n",
       "15                              0  0            0              0            1   \n",
       "vacuum cleaning                 0  0            0              0            0   \n",
       "ironing                         0  0            0              0            0   \n",
       "\n",
       "                   ascending stairs  descending stairs  14   15  \\\n",
       "other                             0                  0   0    0   \n",
       "lying                             0                  0   0    0   \n",
       "sitting                           0                  0   0    0   \n",
       "standing                          0                  0   0    0   \n",
       "walking                           0                  0   0    0   \n",
       "running                           0                  0   0    1   \n",
       "cycling                           0                  0   0    0   \n",
       "Nordic walking                    0                  0   0    0   \n",
       "8                                 0                  0   0    0   \n",
       "watching TV                       0                  0   0    0   \n",
       "computer work                     0                  0   0    0   \n",
       "car driving                       3                  0   0    0   \n",
       "ascending stairs                171                  0   0    0   \n",
       "descending stairs                 0                  0   0    0   \n",
       "14                                0                  0   0    0   \n",
       "15                                0                  0   0  367   \n",
       "vacuum cleaning                   2                  0   0    4   \n",
       "ironing                           0                  0   0    0   \n",
       "\n",
       "                   vacuum cleaning  ironing  \n",
       "other                            0        0  \n",
       "lying                            0        0  \n",
       "sitting                          8        0  \n",
       "standing                         0        0  \n",
       "walking                          0        0  \n",
       "running                          0        0  \n",
       "cycling                          0        0  \n",
       "Nordic walking                   0        0  \n",
       "8                                0        0  \n",
       "watching TV                      0        0  \n",
       "computer work                    0        0  \n",
       "car driving                      0        0  \n",
       "ascending stairs                 0        0  \n",
       "descending stairs                0        0  \n",
       "14                               0        0  \n",
       "15                               0        0  \n",
       "vacuum cleaning                514        0  \n",
       "ironing                          0        0  "
      ]
     },
     "execution_count": 76,
     "metadata": {},
     "output_type": "execute_result"
    }
   ],
   "source": [
    "cmdf "
   ]
  },
  {
   "cell_type": "markdown",
   "metadata": {},
   "source": [
    "## History of best Results"
   ]
  },
  {
   "cell_type": "markdown",
   "metadata": {},
   "source": [
    "#### Regular conv1DNet\n",
    "all classes F_m : 0.9057730597984974\n",
    "<br>\n",
    "4 classes F_M   : 0.980124538692786\n",
    "\n",
    "#### MultiSincNet\n",
    "all classes F_m : 0.910066759618529\n",
    "<br>\n",
    "4 classes F_M   : 0.9838875053661083"
   ]
  },
  {
   "cell_type": "code",
   "execution_count": null,
   "metadata": {},
   "outputs": [],
   "source": []
  }
 ],
 "metadata": {
  "kernelspec": {
   "display_name": "Python [conda env:bob_py3]",
   "language": "python",
   "name": "conda-env-bob_py3-py"
  },
  "language_info": {
   "codemirror_mode": {
    "name": "ipython",
    "version": 3
   },
   "file_extension": ".py",
   "mimetype": "text/x-python",
   "name": "python",
   "nbconvert_exporter": "python",
   "pygments_lexer": "ipython3",
   "version": "3.6.8"
  }
 },
 "nbformat": 4,
 "nbformat_minor": 2
}
