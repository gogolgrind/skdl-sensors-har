{
 "cells": [
  {
   "cell_type": "code",
   "execution_count": 0,
   "metadata": {
    "colab": {
     "base_uri": "https://localhost:8080/",
     "height": 34
    },
    "colab_type": "code",
    "id": "IOXYaCyQQaBM",
    "outputId": "427a6e8c-df25-4f51-cc4a-50f78f0457d3"
   },
   "outputs": [
    {
     "name": "stdout",
     "output_type": "stream",
     "text": [
      "Populating the interactive namespace from numpy and matplotlib\n"
     ]
    }
   ],
   "source": [
    "import warnings\n",
    "warnings.filterwarnings(\"ignore\")\n",
    "import os\n",
    "import sys\n",
    "import numpy as np\n",
    "import torch\n",
    "from sklearn.metrics import accuracy_score,confusion_matrix,classification_report\n",
    "import  torch.nn as nn\n",
    "import torch.nn.functional as F\n",
    "rseed = 42\n",
    "np.random.seed(rseed)\n",
    "torch.manual_seed(rseed)\n",
    "gpu_id = '0'\n",
    "from joblib import Parallel, delayed\n",
    "os.environ['CUDA_VISIBLE_DEVICES']=gpu_id\n",
    "#os.environ['JOBLIB_TEMP_FOLDER'] = '/ksozykinraid/data/tmp/'\n",
    "from time import time\n",
    "import torch \n",
    "import pandas as pd\n",
    "import glob2\n",
    "import json\n",
    "from tqdm import tqdm\n",
    "%pylab inline"
   ]
  },
  {
   "cell_type": "code",
   "execution_count": 0,
   "metadata": {
    "colab": {
     "base_uri": "https://localhost:8080/",
     "height": 162,
     "resources": {
      "http://localhost:8080/nbextensions/google.colab/files.js": {
       "data": "Ly8gQ29weXJpZ2h0IDIwMTcgR29vZ2xlIExMQwovLwovLyBMaWNlbnNlZCB1bmRlciB0aGUgQXBhY2hlIExpY2Vuc2UsIFZlcnNpb24gMi4wICh0aGUgIkxpY2Vuc2UiKTsKLy8geW91IG1heSBub3QgdXNlIHRoaXMgZmlsZSBleGNlcHQgaW4gY29tcGxpYW5jZSB3aXRoIHRoZSBMaWNlbnNlLgovLyBZb3UgbWF5IG9idGFpbiBhIGNvcHkgb2YgdGhlIExpY2Vuc2UgYXQKLy8KLy8gICAgICBodHRwOi8vd3d3LmFwYWNoZS5vcmcvbGljZW5zZXMvTElDRU5TRS0yLjAKLy8KLy8gVW5sZXNzIHJlcXVpcmVkIGJ5IGFwcGxpY2FibGUgbGF3IG9yIGFncmVlZCB0byBpbiB3cml0aW5nLCBzb2Z0d2FyZQovLyBkaXN0cmlidXRlZCB1bmRlciB0aGUgTGljZW5zZSBpcyBkaXN0cmlidXRlZCBvbiBhbiAiQVMgSVMiIEJBU0lTLAovLyBXSVRIT1VUIFdBUlJBTlRJRVMgT1IgQ09ORElUSU9OUyBPRiBBTlkgS0lORCwgZWl0aGVyIGV4cHJlc3Mgb3IgaW1wbGllZC4KLy8gU2VlIHRoZSBMaWNlbnNlIGZvciB0aGUgc3BlY2lmaWMgbGFuZ3VhZ2UgZ292ZXJuaW5nIHBlcm1pc3Npb25zIGFuZAovLyBsaW1pdGF0aW9ucyB1bmRlciB0aGUgTGljZW5zZS4KCi8qKgogKiBAZmlsZW92ZXJ2aWV3IEhlbHBlcnMgZm9yIGdvb2dsZS5jb2xhYiBQeXRob24gbW9kdWxlLgogKi8KKGZ1bmN0aW9uKHNjb3BlKSB7CmZ1bmN0aW9uIHNwYW4odGV4dCwgc3R5bGVBdHRyaWJ1dGVzID0ge30pIHsKICBjb25zdCBlbGVtZW50ID0gZG9jdW1lbnQuY3JlYXRlRWxlbWVudCgnc3BhbicpOwogIGVsZW1lbnQudGV4dENvbnRlbnQgPSB0ZXh0OwogIGZvciAoY29uc3Qga2V5IG9mIE9iamVjdC5rZXlzKHN0eWxlQXR0cmlidXRlcykpIHsKICAgIGVsZW1lbnQuc3R5bGVba2V5XSA9IHN0eWxlQXR0cmlidXRlc1trZXldOwogIH0KICByZXR1cm4gZWxlbWVudDsKfQoKLy8gTWF4IG51bWJlciBvZiBieXRlcyB3aGljaCB3aWxsIGJlIHVwbG9hZGVkIGF0IGEgdGltZS4KY29uc3QgTUFYX1BBWUxPQURfU0laRSA9IDEwMCAqIDEwMjQ7Ci8vIE1heCBhbW91bnQgb2YgdGltZSB0byBibG9jayB3YWl0aW5nIGZvciB0aGUgdXNlci4KY29uc3QgRklMRV9DSEFOR0VfVElNRU9VVF9NUyA9IDMwICogMTAwMDsKCmZ1bmN0aW9uIF91cGxvYWRGaWxlcyhpbnB1dElkLCBvdXRwdXRJZCkgewogIGNvbnN0IHN0ZXBzID0gdXBsb2FkRmlsZXNTdGVwKGlucHV0SWQsIG91dHB1dElkKTsKICBjb25zdCBvdXRwdXRFbGVtZW50ID0gZG9jdW1lbnQuZ2V0RWxlbWVudEJ5SWQob3V0cHV0SWQpOwogIC8vIENhY2hlIHN0ZXBzIG9uIHRoZSBvdXRwdXRFbGVtZW50IHRvIG1ha2UgaXQgYXZhaWxhYmxlIGZvciB0aGUgbmV4dCBjYWxsCiAgLy8gdG8gdXBsb2FkRmlsZXNDb250aW51ZSBmcm9tIFB5dGhvbi4KICBvdXRwdXRFbGVtZW50LnN0ZXBzID0gc3RlcHM7CgogIHJldHVybiBfdXBsb2FkRmlsZXNDb250aW51ZShvdXRwdXRJZCk7Cn0KCi8vIFRoaXMgaXMgcm91Z2hseSBhbiBhc3luYyBnZW5lcmF0b3IgKG5vdCBzdXBwb3J0ZWQgaW4gdGhlIGJyb3dzZXIgeWV0KSwKLy8gd2hlcmUgdGhlcmUgYXJlIG11bHRpcGxlIGFzeW5jaHJvbm91cyBzdGVwcyBhbmQgdGhlIFB5dGhvbiBzaWRlIGlzIGdvaW5nCi8vIHRvIHBvbGwgZm9yIGNvbXBsZXRpb24gb2YgZWFjaCBzdGVwLgovLyBUaGlzIHVzZXMgYSBQcm9taXNlIHRvIGJsb2NrIHRoZSBweXRob24gc2lkZSBvbiBjb21wbGV0aW9uIG9mIGVhY2ggc3RlcCwKLy8gdGhlbiBwYXNzZXMgdGhlIHJlc3VsdCBvZiB0aGUgcHJldmlvdXMgc3RlcCBhcyB0aGUgaW5wdXQgdG8gdGhlIG5leHQgc3RlcC4KZnVuY3Rpb24gX3VwbG9hZEZpbGVzQ29udGludWUob3V0cHV0SWQpIHsKICBjb25zdCBvdXRwdXRFbGVtZW50ID0gZG9jdW1lbnQuZ2V0RWxlbWVudEJ5SWQob3V0cHV0SWQpOwogIGNvbnN0IHN0ZXBzID0gb3V0cHV0RWxlbWVudC5zdGVwczsKCiAgY29uc3QgbmV4dCA9IHN0ZXBzLm5leHQob3V0cHV0RWxlbWVudC5sYXN0UHJvbWlzZVZhbHVlKTsKICByZXR1cm4gUHJvbWlzZS5yZXNvbHZlKG5leHQudmFsdWUucHJvbWlzZSkudGhlbigodmFsdWUpID0+IHsKICAgIC8vIENhY2hlIHRoZSBsYXN0IHByb21pc2UgdmFsdWUgdG8gbWFrZSBpdCBhdmFpbGFibGUgdG8gdGhlIG5leHQKICAgIC8vIHN0ZXAgb2YgdGhlIGdlbmVyYXRvci4KICAgIG91dHB1dEVsZW1lbnQubGFzdFByb21pc2VWYWx1ZSA9IHZhbHVlOwogICAgcmV0dXJuIG5leHQudmFsdWUucmVzcG9uc2U7CiAgfSk7Cn0KCi8qKgogKiBHZW5lcmF0b3IgZnVuY3Rpb24gd2hpY2ggaXMgY2FsbGVkIGJldHdlZW4gZWFjaCBhc3luYyBzdGVwIG9mIHRoZSB1cGxvYWQKICogcHJvY2Vzcy4KICogQHBhcmFtIHtzdHJpbmd9IGlucHV0SWQgRWxlbWVudCBJRCBvZiB0aGUgaW5wdXQgZmlsZSBwaWNrZXIgZWxlbWVudC4KICogQHBhcmFtIHtzdHJpbmd9IG91dHB1dElkIEVsZW1lbnQgSUQgb2YgdGhlIG91dHB1dCBkaXNwbGF5LgogKiBAcmV0dXJuIHshSXRlcmFibGU8IU9iamVjdD59IEl0ZXJhYmxlIG9mIG5leHQgc3RlcHMuCiAqLwpmdW5jdGlvbiogdXBsb2FkRmlsZXNTdGVwKGlucHV0SWQsIG91dHB1dElkKSB7CiAgY29uc3QgaW5wdXRFbGVtZW50ID0gZG9jdW1lbnQuZ2V0RWxlbWVudEJ5SWQoaW5wdXRJZCk7CiAgaW5wdXRFbGVtZW50LmRpc2FibGVkID0gZmFsc2U7CgogIGNvbnN0IG91dHB1dEVsZW1lbnQgPSBkb2N1bWVudC5nZXRFbGVtZW50QnlJZChvdXRwdXRJZCk7CiAgb3V0cHV0RWxlbWVudC5pbm5lckhUTUwgPSAnJzsKCiAgY29uc3QgcGlja2VkUHJvbWlzZSA9IG5ldyBQcm9taXNlKChyZXNvbHZlKSA9PiB7CiAgICBpbnB1dEVsZW1lbnQuYWRkRXZlbnRMaXN0ZW5lcignY2hhbmdlJywgKGUpID0+IHsKICAgICAgcmVzb2x2ZShlLnRhcmdldC5maWxlcyk7CiAgICB9KTsKICB9KTsKCiAgY29uc3QgY2FuY2VsID0gZG9jdW1lbnQuY3JlYXRlRWxlbWVudCgnYnV0dG9uJyk7CiAgaW5wdXRFbGVtZW50LnBhcmVudEVsZW1lbnQuYXBwZW5kQ2hpbGQoY2FuY2VsKTsKICBjYW5jZWwudGV4dENvbnRlbnQgPSAnQ2FuY2VsIHVwbG9hZCc7CiAgY29uc3QgY2FuY2VsUHJvbWlzZSA9IG5ldyBQcm9taXNlKChyZXNvbHZlKSA9PiB7CiAgICBjYW5jZWwub25jbGljayA9ICgpID0+IHsKICAgICAgcmVzb2x2ZShudWxsKTsKICAgIH07CiAgfSk7CgogIC8vIENhbmNlbCB1cGxvYWQgaWYgdXNlciBoYXNuJ3QgcGlja2VkIGFueXRoaW5nIGluIHRpbWVvdXQuCiAgY29uc3QgdGltZW91dFByb21pc2UgPSBuZXcgUHJvbWlzZSgocmVzb2x2ZSkgPT4gewogICAgc2V0VGltZW91dCgoKSA9PiB7CiAgICAgIHJlc29sdmUobnVsbCk7CiAgICB9LCBGSUxFX0NIQU5HRV9USU1FT1VUX01TKTsKICB9KTsKCiAgLy8gV2FpdCBmb3IgdGhlIHVzZXIgdG8gcGljayB0aGUgZmlsZXMuCiAgY29uc3QgZmlsZXMgPSB5aWVsZCB7CiAgICBwcm9taXNlOiBQcm9taXNlLnJhY2UoW3BpY2tlZFByb21pc2UsIHRpbWVvdXRQcm9taXNlLCBjYW5jZWxQcm9taXNlXSksCiAgICByZXNwb25zZTogewogICAgICBhY3Rpb246ICdzdGFydGluZycsCiAgICB9CiAgfTsKCiAgaWYgKCFmaWxlcykgewogICAgcmV0dXJuIHsKICAgICAgcmVzcG9uc2U6IHsKICAgICAgICBhY3Rpb246ICdjb21wbGV0ZScsCiAgICAgIH0KICAgIH07CiAgfQoKICBjYW5jZWwucmVtb3ZlKCk7CgogIC8vIERpc2FibGUgdGhlIGlucHV0IGVsZW1lbnQgc2luY2UgZnVydGhlciBwaWNrcyBhcmUgbm90IGFsbG93ZWQuCiAgaW5wdXRFbGVtZW50LmRpc2FibGVkID0gdHJ1ZTsKCiAgZm9yIChjb25zdCBmaWxlIG9mIGZpbGVzKSB7CiAgICBjb25zdCBsaSA9IGRvY3VtZW50LmNyZWF0ZUVsZW1lbnQoJ2xpJyk7CiAgICBsaS5hcHBlbmQoc3BhbihmaWxlLm5hbWUsIHtmb250V2VpZ2h0OiAnYm9sZCd9KSk7CiAgICBsaS5hcHBlbmQoc3BhbigKICAgICAgICBgKCR7ZmlsZS50eXBlIHx8ICduL2EnfSkgLSAke2ZpbGUuc2l6ZX0gYnl0ZXMsIGAgKwogICAgICAgIGBsYXN0IG1vZGlmaWVkOiAkewogICAgICAgICAgICBmaWxlLmxhc3RNb2RpZmllZERhdGUgPyBmaWxlLmxhc3RNb2RpZmllZERhdGUudG9Mb2NhbGVEYXRlU3RyaW5nKCkgOgogICAgICAgICAgICAgICAgICAgICAgICAgICAgICAgICAgICAnbi9hJ30gLSBgKSk7CiAgICBjb25zdCBwZXJjZW50ID0gc3BhbignMCUgZG9uZScpOwogICAgbGkuYXBwZW5kQ2hpbGQocGVyY2VudCk7CgogICAgb3V0cHV0RWxlbWVudC5hcHBlbmRDaGlsZChsaSk7CgogICAgY29uc3QgZmlsZURhdGFQcm9taXNlID0gbmV3IFByb21pc2UoKHJlc29sdmUpID0+IHsKICAgICAgY29uc3QgcmVhZGVyID0gbmV3IEZpbGVSZWFkZXIoKTsKICAgICAgcmVhZGVyLm9ubG9hZCA9IChlKSA9PiB7CiAgICAgICAgcmVzb2x2ZShlLnRhcmdldC5yZXN1bHQpOwogICAgICB9OwogICAgICByZWFkZXIucmVhZEFzQXJyYXlCdWZmZXIoZmlsZSk7CiAgICB9KTsKICAgIC8vIFdhaXQgZm9yIHRoZSBkYXRhIHRvIGJlIHJlYWR5LgogICAgbGV0IGZpbGVEYXRhID0geWllbGQgewogICAgICBwcm9taXNlOiBmaWxlRGF0YVByb21pc2UsCiAgICAgIHJlc3BvbnNlOiB7CiAgICAgICAgYWN0aW9uOiAnY29udGludWUnLAogICAgICB9CiAgICB9OwoKICAgIC8vIFVzZSBhIGNodW5rZWQgc2VuZGluZyB0byBhdm9pZCBtZXNzYWdlIHNpemUgbGltaXRzLiBTZWUgYi82MjExNTY2MC4KICAgIGxldCBwb3NpdGlvbiA9IDA7CiAgICB3aGlsZSAocG9zaXRpb24gPCBmaWxlRGF0YS5ieXRlTGVuZ3RoKSB7CiAgICAgIGNvbnN0IGxlbmd0aCA9IE1hdGgubWluKGZpbGVEYXRhLmJ5dGVMZW5ndGggLSBwb3NpdGlvbiwgTUFYX1BBWUxPQURfU0laRSk7CiAgICAgIGNvbnN0IGNodW5rID0gbmV3IFVpbnQ4QXJyYXkoZmlsZURhdGEsIHBvc2l0aW9uLCBsZW5ndGgpOwogICAgICBwb3NpdGlvbiArPSBsZW5ndGg7CgogICAgICBjb25zdCBiYXNlNjQgPSBidG9hKFN0cmluZy5mcm9tQ2hhckNvZGUuYXBwbHkobnVsbCwgY2h1bmspKTsKICAgICAgeWllbGQgewogICAgICAgIHJlc3BvbnNlOiB7CiAgICAgICAgICBhY3Rpb246ICdhcHBlbmQnLAogICAgICAgICAgZmlsZTogZmlsZS5uYW1lLAogICAgICAgICAgZGF0YTogYmFzZTY0LAogICAgICAgIH0sCiAgICAgIH07CiAgICAgIHBlcmNlbnQudGV4dENvbnRlbnQgPQogICAgICAgICAgYCR7TWF0aC5yb3VuZCgocG9zaXRpb24gLyBmaWxlRGF0YS5ieXRlTGVuZ3RoKSAqIDEwMCl9JSBkb25lYDsKICAgIH0KICB9CgogIC8vIEFsbCBkb25lLgogIHlpZWxkIHsKICAgIHJlc3BvbnNlOiB7CiAgICAgIGFjdGlvbjogJ2NvbXBsZXRlJywKICAgIH0KICB9Owp9CgpzY29wZS5nb29nbGUgPSBzY29wZS5nb29nbGUgfHwge307CnNjb3BlLmdvb2dsZS5jb2xhYiA9IHNjb3BlLmdvb2dsZS5jb2xhYiB8fCB7fTsKc2NvcGUuZ29vZ2xlLmNvbGFiLl9maWxlcyA9IHsKICBfdXBsb2FkRmlsZXMsCiAgX3VwbG9hZEZpbGVzQ29udGludWUsCn07Cn0pKHNlbGYpOwo=",
       "headers": [
        [
         "content-type",
         "application/javascript"
        ]
       ],
       "ok": true,
       "status": 200,
       "status_text": ""
      }
     }
    },
    "colab_type": "code",
    "id": "xbBfNt5yQm5E",
    "outputId": "417bd1d5-554c-4b23-c985-54e934558c43"
   },
   "outputs": [
    {
     "data": {
      "text/html": [
       "\n",
       "     <input type=\"file\" id=\"files-4023a29a-7c70-45a6-873c-59c98fe96a1e\" name=\"files[]\" multiple disabled />\n",
       "     <output id=\"result-4023a29a-7c70-45a6-873c-59c98fe96a1e\">\n",
       "      Upload widget is only available when the cell has been executed in the\n",
       "      current browser session. Please rerun this cell to enable.\n",
       "      </output>\n",
       "      <script src=\"/nbextensions/google.colab/files.js\"></script> "
      ],
      "text/plain": [
       "<IPython.core.display.HTML object>"
      ]
     },
     "metadata": {
      "tags": []
     },
     "output_type": "display_data"
    },
    {
     "name": "stdout",
     "output_type": "stream",
     "text": [
      "Saving layers.py to layers.py\n",
      "Saving utils.py to utils.py\n"
     ]
    },
    {
     "data": {
      "text/plain": [
       "{'layers.py': b'\\n\"\"\"\\n    multi-sin-conv is an extention of the https://github.com/mravanelli/SincNet\\n\"\"\"\\n\\nimport torch\\nimport numpy as np\\nimport  torch.nn as nn\\nimport torch.nn.functional as F\\nimport math \\n\\nclass Flatten(nn.Module):\\n    def forward(self, input):\\n        return input.view(input.size(0), -1)\\n    \\nclass Flip(nn.Module):\\n    \\n    def __init__(self,dim):\\n        super(self.__class__, self).__init__()\\n        self.dim = dim\\n        \\n    def forward(self,x):\\n        xsize = x.size()\\n        dim = x.dim() + dim if self.dim < 0 else self.dim\\n        x = x.contiguous()\\n        x = x.view(-1, *xsize[dim:])\\n        x = x.view(x.size(0), x.size(1), -1)[:, torch.arange(x.size(1)-1, -1, -1), :]\\n        return x.view(xsize)\\n\\n\\nclass Sinc(nn.Module):\\n    \\n    def __init__(self,device=\\'cuda\\'):\\n        super(self.__class__, self).__init__()\\n        self.flip = Flip(0)\\n        self.device = device\\n        \\n    def forward(self,band,t_right):\\n        y_right= torch.sin(2*math.pi*band*t_right)/(2*math.pi*band*t_right)\\n        y_left = self.flip(y_right)\\n        y = torch.cat([y_left,torch.ones(1).to(self.device),y_right])\\n        return y\\n\\nclass LayerNorm(nn.Module):\\n    \"\"\"\\n        https://github.com/mravanelli/SincNet\\n    \"\"\"\\n    def __init__(self, features, eps=1e-6):\\n        super(LayerNorm,self).__init__()\\n        self.gamma = nn.Parameter(torch.ones(features))\\n        self.beta = nn.Parameter(torch.zeros(features))\\n        self.eps = eps\\n\\n    def forward(self, x):\\n        mean = x.mean(-1, keepdim=True)\\n        std = x.std(-1, keepdim=True)\\n        return self.gamma * (x - mean) / (std + self.eps) + self.beta\\n\\nclass multichannel_sinc_conv(nn.Module):\\n    \"\"\"\\n     extention of the https://github.com/mravanelli/SincNet\\n    \"\"\"\\n    def __freqinit__(self):\\n        if self.cutfreq_type == \\'mel\\':\\n            low_freq_mel = 80\\n            high_freq_mel = (2595 * np.log10(1 + (self.fs / 2) / 700))  # Convert Hz to Mel\\n            mel_points = np.linspace(low_freq_mel, high_freq_mel, self.N_filt)  # Equally spaced in Mel scale\\n            f_cos = (700 * (10**(mel_points / 2595) - 1)) # Convert Mel to Hz\\n            b1=np.roll(f_cos,1)\\n            b2=np.roll(f_cos,-1)\\n            b1[0] = 30\\n            b2[-1] = (self.fs/2)-100\\n        elif self.cutfreq_type == \\'pre_defined\\':\\n            b1 = np.array([15,35,80])\\n            b2 = np.array([25,50,90])\\n        elif self.cutfreq_type == \\'random\\':\\n            eeg_const = 100\\n            b1 = np.random.randint(10,int(self.fs//2)-10,[self.N_filt])\\n            #b1 = 10 * np.ones([self.N_filt])\\n            b2 = np.minimum(b1+5,int(self.fs//2))        \\n            b1 = b1.tolist()\\n            b2 = b2.tolist()\\n        else:\\n            raise NotImplementedError\\n        bands_low = []\\n        bands_high = []\\n        for i in range(self.N_channels):\\n            bands_low.append(b1)\\n            bands_high.append(b2)\\n        bands_low = np.array(bands_low).astype(\\'float32\\')\\n        bands_high = np.array(bands_high).astype(\\'float32\\')\\n        return (bands_low,bands_high)\\n\\n    def get_filter_bank(self,beg_freq,end_freq):\\n        if self.filt_type == \\'sinc\\':\\n            t_right = (torch.linspace(1, (self.Filt_dim-1)/2, steps=int((self.Filt_dim-1)/2))/self.fs).to(self.device)\\n            low_pass1 = 2*beg_freq.float()*self.sinc(beg_freq.float()*self.fs,t_right)\\n            low_pass2 = 2*end_freq.float()*self.sinc(end_freq.float()*self.fs,t_right)\\n            band_pass = (low_pass2-low_pass1)\\n            band_pass = band_pass/torch.max(band_pass)\\n            return band_pass.to(self.device)*self.window\\n        elif self.filt_type == \\'firwin\\':\\n            raise NotImplementedError\\n            cut1 = beg_freq.float().detach().cpu().numpy()*self.fs\\n            cut2 = end_freq.float().detach().cpu().numpy()*self.fs\\n            cut1 = np.round(cut1)\\n            cut2 = np.round(cut2)\\n            band_pass = sp.signal.firwin(self.Filt_dim, [cut1,cut2], pass_zero=False,fs=self.fs,window=\\'hamming\\')\\n            band_pass = torch.from_numpy(band_pass.astype(\\'float32\\'))\\n            band_pass = nn.Parameter(band_pass.to(self.device))\\n            return band_pass\\n        else:\\n            raise NotImplementedError\\n\\n    def __init__(self, \\n                 N_filt = 12, \\n                 N_channels = 27, \\n                 Filt_dim = 5, \\n                 fs = 100,\\n                 cutfreq_type = \\'mel\\', \\n                 filt_type = \\'sinc\\',\\n                 device = \\'cuda\\'):\\n        super(multichannel_sinc_conv,self).__init__()\\n        self.cutfreq_type = cutfreq_type\\n        self.fs = float(fs)\\n        self.device = device\\n        self.sinc = Sinc(self.device)\\n        self.filt_type = filt_type\\n        self.N_channels = N_channels\\n        self.N_filt = N_filt\\n        self.Filt_dim = Filt_dim\\n        bands = self.__freqinit__()\\n        self.bands_low = bands[0]\\n        self.bands_high = bands[1]\\n        self.filt_low = nn.Parameter(torch.from_numpy(self.bands_low/self.fs).to(self.device))\\n        self.filt_band = nn.Parameter(torch.from_numpy((self.bands_high-self.bands_low)/self.fs).to(self.device))        \\n        n = torch.linspace(0, self.Filt_dim, steps=self.Filt_dim)\\n        #hamming = 0.54-0.46*torch.cos(2*math.pi*n/self.Filt_dim)\\n        blackman = 0.42 - 0.5*torch.cos(2*math.pi*n/self.Filt_dim)\\n        blackman += 0.08*torch.cos(4*math.pi*n/self.Filt_dim)\\n        self.window = blackman.float().to(self.device)\\n        \\n    def forward(self, x):\\n        k = 0\\n        min_freq=1.0;\\n        min_band=10.0;\\n        filters = torch.zeros((self.N_filt*self.N_channels,self.Filt_dim)).to(self.device)\\n        for j in range(self.N_channels):    \\n            filt_beg_freq = torch.abs(self.filt_low)[j] + min_freq/self.fs\\n            filt_end_freq = (filt_beg_freq+(torch.abs(self.filt_band)))[j]\\n            for i in range(self.N_filt):\\n                band_pass = self.get_filter_bank(filt_beg_freq[i],filt_end_freq[i]) \\n                filters[k,:] = band_pass\\n                k+=1\\n        filters = filters.view(self.N_filt*self.N_channels,1,self.Filt_dim)\\n        return F.conv1d(x,filters,groups=self.N_channels)',\n",
       " 'utils.py': b'import numpy as np\\nimport matplotlib.pyplot as plt\\n\\ndef sliding_window(sequence,\\n                   win_size = 20, step = 5):\\n    nb_chunks = ((len(sequence)-win_size)//step)+1\\n    for i in range(0,nb_chunks*step,step):\\n        yield sequence[i:i+win_size]\\n\\ndef major_filter(activity):\\n    unique, counts = np.unique(activity, return_counts=True)\\n    return unique[np.argmax(counts)]\\n\\ndef one_hot(a, num_classes = 4):\\n    a = a.astype(\\'int32\\') - 1\\n    return np.squeeze(np.eye(num_classes)[a.reshape(-1)])\\n\\n\\ndef create_conf_matrix(y_true, y_pred, n_classes = 4):\\n    \"\"\"\\n        src : https://stackoverflow.com/questions/2148543/how-to-write-a-confusion-matrix-in-python\\n    \"\"\"\\n    m = np.zeros([n_classes,n_classes],dtype=np.int32)\\n    for pred, exp in zip(y_pred,y_true):\\n        m[pred][exp] += 1\\n    return m'}"
      ]
     },
     "execution_count": 4,
     "metadata": {
      "tags": []
     },
     "output_type": "execute_result"
    }
   ],
   "source": [
    "from google.colab import files\n",
    "files.upload()"
   ]
  },
  {
   "cell_type": "code",
   "execution_count": 0,
   "metadata": {
    "colab": {},
    "colab_type": "code",
    "id": "Z93oCm5eRRJq"
   },
   "outputs": [],
   "source": [
    "from utils import *\n",
    "\n",
    "from layers import *"
   ]
  },
  {
   "cell_type": "code",
   "execution_count": 0,
   "metadata": {
    "colab": {
     "base_uri": "https://localhost:8080/",
     "height": 34
    },
    "colab_type": "code",
    "id": "5EzuxFEkRa8_",
    "outputId": "3a9ca609-3dc7-410b-93dd-9c9167914f1f"
   },
   "outputs": [
    {
     "name": "stdout",
     "output_type": "stream",
     "text": [
      "Drive already mounted at /content/drive/; to attempt to forcibly remount, call drive.mount(\"/content/drive/\", force_remount=True).\n"
     ]
    }
   ],
   "source": [
    "# Load the Drive helper and mount\n",
    "from google.colab import drive\n",
    "\n",
    "# This will prompt for authorization.\n",
    "\n",
    "drive.mount('/content/drive/')"
   ]
  },
  {
   "cell_type": "code",
   "execution_count": 0,
   "metadata": {
    "colab": {},
    "colab_type": "code",
    "id": "Sq9tLGT1RhV4"
   },
   "outputs": [],
   "source": [
    "import zipfile\n",
    "zip_ref = zipfile.ZipFile('/content/drive/My Drive/Skeleton.zip', 'r')\n",
    "zip_ref.extractall('./')\n",
    "zip_ref.close()"
   ]
  },
  {
   "cell_type": "code",
   "execution_count": 0,
   "metadata": {
    "colab": {},
    "colab_type": "code",
    "id": "08TJq7BwSu9X"
   },
   "outputs": [],
   "source": [
    "\n",
    "import scipy.io\n",
    "import numpy as np\n",
    "import pandas as pd\n",
    "\n",
    "from pathlib import Path\n",
    "from matplotlib import pyplot as plt"
   ]
  },
  {
   "cell_type": "code",
   "execution_count": 0,
   "metadata": {
    "colab": {},
    "colab_type": "code",
    "id": "FUaV7hwkRplt"
   },
   "outputs": [],
   "source": [
    "def data_columns():\n",
    "    \n",
    "    axes = ['x', 'y', 'z']\n",
    "    columns = ['head_' + i for i in axes] + \\\n",
    "        ['shoulder_center_' + i for i in axes] + \\\n",
    "        ['spine_' + i for i in axes] + \\\n",
    "        ['hip_center_' + i for i in axes] + \\\n",
    "        ['left_shoulder_' + i for i in axes] + \\\n",
    "        ['left_elbow_' + i for i in axes] + \\\n",
    "        ['left_wrist_' + i for i in axes] + \\\n",
    "        ['left_hand_' + i for i in axes] + \\\n",
    "        ['right_shoulder' + i for i in axes] + \\\n",
    "        ['right_elbow_' + i for i in axes] + \\\n",
    "        ['right_wrist_' + i for i in axes] + \\\n",
    "        ['right_hand_' + i for i in axes] + \\\n",
    "        ['left_hip_' + i for i in axes] + \\\n",
    "        ['left_knee_' + i for i in axes] + \\\n",
    "        ['left_ankle_' + i for i in axes] + \\\n",
    "        ['left_foot_' + i for i in axes] + \\\n",
    "        ['right_hip_' + i for i in axes] + \\\n",
    "        ['right_knee_' + i for i in axes] + \\\n",
    "        ['right_ankle_' + i for i in axes] + \\\n",
    "        ['right_foot_' + i for i in axes]\n",
    "    \n",
    "    return columns"
   ]
  },
  {
   "cell_type": "code",
   "execution_count": 0,
   "metadata": {
    "colab": {},
    "colab_type": "code",
    "id": "O2gLxiWHRt3i"
   },
   "outputs": [],
   "source": [
    "data_columns = data_columns()"
   ]
  },
  {
   "cell_type": "code",
   "execution_count": 0,
   "metadata": {
    "colab": {},
    "colab_type": "code",
    "id": "oU6WfZN2RxvJ"
   },
   "outputs": [],
   "source": [
    "#https://github.com/woo-chia-wei/kinect-sequence-classification\n",
    "def import_skeleton_data(action, subject, trial):\n",
    "    filename = f'Skeleton/a{action}_s{subject}_t{trial}_skeleton.mat'\n",
    "    #print(Path(filename).is_file())\n",
    "    #if Path(filename).is_file():\n",
    "    mat = scipy.io.loadmat(filename)\n",
    "    return mat['d_skel']\n",
    "  #  else:\n",
    "  #      return None\n",
    "\n",
    "def transform_skeleton_data(action, subject, trial):\n",
    "    matrices = []\n",
    "    data = import_skeleton_data(action, subject, trial)\n",
    "    #print(data.shape)\n",
    "    if data is None: return None\n",
    "    #print(data[:,0,0])\n",
    "    for frame in range(data.shape[2]):\n",
    "        skelecton_joints = [i + 1 for i in range(20)]\n",
    "        matrix = data[:,:,frame]\n",
    "        matrix = np.insert(matrix, 0, skelecton_joints, axis=1)\n",
    "        matrix = np.insert(matrix, 0, frame, axis=1)\n",
    "        matrices.append(matrix)\n",
    "    result = np.vstack(tuple(matrices))\n",
    "    result = np.insert(result, 0, [[action], [subject], [trial]], axis=1)\n",
    "    #print(result)\n",
    "    return result\n",
    "\n",
    "def transform_skeleton_data_to_df(action, subject, trial):\n",
    "    data = transform_skeleton_data(action, subject, trial)\n",
    "    #print(data.shape)\n",
    "    if data is None: return None\n",
    "    df = pd.DataFrame(data)\n",
    "    df.columns = ['action', 'subject', 'trial', 'frame', 'skeleton_joint', 'x', 'y', 'z']\n",
    "    return df\n",
    "\n"
   ]
  },
  {
   "cell_type": "code",
   "execution_count": 0,
   "metadata": {
    "colab": {
     "base_uri": "https://localhost:8080/",
     "height": 669
    },
    "colab_type": "code",
    "id": "r64qj7ukHOru",
    "outputId": "85628f91-8f71-42bb-92fb-dcd33e3a8afc"
   },
   "outputs": [
    {
     "data": {
      "text/html": [
       "<div>\n",
       "<style scoped>\n",
       "    .dataframe tbody tr th:only-of-type {\n",
       "        vertical-align: middle;\n",
       "    }\n",
       "\n",
       "    .dataframe tbody tr th {\n",
       "        vertical-align: top;\n",
       "    }\n",
       "\n",
       "    .dataframe thead th {\n",
       "        text-align: right;\n",
       "    }\n",
       "</style>\n",
       "<table border=\"1\" class=\"dataframe\">\n",
       "  <thead>\n",
       "    <tr style=\"text-align: right;\">\n",
       "      <th></th>\n",
       "      <th>action</th>\n",
       "      <th>subject</th>\n",
       "      <th>trial</th>\n",
       "      <th>frame</th>\n",
       "      <th>skeleton_joint</th>\n",
       "      <th>x</th>\n",
       "      <th>y</th>\n",
       "      <th>z</th>\n",
       "    </tr>\n",
       "  </thead>\n",
       "  <tbody>\n",
       "    <tr>\n",
       "      <th>40</th>\n",
       "      <td>2.0</td>\n",
       "      <td>2.0</td>\n",
       "      <td>2.0</td>\n",
       "      <td>2.0</td>\n",
       "      <td>1.0</td>\n",
       "      <td>-0.083645</td>\n",
       "      <td>0.377327</td>\n",
       "      <td>2.909049</td>\n",
       "    </tr>\n",
       "    <tr>\n",
       "      <th>41</th>\n",
       "      <td>2.0</td>\n",
       "      <td>2.0</td>\n",
       "      <td>2.0</td>\n",
       "      <td>2.0</td>\n",
       "      <td>2.0</td>\n",
       "      <td>-0.070505</td>\n",
       "      <td>0.192519</td>\n",
       "      <td>2.911217</td>\n",
       "    </tr>\n",
       "    <tr>\n",
       "      <th>42</th>\n",
       "      <td>2.0</td>\n",
       "      <td>2.0</td>\n",
       "      <td>2.0</td>\n",
       "      <td>2.0</td>\n",
       "      <td>3.0</td>\n",
       "      <td>-0.059986</td>\n",
       "      <td>-0.158131</td>\n",
       "      <td>2.917824</td>\n",
       "    </tr>\n",
       "    <tr>\n",
       "      <th>43</th>\n",
       "      <td>2.0</td>\n",
       "      <td>2.0</td>\n",
       "      <td>2.0</td>\n",
       "      <td>2.0</td>\n",
       "      <td>4.0</td>\n",
       "      <td>-0.057779</td>\n",
       "      <td>-0.220212</td>\n",
       "      <td>2.865713</td>\n",
       "    </tr>\n",
       "    <tr>\n",
       "      <th>44</th>\n",
       "      <td>2.0</td>\n",
       "      <td>2.0</td>\n",
       "      <td>2.0</td>\n",
       "      <td>2.0</td>\n",
       "      <td>5.0</td>\n",
       "      <td>-0.222236</td>\n",
       "      <td>0.064644</td>\n",
       "      <td>2.884611</td>\n",
       "    </tr>\n",
       "    <tr>\n",
       "      <th>45</th>\n",
       "      <td>2.0</td>\n",
       "      <td>2.0</td>\n",
       "      <td>2.0</td>\n",
       "      <td>2.0</td>\n",
       "      <td>6.0</td>\n",
       "      <td>-0.251486</td>\n",
       "      <td>-0.186466</td>\n",
       "      <td>2.865487</td>\n",
       "    </tr>\n",
       "    <tr>\n",
       "      <th>46</th>\n",
       "      <td>2.0</td>\n",
       "      <td>2.0</td>\n",
       "      <td>2.0</td>\n",
       "      <td>2.0</td>\n",
       "      <td>7.0</td>\n",
       "      <td>-0.252041</td>\n",
       "      <td>-0.402006</td>\n",
       "      <td>2.831291</td>\n",
       "    </tr>\n",
       "    <tr>\n",
       "      <th>47</th>\n",
       "      <td>2.0</td>\n",
       "      <td>2.0</td>\n",
       "      <td>2.0</td>\n",
       "      <td>2.0</td>\n",
       "      <td>8.0</td>\n",
       "      <td>-0.249970</td>\n",
       "      <td>-0.455791</td>\n",
       "      <td>2.825836</td>\n",
       "    </tr>\n",
       "    <tr>\n",
       "      <th>48</th>\n",
       "      <td>2.0</td>\n",
       "      <td>2.0</td>\n",
       "      <td>2.0</td>\n",
       "      <td>2.0</td>\n",
       "      <td>9.0</td>\n",
       "      <td>0.085632</td>\n",
       "      <td>0.078919</td>\n",
       "      <td>2.885059</td>\n",
       "    </tr>\n",
       "    <tr>\n",
       "      <th>49</th>\n",
       "      <td>2.0</td>\n",
       "      <td>2.0</td>\n",
       "      <td>2.0</td>\n",
       "      <td>2.0</td>\n",
       "      <td>10.0</td>\n",
       "      <td>0.146211</td>\n",
       "      <td>-0.184310</td>\n",
       "      <td>2.902335</td>\n",
       "    </tr>\n",
       "    <tr>\n",
       "      <th>50</th>\n",
       "      <td>2.0</td>\n",
       "      <td>2.0</td>\n",
       "      <td>2.0</td>\n",
       "      <td>2.0</td>\n",
       "      <td>11.0</td>\n",
       "      <td>0.165555</td>\n",
       "      <td>-0.393081</td>\n",
       "      <td>2.839862</td>\n",
       "    </tr>\n",
       "    <tr>\n",
       "      <th>51</th>\n",
       "      <td>2.0</td>\n",
       "      <td>2.0</td>\n",
       "      <td>2.0</td>\n",
       "      <td>2.0</td>\n",
       "      <td>12.0</td>\n",
       "      <td>0.220017</td>\n",
       "      <td>-0.438139</td>\n",
       "      <td>2.849137</td>\n",
       "    </tr>\n",
       "    <tr>\n",
       "      <th>52</th>\n",
       "      <td>2.0</td>\n",
       "      <td>2.0</td>\n",
       "      <td>2.0</td>\n",
       "      <td>2.0</td>\n",
       "      <td>13.0</td>\n",
       "      <td>-0.125541</td>\n",
       "      <td>-0.292179</td>\n",
       "      <td>2.855905</td>\n",
       "    </tr>\n",
       "    <tr>\n",
       "      <th>53</th>\n",
       "      <td>2.0</td>\n",
       "      <td>2.0</td>\n",
       "      <td>2.0</td>\n",
       "      <td>2.0</td>\n",
       "      <td>14.0</td>\n",
       "      <td>-0.126800</td>\n",
       "      <td>-0.680297</td>\n",
       "      <td>2.946615</td>\n",
       "    </tr>\n",
       "    <tr>\n",
       "      <th>54</th>\n",
       "      <td>2.0</td>\n",
       "      <td>2.0</td>\n",
       "      <td>2.0</td>\n",
       "      <td>2.0</td>\n",
       "      <td>15.0</td>\n",
       "      <td>-0.099327</td>\n",
       "      <td>-1.007302</td>\n",
       "      <td>2.953895</td>\n",
       "    </tr>\n",
       "    <tr>\n",
       "      <th>55</th>\n",
       "      <td>2.0</td>\n",
       "      <td>2.0</td>\n",
       "      <td>2.0</td>\n",
       "      <td>2.0</td>\n",
       "      <td>16.0</td>\n",
       "      <td>-0.120741</td>\n",
       "      <td>-1.065237</td>\n",
       "      <td>2.918145</td>\n",
       "    </tr>\n",
       "    <tr>\n",
       "      <th>56</th>\n",
       "      <td>2.0</td>\n",
       "      <td>2.0</td>\n",
       "      <td>2.0</td>\n",
       "      <td>2.0</td>\n",
       "      <td>17.0</td>\n",
       "      <td>0.014013</td>\n",
       "      <td>-0.284978</td>\n",
       "      <td>2.856385</td>\n",
       "    </tr>\n",
       "    <tr>\n",
       "      <th>57</th>\n",
       "      <td>2.0</td>\n",
       "      <td>2.0</td>\n",
       "      <td>2.0</td>\n",
       "      <td>2.0</td>\n",
       "      <td>18.0</td>\n",
       "      <td>0.008270</td>\n",
       "      <td>-0.675342</td>\n",
       "      <td>2.929238</td>\n",
       "    </tr>\n",
       "    <tr>\n",
       "      <th>58</th>\n",
       "      <td>2.0</td>\n",
       "      <td>2.0</td>\n",
       "      <td>2.0</td>\n",
       "      <td>2.0</td>\n",
       "      <td>19.0</td>\n",
       "      <td>-0.023547</td>\n",
       "      <td>-1.002017</td>\n",
       "      <td>2.947801</td>\n",
       "    </tr>\n",
       "    <tr>\n",
       "      <th>59</th>\n",
       "      <td>2.0</td>\n",
       "      <td>2.0</td>\n",
       "      <td>2.0</td>\n",
       "      <td>2.0</td>\n",
       "      <td>20.0</td>\n",
       "      <td>0.002733</td>\n",
       "      <td>-1.056900</td>\n",
       "      <td>2.908042</td>\n",
       "    </tr>\n",
       "  </tbody>\n",
       "</table>\n",
       "</div>"
      ],
      "text/plain": [
       "    action  subject  trial  frame  skeleton_joint         x         y         z\n",
       "40     2.0      2.0    2.0    2.0             1.0 -0.083645  0.377327  2.909049\n",
       "41     2.0      2.0    2.0    2.0             2.0 -0.070505  0.192519  2.911217\n",
       "42     2.0      2.0    2.0    2.0             3.0 -0.059986 -0.158131  2.917824\n",
       "43     2.0      2.0    2.0    2.0             4.0 -0.057779 -0.220212  2.865713\n",
       "44     2.0      2.0    2.0    2.0             5.0 -0.222236  0.064644  2.884611\n",
       "45     2.0      2.0    2.0    2.0             6.0 -0.251486 -0.186466  2.865487\n",
       "46     2.0      2.0    2.0    2.0             7.0 -0.252041 -0.402006  2.831291\n",
       "47     2.0      2.0    2.0    2.0             8.0 -0.249970 -0.455791  2.825836\n",
       "48     2.0      2.0    2.0    2.0             9.0  0.085632  0.078919  2.885059\n",
       "49     2.0      2.0    2.0    2.0            10.0  0.146211 -0.184310  2.902335\n",
       "50     2.0      2.0    2.0    2.0            11.0  0.165555 -0.393081  2.839862\n",
       "51     2.0      2.0    2.0    2.0            12.0  0.220017 -0.438139  2.849137\n",
       "52     2.0      2.0    2.0    2.0            13.0 -0.125541 -0.292179  2.855905\n",
       "53     2.0      2.0    2.0    2.0            14.0 -0.126800 -0.680297  2.946615\n",
       "54     2.0      2.0    2.0    2.0            15.0 -0.099327 -1.007302  2.953895\n",
       "55     2.0      2.0    2.0    2.0            16.0 -0.120741 -1.065237  2.918145\n",
       "56     2.0      2.0    2.0    2.0            17.0  0.014013 -0.284978  2.856385\n",
       "57     2.0      2.0    2.0    2.0            18.0  0.008270 -0.675342  2.929238\n",
       "58     2.0      2.0    2.0    2.0            19.0 -0.023547 -1.002017  2.947801\n",
       "59     2.0      2.0    2.0    2.0            20.0  0.002733 -1.056900  2.908042"
      ]
     },
     "execution_count": 12,
     "metadata": {
      "tags": []
     },
     "output_type": "execute_result"
    }
   ],
   "source": [
    "df = transform_skeleton_data_to_df(2,2,2)\n",
    "df[df.frame==2.]"
   ]
  },
  {
   "cell_type": "code",
   "execution_count": 0,
   "metadata": {
    "colab": {},
    "colab_type": "code",
    "id": "ZtCD1bc4R0Mn"
   },
   "outputs": [],
   "source": [
    "def change_data(frame):\n",
    "    keys = np.array(frame['skeleton_joint'])\n",
    "    joint = 1\n",
    "    for i in range(len(data_columns)):\n",
    "       \n",
    "        if i % 3 == 0:\n",
    "            assert(data_columns[i][-1] == 'x')\n",
    "\n",
    "            frame[data_columns[i]] = np.array(frame.x)* np.where(keys ==joint, keys, 0)\n",
    "\n",
    "        elif (i-1) % 3 == 0:\n",
    "            assert(data_columns[i][-1] == 'y')\n",
    "            frame[data_columns[i]] = np.array(frame.y)* np.where(keys ==joint, keys, 0)\n",
    "\n",
    "        else:\n",
    "            assert(data_columns[i][-1] == 'z')\n",
    "            frame[data_columns[i]] = np.array(frame.z)* np.where(keys ==joint, keys, 0)\n",
    "            joint += 1\n",
    "    frame = frame.drop(['subject', 'trial', 'frame', 'skeleton_joint', 'x', 'y', 'z'], axis=1)\n",
    "    return frame"
   ]
  },
  {
   "cell_type": "code",
   "execution_count": 0,
   "metadata": {
    "colab": {},
    "colab_type": "code",
    "id": "q2eWxGS3R3F9"
   },
   "outputs": [],
   "source": [
    "input_channels = 60"
   ]
  },
  {
   "cell_type": "code",
   "execution_count": 0,
   "metadata": {
    "colab": {},
    "colab_type": "code",
    "id": "NxUT0V_BR6EJ"
   },
   "outputs": [],
   "source": [
    "subjects = []\n",
    "for a in range(1,28):\n",
    "    for s in range(1,9):\n",
    "        for t in range(1,5):\n",
    "            try:\n",
    "                df = transform_skeleton_data_to_df(a, s, t)\n",
    "                #print(len(df))\n",
    "                df = change_data(df)\n",
    "                subjects.append(df)\n",
    "            except FileNotFoundError:\n",
    "                pass"
   ]
  },
  {
   "cell_type": "code",
   "execution_count": 0,
   "metadata": {
    "colab": {},
    "colab_type": "code",
    "id": "egQC7GTfR8ai"
   },
   "outputs": [],
   "source": [
    "new_subjects = []\n",
    "for df in subjects:\n",
    "    assert(len(df.action.unique()) == 1)\n",
    "    \n",
    "    \n",
    "    new = pd.DataFrame(columns = list(df))\n",
    "    \n",
    "    for col in list(df):\n",
    "        if col != 'action':\n",
    "            dat = np.array(df[col])\n",
    "            dat = dat[dat != 0.]\n",
    "            new[col] = dat\n",
    "    new['action'] = df.action.unique()[0]\n",
    "    new_subjects.append(new)"
   ]
  },
  {
   "cell_type": "code",
   "execution_count": 0,
   "metadata": {
    "colab": {},
    "colab_type": "code",
    "id": "MqMbmKEaTF5v"
   },
   "outputs": [],
   "source": [
    "import torch.utils.data\n",
    "from sklearn.model_selection import train_test_split\n",
    "import torch\n",
    "\n",
    "class SkelDataset(torch.utils.data.Dataset):\n",
    "  \n",
    "    def __init__(self, subjects, fold='train'):\n",
    "        self.fold = fold\n",
    "        X = []\n",
    "        Y = []\n",
    "        for df in subjects:\n",
    "           \n",
    "            for i in range(1,28):\n",
    "                if df.action[0] == i:\n",
    "                    label = i - 1\n",
    "                    \n",
    "                #else:\n",
    "                #    df[str(i)] = 0.\n",
    "            df = df.drop(['action'], axis=1)\n",
    "            #print(df.shape)\n",
    "            if len(df) < 125:\n",
    "                h = 125 - len(df)\n",
    "                zeros = pd.DataFrame(np.zeros((h,60)), columns = list(df))\n",
    "                df = df.append(zeros, ignore_index=True)\n",
    "            \n",
    "            \n",
    "            #labels = df[[str(i) for i in range(1,28)]]\n",
    "            #labels = labels.to_numpy()\n",
    "            #print(labels.shape)\n",
    "            Y.append(label)\n",
    "            #df = df.drop([str(i) for i in range(1,28)], axis=1)\n",
    "            df = df.to_numpy()\n",
    "            X.append(df)\n",
    "\n",
    "        X_train, X_, y_train, y_ = train_test_split(X, Y, train_size=0.7, random_state=42)\n",
    "        X_val, X_test, y_val, y_test = train_test_split(X_, y_, train_size=0.6, random_state=42)\n",
    "        self.train_data = torch.FloatTensor(X_train)\n",
    "        self.train_labels = torch.LongTensor(y_train)\n",
    "        \n",
    "        self.val_data = torch.FloatTensor(X_val)\n",
    "        self.val_labels = torch.LongTensor(y_val)\n",
    "        self.test_data = torch.FloatTensor(X_test)\n",
    "        self.test_labels = torch.LongTensor(y_test)\n",
    "      \n",
    "    def __len__(self):\n",
    "        if self.fold == 'train':\n",
    "            return len(self.train_data)\n",
    "        elif self.fold == 'val':\n",
    "            return len(self.val_data)\n",
    "        elif self.fold == 'test':\n",
    "            return len(self.test_data)\n",
    "     \n",
    "            \n",
    "  \n",
    "\n",
    "    def __getitem__(self, index):\n",
    "      \n",
    "        if self.fold == 'train':\n",
    "            data = self.train_data[index]\n",
    "            label =  self.train_labels[index]\n",
    "        elif self.fold == 'val':\n",
    "            data = self.val_data[index]\n",
    "            label =  self.val_labels[index]\n",
    "        elif self.fold == 'test':\n",
    "            data = self.test_data[index]\n",
    "            label =  self.test_labels[index]\n",
    "        return data,label"
   ]
  },
  {
   "cell_type": "code",
   "execution_count": 0,
   "metadata": {
    "colab": {},
    "colab_type": "code",
    "id": "levTb16DTZhG"
   },
   "outputs": [],
   "source": [
    "\n",
    "train_dataset = SkelDataset(new_subjects,fold='train')"
   ]
  },
  {
   "cell_type": "code",
   "execution_count": 0,
   "metadata": {
    "colab": {},
    "colab_type": "code",
    "id": "_iCxOONDTcEd"
   },
   "outputs": [],
   "source": [
    "\n",
    "val_dataset = SkelDataset(new_subjects,fold='val')\n",
    "test_dataset = SkelDataset(new_subjects,fold='test')"
   ]
  },
  {
   "cell_type": "code",
   "execution_count": 0,
   "metadata": {
    "colab": {},
    "colab_type": "code",
    "id": "qxNxMJ9rTfoK"
   },
   "outputs": [],
   "source": [
    "class Conv1DNet(nn.Module):\n",
    "    \n",
    "    def __init__(self):\n",
    "        super(self.__class__, self).__init__()\n",
    "        self.input_bn = nn.BatchNorm1d(input_channels)\n",
    "        self.conv11 = nn.Conv1d(in_channels=input_channels, out_channels=64, kernel_size=3, padding=1)\n",
    "        self.pool11 = nn.MaxPool1d(kernel_size=2)\n",
    "        self.conv21 = nn.Conv1d(in_channels=64, out_channels=128, kernel_size=3, padding=1)\n",
    "        self.pool21 = nn.MaxPool1d(kernel_size=2)\n",
    "        self.conv31 = nn.Conv1d(in_channels=128, out_channels=256, kernel_size=3, padding=1)\n",
    "        self.pool31 = nn.MaxPool1d(kernel_size=2)\n",
    "        #self.gpool = GlobalMaxPooling()\n",
    "        self.fc1 = nn.Linear(256*(win_size//(2**3)),512)\n",
    "        self.fc2 = nn.Linear(512,512)\n",
    "        self.logit = nn.Linear(512,num_classes)\n",
    "        \n",
    "        self.features = nn.Sequential(\n",
    "             self.input_bn,\n",
    "             self.conv11,self.pool11,\n",
    "             nn.ReLU(),                            \n",
    "             self.conv21,self.pool21,\n",
    "             nn.ReLU(),\n",
    "             self.conv31,self.pool31,\n",
    "             nn.ReLU(),\n",
    "             Flatten(),\n",
    "        )\n",
    "        \n",
    "        self.classifier = nn.Sequential(\n",
    "             self.fc1,\n",
    "             nn.ReLU(),\n",
    "             self.fc2,\n",
    "             nn.ReLU(),\n",
    "             self.logit,\n",
    "        )\n",
    "        \n",
    "    def forward(self,input):\n",
    "        features = self.features(input)\n",
    "        return self.classifier(features)\n"
   ]
  },
  {
   "cell_type": "code",
   "execution_count": 0,
   "metadata": {
    "colab": {},
    "colab_type": "code",
    "id": "EpUmb1MHTlMs"
   },
   "outputs": [],
   "source": [
    "class MultiSincNet(nn.Module):\n",
    "    \n",
    "    def __init__(self,\n",
    "                 N_filt = 12,  \n",
    "                 Filt_dim = 5, \n",
    "                 fs = 100,\n",
    "                 device = \"cuda\"):\n",
    "        super(self.__class__, self).__init__()\n",
    "        self.input_bn = nn.BatchNorm1d(input_channels)\n",
    "        self.fs = fs\n",
    "        self.device = device\n",
    "        self.sincconv = multichannel_sinc_conv(Filt_dim=Filt_dim,\n",
    "                                  N_channels=input_channels,\n",
    "                                  N_filt=N_filt,\n",
    "                                  fs=fs,\n",
    "                                  device = device, cutfreq_type = 'random')\n",
    "        self.layer_norm = LayerNorm(win_size-Filt_dim+1)\n",
    "        self.conv11 = nn.Conv1d(in_channels=720, out_channels=64, kernel_size=3, padding=1)\n",
    "        self.pool11 = nn.MaxPool1d(kernel_size=2)\n",
    "        self.conv21 = nn.Conv1d(in_channels=64, out_channels=128, kernel_size=3, padding=1)\n",
    "        self.pool21 = nn.MaxPool1d(kernel_size=2)\n",
    "        self.conv31 = nn.Conv1d(in_channels=128, out_channels=256, kernel_size=3, padding=1)\n",
    "        self.pool31 = nn.MaxPool1d(kernel_size=2)\n",
    "        #self.gpool = GlobalMaxPooling()\n",
    "        self.fc1 = nn.Linear(3840,512)\n",
    "        self.fc2 = nn.Linear(512,512)\n",
    "        self.logit = nn.Linear(512,num_classes)\n",
    "        \n",
    "        self.features = nn.Sequential(\n",
    "             self.input_bn,\n",
    "             self.sincconv,\n",
    "             #self.layer_norm,\n",
    "             self.conv11,\n",
    "             nn.LeakyReLU(),\n",
    "             self.pool11,\n",
    "             nn.LeakyReLU(),                            \n",
    "             self.conv21,self.pool21,\n",
    "             nn.LeakyReLU(),\n",
    "             self.conv31,self.pool31,\n",
    "             nn.LeakyReLU(),\n",
    "             Flatten(),\n",
    "        )\n",
    "        \n",
    "        self.classifier = nn.Sequential(\n",
    "             self.fc1,\n",
    "             nn.LeakyReLU(),\n",
    "             self.fc2,\n",
    "             nn.LeakyReLU(),\n",
    "             self.logit,\n",
    "        )\n",
    "        \n",
    "    def forward(self,input):\n",
    "        features = self.features(input)\n",
    "        return self.classifier(features)"
   ]
  },
  {
   "cell_type": "code",
   "execution_count": 0,
   "metadata": {
    "colab": {},
    "colab_type": "code",
    "id": "FJ0wvvEKToGV"
   },
   "outputs": [],
   "source": [
    "class Conv1DLstmNet(nn.Module):\n",
    "    \n",
    "    def __init__(self):\n",
    "        super(self.__class__, self).__init__()\n",
    "        self.input_bn = nn.BatchNorm1d(input_channels)\n",
    "        self.conv11 = nn.Conv1d(in_channels=input_channels, out_channels=64, kernel_size=3, padding=1)\n",
    "        self.pool11 = nn.MaxPool1d(kernel_size=2)\n",
    "        self.conv21 = nn.Conv1d(in_channels=64, out_channels=128, kernel_size=3, padding=1)\n",
    "        self.pool21 = nn.MaxPool1d(kernel_size=2)\n",
    "        self.conv31 = nn.Conv1d(in_channels=128, out_channels=256, kernel_size=3, padding=1)\n",
    "        self.pool31 = nn.MaxPool1d(kernel_size=2)\n",
    "        self.lstm1 = nn.LSTM(input_size=256,hidden_size=512,batch_first=True)\n",
    "        #self.fc1 = nn.Linear(2*win_size*(win_size//(2**3)),512)\n",
    "        self.fc1 = nn.Linear(7680,512)\n",
    "        self.fc2 = nn.Linear(512,512)\n",
    "        self.logit = nn.Linear(512,num_classes)\n",
    "        \n",
    "        self.features = nn.Sequential(\n",
    "             self.input_bn,\n",
    "             self.conv11,self.pool11,\n",
    "             nn.ReLU(),                            \n",
    "             self.conv21,self.pool21,\n",
    "             nn.ReLU(),\n",
    "             self.conv31,self.pool31,\n",
    "             nn.ReLU(),\n",
    "        )\n",
    "        \n",
    "\n",
    "        \n",
    "        self.classifier = nn.Sequential(\n",
    "             self.fc1,\n",
    "             nn.ReLU(),\n",
    "             self.fc2,\n",
    "             nn.ReLU(),\n",
    "             self.logit,\n",
    "        )\n",
    "        \n",
    "    def forward(self,input):\n",
    "        features = self.features(input).transpose(1, 2)\n",
    "        features, (hn,cn) = self.lstm1(features)\n",
    "        features = Flatten()(features.transpose(1, 2).contiguous())\n",
    "        return self.classifier(features)"
   ]
  },
  {
   "cell_type": "code",
   "execution_count": 0,
   "metadata": {
    "colab": {},
    "colab_type": "code",
    "id": "Vp7m840cTrMX"
   },
   "outputs": [],
   "source": [
    "class MultiSincLstmNet(nn.Module):\n",
    "    \n",
    "    def __init__(self,\n",
    "                 N_filt = 12,  \n",
    "                 Filt_dim = 5, \n",
    "                 fs = 100,\n",
    "                 device = \"cuda\"):\n",
    "        super(self.__class__, self).__init__()\n",
    "        self.input_bn = nn.BatchNorm1d(input_channels)\n",
    "        self.fs = fs\n",
    "        self.device = device\n",
    "        self.sincconv = multichannel_sinc_conv(Filt_dim=Filt_dim,\n",
    "                                  N_channels=input_channels,\n",
    "                                  N_filt=N_filt,\n",
    "                                  fs=fs,\n",
    "                                  device = device, cutfreq_type = 'random')\n",
    "        self.layer_norm = LayerNorm(win_size-Filt_dim+1)\n",
    "        self.conv11 = nn.Conv1d(in_channels=720, out_channels=64, kernel_size=3, padding=1)\n",
    "        self.pool11 = nn.MaxPool1d(kernel_size=2)\n",
    "        self.conv21 = nn.Conv1d(in_channels=64, out_channels=128, kernel_size=3, padding=1)\n",
    "        self.pool21 = nn.MaxPool1d(kernel_size=2)\n",
    "        self.conv31 = nn.Conv1d(in_channels=128, out_channels=256, kernel_size=3, padding=1)\n",
    "        self.pool31 = nn.MaxPool1d(kernel_size=2)\n",
    "        self.lstm1 = nn.LSTM(input_size=256,hidden_size=512,batch_first=True)\n",
    "        self.fc1 = nn.Linear(7680,512)\n",
    "        self.fc2 = nn.Linear(512,512)\n",
    "        self.logit = nn.Linear(512,num_classes)\n",
    "        \n",
    "        self.features = nn.Sequential(\n",
    "             self.input_bn,\n",
    "             self.sincconv,\n",
    "             #self.layer_norm,\n",
    "             self.conv11,\n",
    "             nn.LeakyReLU(),\n",
    "             self.pool11,\n",
    "             nn.LeakyReLU(),                            \n",
    "             self.conv21,self.pool21,\n",
    "             nn.LeakyReLU(),\n",
    "             self.conv31,self.pool31,\n",
    "             nn.LeakyReLU(),\n",
    "        )\n",
    "        \n",
    "        self.classifier = nn.Sequential(\n",
    "             self.fc1,\n",
    "             nn.LeakyReLU(),\n",
    "             self.fc2,\n",
    "             nn.LeakyReLU(),\n",
    "             self.logit,\n",
    "        )\n",
    "        \n",
    "\n",
    "                \n",
    "    def forward(self,input):\n",
    "        features = self.features(input).transpose(1, 2)\n",
    "        features, (hn,cn) = self.lstm1(features)\n",
    "        features = Flatten()(features.transpose(1, 2).contiguous())\n",
    "        return self.classifier(features)"
   ]
  },
  {
   "cell_type": "code",
   "execution_count": 0,
   "metadata": {
    "colab": {},
    "colab_type": "code",
    "id": "XZM-jqST6jsD"
   },
   "outputs": [],
   "source": [
    "def roll2(x, n):  \n",
    "    return torch.cat((x[:, :, -n:], x[:, :, :-n]), dim=2)"
   ]
  },
  {
   "cell_type": "code",
   "execution_count": 0,
   "metadata": {
    "colab": {},
    "colab_type": "code",
    "id": "o3Bd_zY46pwf"
   },
   "outputs": [],
   "source": [
    "class get_features_isotropy(nn.Module):\n",
    "\n",
    "    def __init__(self, hidden_ch=32, krnl=32):\n",
    "        super(get_features_isotropy,self).__init__()\n",
    "        self.hidden_ch = hidden_ch\n",
    "        self.conv1 = nn.Conv1d(12, hidden_ch, krnl)\n",
    "        self.fc1 = nn.Conv1d(hidden_ch, 1, 1)\n",
    "        self.fc2 = nn.Conv1d(hidden_ch, 1, 1)\n",
    "        self.conv2 = nn.Conv1d(15, hidden_ch, krnl)\n",
    "        self.krnl = krnl\n",
    "\n",
    "    def forward(self, x):\n",
    "        #print(x.shape)\n",
    "        h = x.clone().reshape(-1, 60, win_size).transpose(1, 2).reshape(-1, win_size, 5, 4, 3) # we will leave only the acceleration rows unchanged\n",
    "        h1 = h.clone()\n",
    "        for body_part in range(3):\n",
    "            for orientation in range(3):\n",
    "                h1[:, :, body_part, 1, orientation] = self.fc1(F.leaky_relu(self.conv1(F.pad(roll2(h[:, :, body_part], orientation).reshape(-1, win_size, 12), (0, 0, self.krnl-1, 0)).transpose(1, 2)))).reshape(-1, win_size)\n",
    "        h = torch.cat((h, h1[:, :, :, 1:2, :]), dim=3)\n",
    "        for body_part in range(3):\n",
    "            for orientation in range(3):\n",
    "                h1[:, :, body_part, 2, orientation] = self.fc2(F.leaky_relu(self.conv2(F.pad(roll2(h[:, :, body_part], orientation).reshape(-1, win_size, 15), (0, 0, self.krnl-1, 0)).transpose(1, 2)))).reshape(-1, win_size)\n",
    "        #return h1.reshape(-1, win_size, 27).transpose(1, 2).contiguous()\n",
    "        return h1.reshape(-1, win_size*60)"
   ]
  },
  {
   "cell_type": "code",
   "execution_count": 0,
   "metadata": {
    "colab": {},
    "colab_type": "code",
    "id": "awrR7MJn6tWw"
   },
   "outputs": [],
   "source": [
    "\n",
    "class IsotropyNet(nn.Module):\n",
    "    \n",
    "    def __init__(self, krnl=32,\n",
    "                 device = \"cuda\"):\n",
    "        super(self.__class__, self).__init__()\n",
    "        self.input_bn = nn.BatchNorm1d(input_channels)\n",
    "        self.device = device\n",
    "        #self.lin = nn.Linear(60, 27)\n",
    "        self.isotropic_features = get_features_isotropy(krnl=krnl)\n",
    "        self.fc1 = nn.Linear(7500, 512)\n",
    "        self.fc2 = nn.Linear(512, 64)\n",
    "        #self.lstm1 = nn.LSTM(input_size=win_size,hidden_size=512,batch_first=True)\n",
    "        self.logit = nn.Linear(64,num_classes)\n",
    "        \n",
    "        self.classifier = nn.Sequential(\n",
    "             self.input_bn,\n",
    "             self.isotropic_features,\n",
    "             #Flatten(),\n",
    "             self.fc1,\n",
    "             nn.LeakyReLU(),\n",
    "             self.fc2,\n",
    "             nn.LeakyReLU(),\n",
    "             self.logit,\n",
    "        )\n",
    "        \n",
    "\n",
    "                \n",
    "    def forward(self,input):\n",
    "        #features = self.features(input).transpose(1, 2)\n",
    "        #features, (hn,cn) = self.lstm1(features)\n",
    "        #features = Flatten()(features.transpose(1, 2).contiguous())\n",
    "        #input = torch.transpose(input, 1, 2)\n",
    "        #input = self.lin(input)\n",
    "        #input = torch.transpose(input, 1, 2)\n",
    "        return self.classifier(input)"
   ]
  },
  {
   "cell_type": "code",
   "execution_count": 0,
   "metadata": {
    "colab": {},
    "colab_type": "code",
    "id": "C6ORLZDr6x2A"
   },
   "outputs": [],
   "source": [
    "class IsotropyMultiSincLstmNet(nn.Module):\n",
    "    def __init__(self,\n",
    "                 N_filt = 12,  \n",
    "                 Filt_dim = 5, \n",
    "                 fs = 100,\n",
    "                 device = \"cuda\"):\n",
    "        super(self.__class__, self).__init__()\n",
    "        self.isotropy = get_features_isotropy()\n",
    "        self.net = MultiSincLstmNet(N_filt = N_filt, Filt_dim = Filt_dim, fs = fs, device = device)\n",
    "    def forward(self,input):\n",
    "        print(self.isotropy(input.transpose(1, 2)).shape)\n",
    "        return self.net(self.isotropy(input))"
   ]
  },
  {
   "cell_type": "code",
   "execution_count": 0,
   "metadata": {
    "colab": {},
    "colab_type": "code",
    "id": "ho-pa48a61RI"
   },
   "outputs": [],
   "source": [
    "class IsotropyConv1DNet(nn.Module):\n",
    "    def __init__(self):\n",
    "        super(self.__class__, self).__init__()\n",
    "        self.isotropy = get_features_isotropy()\n",
    "        self.net = Conv1DNet()\n",
    "    def forward(self,input):\n",
    "        return self.net(self.isotropy(input.transpose(1, 2)).transpose(1, 2))"
   ]
  },
  {
   "cell_type": "code",
   "execution_count": 0,
   "metadata": {
    "colab": {},
    "colab_type": "code",
    "id": "wy36rGsXT-IX"
   },
   "outputs": [],
   "source": [
    "num_epochs = 50\n",
    "verbose = 5\n",
    "batch_size = 1024\n",
    "device = \"cuda\""
   ]
  },
  {
   "cell_type": "code",
   "execution_count": 0,
   "metadata": {
    "colab": {},
    "colab_type": "code",
    "id": "-Ua_c19eUA2u"
   },
   "outputs": [],
   "source": [
    "def compute_loss(reference, prediction):\n",
    "    \"\"\"\n",
    "    \n",
    "    \"\"\"\n",
    "    reference = reference.to(device)\n",
    "    #reference = torch.argmax(reference,dim=-1).to(torch.long)\n",
    "    prediction = prediction.log_softmax(dim=-1)\n",
    "    loss = nn.NLLLoss()(prediction,reference)\n",
    "    return loss\n",
    "  \n",
    "def compute_acc(reference, prediction):\n",
    "    \"\"\"\n",
    "    \n",
    "    \"\"\"\n",
    "    reference = reference.to(device)\n",
    "    prediction = torch.argmax(prediction.log_softmax(dim=-1),dim=-1)\n",
    "   # reference = torch.argmax(reference,dim=-1)\n",
    "    return (reference == prediction).to(torch.float32).mean()"
   ]
  },
  {
   "cell_type": "code",
   "execution_count": 0,
   "metadata": {
    "colab": {},
    "colab_type": "code",
    "id": "NH-hZmPFUFgp"
   },
   "outputs": [],
   "source": [
    "train_loader = torch.utils.data.DataLoader(train_dataset,batch_size=batch_size*4,shuffle=True)\n",
    "val_loader = torch.utils.data.DataLoader(val_dataset,batch_size=batch_size,shuffle=False)\n",
    "test_loader = torch.utils.data.DataLoader(test_dataset,batch_size=batch_size,shuffle=False)"
   ]
  },
  {
   "cell_type": "code",
   "execution_count": 0,
   "metadata": {
    "colab": {},
    "colab_type": "code",
    "id": "wReg2qseVDSU"
   },
   "outputs": [],
   "source": [
    "win_size=125\n",
    "num_classes = 27"
   ]
  },
  {
   "cell_type": "code",
   "execution_count": 0,
   "metadata": {
    "colab": {},
    "colab_type": "code",
    "id": "U9im06b2U3ZQ"
   },
   "outputs": [],
   "source": [
    "#model = Conv1DLstmNet().to(device)\n",
    "#model = Conv1DNet().to(device)\n",
    "#model = MultiSincNet(device=device).to(device)\n",
    "#model = MultiSincLstmNet(device=device).to(device)\n",
    "model = IsotropyNet(krnl=32).to(device)\n",
    "\n"
   ]
  },
  {
   "cell_type": "code",
   "execution_count": 0,
   "metadata": {
    "colab": {},
    "colab_type": "code",
    "id": "19j7JJ-uU6Ji"
   },
   "outputs": [],
   "source": [
    "opt = torch.optim.Adam(model.parameters(), lr=1e-3,weight_decay=1e-5)\n",
    "\n",
    "best_acc = 0.\n",
    "best_loss = np.inf\n",
    "sPATH = ''\n",
    "fmt_str = '/content/%s_%dclass_%.4f.pth'\n",
    "\n",
    "epoch_wo_progress=0"
   ]
  },
  {
   "cell_type": "code",
   "execution_count": 0,
   "metadata": {
    "colab": {},
    "colab_type": "code",
    "id": "x2j-YolY7VQm"
   },
   "outputs": [],
   "source": [
    "\n",
    "from collections import  defaultdict\n",
    "report  = defaultdict(list)"
   ]
  },
  {
   "cell_type": "code",
   "execution_count": 0,
   "metadata": {
    "colab": {},
    "colab_type": "code",
    "id": "QJLGxfRk7YGw"
   },
   "outputs": [],
   "source": [
    "from IPython import display"
   ]
  },
  {
   "cell_type": "code",
   "execution_count": 0,
   "metadata": {
    "colab": {
     "base_uri": "https://localhost:8080/",
     "height": 499
    },
    "colab_type": "code",
    "id": "2e2iUHOc7bax",
    "outputId": "5a122b08-00bf-4cfe-aa60-07ac65fa8fdc"
   },
   "outputs": [
    {
     "data": {
      "image/png": "[encoded data removed]",
      "text/plain": [
       "<Figure size 432x288 with 1 Axes>"
      ]
     },
     "metadata": {
      "tags": []
     },
     "output_type": "display_data"
    },
    {
     "name": "stdout",
     "output_type": "stream",
     "text": [
      "49\tTraining:\n",
      "\tLoss:\t0.02070\n",
      "\tACC:\t1.00000\n",
      "49\tValidation:\n",
      "\tBEST VAL loss:\t0.58445\n",
      "\tLoss:\t0.64776\n",
      "\tval ACC:\t0.82581\n",
      "49\tTesting:\n",
      "\tLoss:\t0.43631\n",
      "\ttest ACC:\t0.84615\n",
      "\n",
      "\n"
     ]
    }
   ],
   "source": [
    "for epoch in range(num_epochs):\n",
    "    train_loss = train_acc = train_batches = 0 \n",
    "    train_acc_fixed = 0\n",
    "    model.train()\n",
    "    y_true,y_pred = [],[]\n",
    "    start = time.time()\n",
    "    for batch in train_loader:\n",
    "        \n",
    "        data,reference = batch\n",
    "        data = data.transpose(1, 2).to(device)\n",
    "        #print(data.shape)\n",
    "#        print(data.transpose(1, 2).shape)\n",
    "        prediction = model(data)\n",
    "        y_true.append(reference)\n",
    "        y_pred.append(prediction)\n",
    "        loss = compute_loss(reference, prediction)\n",
    "        loss.backward()\n",
    "        opt.step()\n",
    "        opt.zero_grad()\n",
    "        \n",
    "        with torch.no_grad():\n",
    "            train_loss += loss.item()\n",
    "            train_batches += 1\n",
    "    y_true = torch.cat(y_true,dim=0)\n",
    "    y_pred = torch.cat(y_pred,dim=0)\n",
    "    \n",
    "    with torch.no_grad():\n",
    "        train_acc += compute_acc(y_true, y_pred).cpu().numpy()\n",
    "    \n",
    "    val_loss = val_acc = val_batches = 0\n",
    "    val_acc_fixed = 0\n",
    "    #model.train(False)\n",
    "    model.eval()\n",
    "    y_true,y_pred = [],[]\n",
    "    for batch in val_loader:\n",
    "        data,reference = batch\n",
    "        \n",
    "        #reference = torch.cat([reference]*)\n",
    "        \n",
    "        data = data.transpose(1, 2).to(device)\n",
    "        prediction = model(data)\n",
    "        y_true.append(reference)\n",
    "        y_pred.append(prediction)\n",
    "        loss = compute_loss(reference, prediction)\n",
    "        with torch.no_grad():\n",
    "            val_loss += loss.item()\n",
    "            \n",
    "            val_batches += 1\n",
    "    y_true = torch.cat(y_true,dim=0)\n",
    "    y_pred = torch.cat(y_pred,dim=0)\n",
    "    with torch.no_grad():\n",
    "        val_acc += compute_acc(y_true, y_pred).cpu().numpy()\n",
    "    #val_acc = (val_acc / val_batches)\n",
    "    val_loss = (val_loss / val_batches)\n",
    "    \n",
    "    y_true,y_pred = [],[]\n",
    "    test_loss = test_acc = test_batches = 0\n",
    "    for batch in test_loader:\n",
    "        data,reference = batch\n",
    "        data = data.transpose(2,1).to(device)\n",
    "        prediction = model(data)\n",
    "        y_true.append(reference)\n",
    "        y_pred.append(prediction)\n",
    "        #print(len(reference),len(prediction))\n",
    "        loss = compute_loss(reference, prediction)\n",
    "        with torch.no_grad():\n",
    "            test_loss += loss.item()\n",
    "            \n",
    "            test_batches += 1\n",
    "    y_true = torch.cat(y_true,dim=0)\n",
    "    y_pred = torch.cat(y_pred,dim=0)\n",
    "    with torch.no_grad():\n",
    "        test_acc += compute_acc(y_true, y_pred).cpu().numpy()\n",
    "    #test_acc = (test_acc / test_batches)\n",
    "    \n",
    "    test_loss = (test_loss / test_batches)\n",
    "    \n",
    "    \n",
    "    \n",
    "    if val_loss < best_loss:\n",
    "        epoch_wo_progress=0\n",
    "        best_loss = val_loss\n",
    "     \n",
    "        if sPATH != '' and os.path.exists(sPATH):\n",
    "            os.remove(sPATH)\n",
    "        sPATH = fmt_str % (model.__class__.__name__,num_classes,best_loss)\n",
    "        torch.save(model.state_dict(),sPATH)\n",
    "   \n",
    "        \n",
    "    else:\n",
    "        epoch_wo_progress += 1\n",
    "#        if epoch_wo_progress>15:\n",
    "#            print(\"Early Stopping\")\n",
    "#            break\n",
    "    report['train_loss'].append(train_loss / train_batches)\n",
    "    report['val_loss'].append(val_loss)\n",
    "    report['test_loss'].append(test_loss)\n",
    "    finish = time.time()\n",
    "    time_epoch = finish-start    \n",
    "    display.clear_output(wait=True)\n",
    "    fig = plt.Figure(figsize=(20,20),facecolor='white')\n",
    "    plt.plot(report['train_loss'],color='green',label='train_loss')\n",
    "    plt.plot(report['val_loss'],color='magenta',label='val_loss')\n",
    "    plt.plot(report['test_loss'],color='red',label='test_loss')\n",
    "    plt.xlabel(\"#Epoch %d, %.3f seconds per epoch\" % (epoch,time_epoch))\n",
    "    plt.ylabel(\"#Loss\")\n",
    "    plt.title(model.__class__.__name__)\n",
    "    legend(loc=2, prop={'size': 12})\n",
    "    plt.grid()\n",
    "    plt.show()\n",
    "    \n",
    "    print(\"%d\\tTraining:\" % (epoch))\n",
    "        \n",
    "    print(\"\\tLoss:\\t%.5f\" % (train_loss / train_batches))\n",
    "    print(\"\\tACC:\\t%.5f\" % (train_acc))\n",
    "    print(\"%d\\tValidation:\" % (epoch))\n",
    "    print(\"\\tBEST VAL loss:\\t%.5f\" % best_loss)\n",
    "    print(\"\\tLoss:\\t%.5f\" % val_loss)\n",
    "    print(\"\\tval ACC:\\t%.5f\" % val_acc)\n",
    "    print(\"%d\\tTesting:\" % (epoch))\n",
    "    print(\"\\tLoss:\\t%.5f\" % (test_loss / test_batches))\n",
    "    print(\"\\ttest ACC:\\t%.5f\" % test_acc)\n",
    "    print('\\n')\n",
    "    \n",
    "    \n",
    "    if epoch  % verbose == 0 or epoch == num_epochs - 1:\n",
    "        pass"
   ]
  },
  {
   "cell_type": "code",
   "execution_count": 0,
   "metadata": {
    "colab": {},
    "colab_type": "code",
    "id": "HDR6wi0oMTWt"
   },
   "outputs": [],
   "source": [
    "model.load_state_dict(torch.load(sPATH))\n",
    "model.eval();"
   ]
  },
  {
   "cell_type": "code",
   "execution_count": 0,
   "metadata": {
    "colab": {},
    "colab_type": "code",
    "id": "tOSMmBsrMcrz"
   },
   "outputs": [],
   "source": [
    "y_pred_np = torch.argmax(y_pred.log_softmax(dim=-1),dim=-1).detach().cpu().numpy()"
   ]
  },
  {
   "cell_type": "code",
   "execution_count": 0,
   "metadata": {
    "colab": {},
    "colab_type": "code",
    "id": "2aCL-RHTMkhT"
   },
   "outputs": [],
   "source": [
    "\n",
    "np.unique(y_pred_np) == np.unique(y_true) \n",
    "assert len(y_true) == len(test_dataset)"
   ]
  },
  {
   "cell_type": "code",
   "execution_count": 0,
   "metadata": {
    "colab": {},
    "colab_type": "code",
    "id": "fT6D3CBm7fq2"
   },
   "outputs": [],
   "source": [
    "n_conf = 28"
   ]
  },
  {
   "cell_type": "code",
   "execution_count": 0,
   "metadata": {
    "colab": {},
    "colab_type": "code",
    "id": "AV2dvRYbM2NV"
   },
   "outputs": [],
   "source": [
    "creport = pd.DataFrame((classification_report(y_true,y_pred_np,output_dict=True)))\n",
    "acc = accuracy_score(y_true,y_pred_np)\n",
    "fm_score = []\n",
    "for i in range(n_conf):\n",
    "    try:\n",
    "        fm_score.append(creport[str(i)]['f1-score'])\n",
    "    except:\n",
    "        pass"
   ]
  },
  {
   "cell_type": "code",
   "execution_count": 0,
   "metadata": {
    "colab": {
     "base_uri": "https://localhost:8080/",
     "height": 34
    },
    "colab_type": "code",
    "id": "aKlKY3s8M5iy",
    "outputId": "80740423-d8ad-4372-932d-28485cd8dd23"
   },
   "outputs": [
    {
     "data": {
      "text/plain": [
       "0.8455406733184511"
      ]
     },
     "execution_count": 104,
     "metadata": {
      "tags": []
     },
     "output_type": "execute_result"
    }
   ],
   "source": [
    "\n",
    "np.mean(fm_score)"
   ]
  },
  {
   "cell_type": "code",
   "execution_count": 0,
   "metadata": {
    "colab": {},
    "colab_type": "code",
    "id": "NDXIYrXWNAuW"
   },
   "outputs": [],
   "source": [
    "def plot_confusion_matrix(df_confusion, title='Confusion matrix', cmap=plt.cm.jet):\n",
    "    \"\"\"\n",
    "        https://stackoverflow.com/questions/19233771/sklearn-plot-confusion-matrix-with-labels/48018785\n",
    "    \"\"\"\n",
    "    plt.figure(figsize=(15,15),facecolor='white')\n",
    "    plt.matshow(df_confusion, cmap=cmap, fignum=1) # imshow\n",
    "    #plt.title(\"%s\" % (model.__class__.__name__))\n",
    "    plt.colorbar()\n",
    "    tick_marks = np.arange(len(df_confusion.columns))\n",
    "    plt.xticks(tick_marks, df_confusion.index, rotation=90)\n",
    "    plt.yticks(tick_marks, df_confusion.index)\n",
    "    #plt.tight_layout()\n",
    "    plt.ylabel(df_confusion.index.name, fontsize=12)\n",
    "    plt.xlabel(df_confusion.columns.name, fontsize=12)\n",
    "   \n",
    "    plt.show()"
   ]
  },
  {
   "cell_type": "code",
   "execution_count": 0,
   "metadata": {
    "colab": {},
    "colab_type": "code",
    "id": "Vj_lOd6MO3U7"
   },
   "outputs": [],
   "source": [
    "\n",
    "activities = ['right arm swipe to the left', 'right arm swipe to the right', 'right hand wave', 'two hand front clap', 'right arm throw', 'cross arms in the chest', 'basketball shoot',\n",
    "              'right hand draw x', 'right hand draw circle (clockwise)', 'right hand draw circle (counter clockwise)', 'draw triangle', 'bowling (right hand)', 'front boxing', \n",
    "              'baseball swing from right', 'tennis right hand forehand swing', 'arm curl (two arms)', 'tennis serve', 'two hand push', 'right hand knock on door', \n",
    "              'right hand catch an object', 'right hand pick up and throw', 'jogging in place', 'walking in place', 'sit to stand', 'stand to sit', 'forward lunge (left foot forward)',\n",
    "              'squat (two arms stretch out)']\n",
    "        "
   ]
  },
  {
   "cell_type": "markdown",
   "metadata": {
    "colab_type": "text",
    "id": "-clWzUfshHRM"
   },
   "source": [
    "##IsotropyNet"
   ]
  },
  {
   "cell_type": "code",
   "execution_count": 0,
   "metadata": {
    "colab": {
     "base_uri": "https://localhost:8080/",
     "height": 1008
    },
    "colab_type": "code",
    "id": "Jq-HcVaJND3s",
    "outputId": "35fc7f0a-47e3-4f3a-eeee-b66aa1f08109"
   },
   "outputs": [
    {
     "data": {
      "image/png": "[encoded data removed]",
      "text/plain": [
       "<Figure size 1080x1080 with 2 Axes>"
      ]
     },
     "metadata": {
      "tags": []
     },
     "output_type": "display_data"
    }
   ],
   "source": [
    "# rope jumping corrupting color scheme\n",
    "cm  = create_conf_matrix(y_true,y_pred_np,n_classes=27)#len(activities))\n",
    "cmdf = pd.DataFrame(cm/cm.sum(1)[:, None])\n",
    "cmdf.columns = activities\n",
    "cmdf.index = activities\n",
    "\n",
    "plot_confusion_matrix(cmdf)"
   ]
  },
  {
   "cell_type": "code",
   "execution_count": 0,
   "metadata": {
    "colab": {},
    "colab_type": "code",
    "id": "B77REhWanPRS"
   },
   "outputs": [],
   "source": [
    "cmdf.to_excel('/content/iso.xlsx')"
   ]
  },
  {
   "cell_type": "code",
   "execution_count": 0,
   "metadata": {
    "colab": {
     "base_uri": "https://localhost:8080/",
     "height": 34
    },
    "colab_type": "code",
    "id": "AkQCCDUVNJTJ",
    "outputId": "4fb14d12-c2f4-47ef-dd97-b36a3a329722"
   },
   "outputs": [
    {
     "name": "stdout",
     "output_type": "stream",
     "text": [
      "IsotropyNet\t27\t0.8455\t0.8462\n"
     ]
    }
   ],
   "source": [
    "print(\"%s\\t%d\\t%.4f\\t%.4f\" %(model.__class__.__name__,num_classes,np.mean(fm_score),acc))"
   ]
  },
  {
   "cell_type": "markdown",
   "metadata": {
    "colab_type": "text",
    "id": "6TsyBGsVVke0"
   },
   "source": [
    "##History of best Results"
   ]
  },
  {
   "cell_type": "code",
   "execution_count": 0,
   "metadata": {
    "colab": {
     "base_uri": "https://localhost:8080/",
     "height": 166
    },
    "colab_type": "code",
    "id": "z1ntUaxYVi71",
    "outputId": "1332b5cc-5437-407c-9933-0b95dbc5618f"
   },
   "outputs": [
    {
     "data": {
      "text/html": [
       "<div>\n",
       "<style scoped>\n",
       "    .dataframe tbody tr th:only-of-type {\n",
       "        vertical-align: middle;\n",
       "    }\n",
       "\n",
       "    .dataframe tbody tr th {\n",
       "        vertical-align: top;\n",
       "    }\n",
       "\n",
       "    .dataframe thead th {\n",
       "        text-align: right;\n",
       "    }\n",
       "</style>\n",
       "<table border=\"1\" class=\"dataframe\">\n",
       "  <thead>\n",
       "    <tr style=\"text-align: right;\">\n",
       "      <th></th>\n",
       "      <th>model</th>\n",
       "      <th>Fm_score</th>\n",
       "      <th>accuracy</th>\n",
       "    </tr>\n",
       "  </thead>\n",
       "  <tbody>\n",
       "    <tr>\n",
       "      <th>0</th>\n",
       "      <td>Conv1DNet</td>\n",
       "      <td>0.7744</td>\n",
       "      <td>0.7596</td>\n",
       "    </tr>\n",
       "    <tr>\n",
       "      <th>1</th>\n",
       "      <td>Conv1DLstmNet</td>\n",
       "      <td>0.6157</td>\n",
       "      <td>0.6346</td>\n",
       "    </tr>\n",
       "    <tr>\n",
       "      <th>2</th>\n",
       "      <td>MultiSincNet</td>\n",
       "      <td>0.8468</td>\n",
       "      <td>0.8269</td>\n",
       "    </tr>\n",
       "    <tr>\n",
       "      <th>3</th>\n",
       "      <td>MultiSincLstmNet</td>\n",
       "      <td>0.5478</td>\n",
       "      <td>0.5288</td>\n",
       "    </tr>\n",
       "  </tbody>\n",
       "</table>\n",
       "</div>"
      ],
      "text/plain": [
       "              model  Fm_score  accuracy\n",
       "0         Conv1DNet    0.7744    0.7596\n",
       "1     Conv1DLstmNet    0.6157    0.6346\n",
       "2      MultiSincNet    0.8468    0.8269\n",
       "3  MultiSincLstmNet    0.5478    0.5288"
      ]
     },
     "execution_count": 220,
     "metadata": {
      "tags": []
     },
     "output_type": "execute_result"
    }
   ],
   "source": [
    "results = pd.DataFrame(columns = ['model','Fm_score', 'accuracy'])\n",
    "results = results.append({'model':'Conv1DNet', 'Fm_score': 0.7744, 'accuracy':0.7596}, ignore_index=True)\n",
    "results = results.append({'model':'Conv1DLstmNet', 'Fm_score': 0.6157, 'accuracy':0.6346}, ignore_index=True)\n",
    "results = results.append({'model':'MultiSincNet', 'Fm_score': 0.8468, 'accuracy':0.8269}, ignore_index=True)\n",
    "results = results.append({'model':'MultiSincLstmNet', 'Fm_score':0.5478, 'accuracy':0.5288}, ignore_index=True)\n",
    "results"
   ]
  },
  {
   "cell_type": "code",
   "execution_count": 0,
   "metadata": {
    "colab": {},
    "colab_type": "code",
    "id": "j6ZJ3kqmVNS6"
   },
   "outputs": [],
   "source": [
    ""
   ]
  }
 ],
 "metadata": {
  "accelerator": "GPU",
  "colab": {
   "collapsed_sections": [],
   "name": "uth-mhad.ipynb",
   "provenance": [],
   "toc_visible": true,
   "version": "0.3.2"
  },
  "kernelspec": {
   "display_name": "Python 3",
   "name": "python3"
  }
 },
 "nbformat": 4,
 "nbformat_minor": 0
}
