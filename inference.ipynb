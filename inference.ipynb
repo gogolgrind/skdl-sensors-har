{
 "cells": [
  {
   "cell_type": "code",
   "execution_count": 1,
   "metadata": {},
   "outputs": [],
   "source": [
    "import numpy as np\n",
    "import pandas as pd\n",
    "import torch\n",
    "from torch import nn\n"
   ]
  },
  {
   "cell_type": "code",
   "execution_count": 2,
   "metadata": {},
   "outputs": [],
   "source": [
    "num_classes = 12\n",
    "input_channels = 9\n",
    "device = 'cpu'\n",
    "win_size = 64\n",
    "step = 32"
   ]
  },
  {
   "cell_type": "code",
   "execution_count": 3,
   "metadata": {},
   "outputs": [],
   "source": [
    "def sliding_window(sequence,\n",
    "                   win_size = 20, step = 5):\n",
    "    nb_chunks = ((len(sequence)-win_size)//step)+1\n",
    "    for i in range(0,nb_chunks*step,step):\n",
    "        yield sequence[i:i+win_size]\n"
   ]
  },
  {
   "cell_type": "code",
   "execution_count": 4,
   "metadata": {},
   "outputs": [],
   "source": [
    "new_col_names = [\"time\", \"hand_accelerometer\", \"hand_magnetometer\", \"hand_gyroscope\", \n",
    "                 \"ankle_accelerometer\", \"ankle_magnetometer\", \"ankle_gyroscope\", \n",
    "                 \"chest_accelerometer\",\"chest_magnetometer\", \"chest_gyroscope\"]\n",
    "replaced_cols = [\"time\", \"hand_accelerometer\", \"hand_gyroscope\", \"hand_magnetometer\", \n",
    "                 \"ankle_accelerometer\", \"ankle_gyroscope\",\"ankle_magnetometer\",  \n",
    "                 \"chest_accelerometer\", \"chest_gyroscope\",\"chest_magnetometer\"]\n",
    "new_col_names = new_col_names[:input_channels//3+1]\n",
    "replaced_cols = replaced_cols[:input_channels//3+1]"
   ]
  },
  {
   "cell_type": "code",
   "execution_count": 5,
   "metadata": {},
   "outputs": [
    {
     "data": {
      "text/plain": [
       "['time', 'hand_accelerometer', 'hand_gyroscope', 'hand_magnetometer']"
      ]
     },
     "execution_count": 5,
     "metadata": {},
     "output_type": "execute_result"
    }
   ],
   "source": [
    "replaced_cols"
   ]
  },
  {
   "cell_type": "code",
   "execution_count": 6,
   "metadata": {},
   "outputs": [],
   "source": [
    "def transform_csv(path):\n",
    "    \n",
    "    \n",
    "    \n",
    "    def column_transform(data,col_name):\n",
    "        if col_name != \"time\":\n",
    "            new = data[col_name].str.replace(\")\",\"\").str.replace(\"(\",\"\").str.replace(\" \",\"\").str.split(\",\", n = 2, expand = True) \n",
    "            data[col_name + \"_x\"] = new[0]\n",
    "            data[col_name + \"_y\"] = new[1]\n",
    "            data[col_name + \"_z\"] = new[2]\n",
    "            data.drop(columns =[col_name], inplace = True) \n",
    "        return data\n",
    "    \n",
    "    data = pd.read_csv(path)\n",
    "    \n",
    "    data = data.rename(index=str,columns = dict(zip(list(data.columns),new_col_names)))\n",
    "    \n",
    "    data = data[replaced_cols]\n",
    "    \n",
    "\n",
    "\n",
    "    for col in data.columns:\n",
    "        data = column_transform(data, col)\n",
    "    return data"
   ]
  },
  {
   "cell_type": "code",
   "execution_count": null,
   "metadata": {},
   "outputs": [],
   "source": []
  },
  {
   "cell_type": "code",
   "execution_count": 7,
   "metadata": {},
   "outputs": [],
   "source": [
    "class Flatten(nn.Module):\n",
    "    def forward(self, input):\n",
    "        return input.view(input.size(0), -1)"
   ]
  },
  {
   "cell_type": "code",
   "execution_count": 8,
   "metadata": {},
   "outputs": [],
   "source": [
    "demo_activities4 = \"lying,sitting,standing,walking\".split(',')\n",
    "\n",
    "demo_activities12 = ['lying',\n",
    " 'sitting',\n",
    " 'standing',\n",
    " 'walking',\n",
    " 'running',\n",
    " 'cycling',\n",
    " 'Nordic walking',\n",
    " 'ascending stairs',\n",
    " 'descending stairs',\n",
    " 'vacuum cleaning',\n",
    " 'ironing',\n",
    " 'rope jumping']\n"
   ]
  },
  {
   "cell_type": "code",
   "execution_count": 9,
   "metadata": {},
   "outputs": [],
   "source": [
    "demo_mode =  True"
   ]
  },
  {
   "cell_type": "code",
   "execution_count": 10,
   "metadata": {},
   "outputs": [],
   "source": [
    "activities = demo_activities12"
   ]
  },
  {
   "cell_type": "code",
   "execution_count": 11,
   "metadata": {},
   "outputs": [
    {
     "data": {
      "text/plain": [
       "2048"
      ]
     },
     "execution_count": 11,
     "metadata": {},
     "output_type": "execute_result"
    }
   ],
   "source": [
    "256*(win_size//(2**3))"
   ]
  },
  {
   "cell_type": "code",
   "execution_count": 12,
   "metadata": {},
   "outputs": [],
   "source": [
    "class Conv1DNet(nn.Module):\n",
    "    \n",
    "    def __init__(self):\n",
    "        super(self.__class__, self).__init__()\n",
    "        self.input_bn = nn.BatchNorm1d(input_channels)\n",
    "        self.conv11 = nn.Conv1d(in_channels=input_channels, out_channels=64, kernel_size=3, padding=1)\n",
    "        self.pool11 = nn.MaxPool1d(kernel_size=2)\n",
    "        self.conv21 = nn.Conv1d(in_channels=64, out_channels=128, kernel_size=3, padding=1)\n",
    "        self.pool21 = nn.MaxPool1d(kernel_size=2)\n",
    "        self.conv31 = nn.Conv1d(in_channels=128, out_channels=256, kernel_size=3, padding=1)\n",
    "        self.pool31 = nn.MaxPool1d(kernel_size=2)\n",
    "        self.fc1 = nn.Linear(256*(win_size//(2**3)),512)\n",
    "        self.fc2 = nn.Linear(512,512)\n",
    "        self.logit = nn.Linear(512,num_classes)\n",
    "        \n",
    "        self.features = nn.Sequential(\n",
    "             self.input_bn,\n",
    "             self.conv11,self.pool11,\n",
    "             nn.ReLU(),                            \n",
    "             self.conv21,self.pool21,\n",
    "             nn.ReLU(),\n",
    "             self.conv31,self.pool31,\n",
    "             nn.ReLU(),\n",
    "             Flatten(),\n",
    "        )\n",
    "        \n",
    "        self.classifier = nn.Sequential(\n",
    "             self.fc1,\n",
    "             nn.ReLU(),\n",
    "             self.fc2,\n",
    "             nn.ReLU(),\n",
    "             self.logit,\n",
    "        )\n",
    "        \n",
    "    def forward(self,input):\n",
    "        features = self.features(input)\n",
    "        print(features.shape)\n",
    "        return self.classifier(features)"
   ]
  },
  {
   "cell_type": "code",
   "execution_count": 13,
   "metadata": {},
   "outputs": [],
   "source": [
    "sPATH = '/ksozykinraid/har-models/Conv1DNet_onehand_12class_winsize64_0.1037.pth'"
   ]
  },
  {
   "cell_type": "code",
   "execution_count": 14,
   "metadata": {},
   "outputs": [],
   "source": [
    "model = Conv1DNet().to(device)"
   ]
  },
  {
   "cell_type": "code",
   "execution_count": 15,
   "metadata": {},
   "outputs": [],
   "source": [
    "dummy_batch = torch.rand(10,win_size,input_channels).transpose(2,1)"
   ]
  },
  {
   "cell_type": "code",
   "execution_count": 16,
   "metadata": {},
   "outputs": [
    {
     "name": "stdout",
     "output_type": "stream",
     "text": [
      "torch.Size([10, 2048])\n"
     ]
    },
    {
     "data": {
      "text/plain": [
       "tensor([[ 0.0313, -0.0342,  0.0144,  0.0067, -0.0152,  0.0175, -0.0275, -0.0439,\n",
       "         -0.0350,  0.0505,  0.0020,  0.0464],\n",
       "        [ 0.0292, -0.0307,  0.0156,  0.0054, -0.0119,  0.0211, -0.0297, -0.0484,\n",
       "         -0.0390,  0.0464,  0.0085,  0.0441],\n",
       "        [ 0.0272, -0.0305,  0.0154,  0.0054, -0.0123,  0.0195, -0.0251, -0.0459,\n",
       "         -0.0427,  0.0445,  0.0065,  0.0460],\n",
       "        [ 0.0242, -0.0271,  0.0152,  0.0006, -0.0085,  0.0244, -0.0253, -0.0472,\n",
       "         -0.0402,  0.0406,  0.0056,  0.0426],\n",
       "        [ 0.0258, -0.0333,  0.0150,  0.0056, -0.0112,  0.0207, -0.0252, -0.0445,\n",
       "         -0.0390,  0.0450,  0.0035,  0.0491],\n",
       "        [ 0.0272, -0.0311,  0.0150,  0.0040, -0.0140,  0.0247, -0.0259, -0.0487,\n",
       "         -0.0415,  0.0491,  0.0064,  0.0450],\n",
       "        [ 0.0300, -0.0296,  0.0173,  0.0055, -0.0144,  0.0192, -0.0286, -0.0444,\n",
       "         -0.0373,  0.0473,  0.0065,  0.0451],\n",
       "        [ 0.0236, -0.0292,  0.0149,  0.0024, -0.0118,  0.0212, -0.0279, -0.0499,\n",
       "         -0.0383,  0.0442,  0.0017,  0.0408],\n",
       "        [ 0.0265, -0.0321,  0.0163,  0.0052, -0.0113,  0.0235, -0.0252, -0.0462,\n",
       "         -0.0397,  0.0444,  0.0085,  0.0462],\n",
       "        [ 0.0295, -0.0354,  0.0155,  0.0090, -0.0118,  0.0185, -0.0265, -0.0469,\n",
       "         -0.0436,  0.0455,  0.0073,  0.0481]], grad_fn=<AddmmBackward>)"
      ]
     },
     "execution_count": 16,
     "metadata": {},
     "output_type": "execute_result"
    }
   ],
   "source": [
    "model(dummy_batch)"
   ]
  },
  {
   "cell_type": "code",
   "execution_count": 17,
   "metadata": {},
   "outputs": [],
   "source": [
    "model.load_state_dict(torch.load(sPATH));\n",
    "model.eval();"
   ]
  },
  {
   "cell_type": "code",
   "execution_count": null,
   "metadata": {},
   "outputs": [],
   "source": []
  },
  {
   "cell_type": "code",
   "execution_count": 26,
   "metadata": {},
   "outputs": [],
   "source": [
    "data = transform_csv('/ksozykinraid/data/sensors/real/sitting.csv')\n",
    "data = data.drop(['time'],1)\n",
    "data = data.values.astype('float32')"
   ]
  },
  {
   "cell_type": "code",
   "execution_count": 27,
   "metadata": {},
   "outputs": [
    {
     "name": "stdout",
     "output_type": "stream",
     "text": [
      "torch.Size([39, 64, 9])\n"
     ]
    }
   ],
   "source": [
    "batch = []\n",
    "model.eval()\n",
    "for window in sliding_window(data,win_size=win_size,step=16):\n",
    "    batch.append(window)\n",
    "batch = torch.tensor(np.array(batch)).to(device)\n",
    "print(batch.shape)\n",
    "batch = batch.transpose(2,1)"
   ]
  },
  {
   "cell_type": "code",
   "execution_count": 28,
   "metadata": {},
   "outputs": [
    {
     "name": "stdout",
     "output_type": "stream",
     "text": [
      "torch.Size([39, 2048])\n",
      "torch.Size([39, 2048])\n"
     ]
    }
   ],
   "source": [
    "probas = model(batch).softmax(-1)\n",
    "preds = torch.argmax(probas,-1)\n",
    "txt_preds = [activities[int(e)] for e in torch.argmax(model(batch).softmax(-1),-1)]\n",
    "classes, counts = np.unique(txt_preds,return_counts=True)"
   ]
  },
  {
   "cell_type": "code",
   "execution_count": 29,
   "metadata": {},
   "outputs": [],
   "source": [
    "final_predcit = classes[np.argmax(txt_preds)]"
   ]
  },
  {
   "cell_type": "code",
   "execution_count": 30,
   "metadata": {},
   "outputs": [
    {
     "data": {
      "text/plain": [
       "'walking'"
      ]
     },
     "execution_count": 30,
     "metadata": {},
     "output_type": "execute_result"
    }
   ],
   "source": [
    "final_predcit"
   ]
  },
  {
   "cell_type": "code",
   "execution_count": null,
   "metadata": {},
   "outputs": [],
   "source": []
  },
  {
   "cell_type": "code",
   "execution_count": null,
   "metadata": {},
   "outputs": [],
   "source": [
    "import bluepy\n",
    "from bluepy import sensortag\n",
    "\n",
    "import sys\n",
    "import traceback\n",
    "import struct \n",
    "\n",
    "acceler = []\n",
    "gyroscope = []\n",
    "magno = []\n",
    "\n",
    "mac = 'MAC ADRESS'\n",
    "\n",
    "tag = None\n",
    "\n",
    "print('connecting to '+mac, end='', flush=True)\n",
    "while tag == None:\n",
    "    try:\n",
    "        tag = sensortag.SensorTag(mac)\n",
    "    except (bluepy.btle.BTLEException):\n",
    "        print('.', end='', flush=True)\n",
    "    except (Excpetion, e):\n",
    "        print()\n",
    "        print(e)\n",
    "        sys.exit()\n",
    "\n",
    "tag.accelerometer.enable()\n",
    "tag.magnetometer.enable()\n",
    "tag.gyroscope.enable()\n",
    "\n",
    "while True:\n",
    "    acceler.append(tag.accelerometer.read())\n",
    "    gyroscope.append(tag.gyroscope.read())\n",
    "    magno.append(tag.magnetometer.read() )\n",
    "    \n",
    "    if len(acceler) == 64:\n",
    "        batch = []\n",
    "        data = np.stack((acceler, gyroscope, magno), axis= - 1)\n",
    "        model.eval()\n",
    "        for window in sliding_window(data,win_size=win_size,step=16):\n",
    "            batch.append(window)\n",
    "        batch = torch.tensor(np.array(batch)).to(device)\n",
    "        #print(batch.shape)\n",
    "        batch = batch.transpose(2,1)\n",
    "        \n",
    "        probas = model(batch).softmax(-1)\n",
    "        preds = torch.argmax(probas,-1)\n",
    "        txt_preds = [activities[int(e)] for e in preds]\n",
    "        classes, counts = np.unique(txt_preds,return_counts=True)\n",
    "        final_predcit = classes[np.argmax(counts)]\n",
    "        \n",
    "        print('final_predcit =', final_predcit)\n",
    "        \n",
    "        \n",
    "        del acceler \n",
    "        del gyroscope \n",
    "        del magno \n",
    "        acceler = []\n",
    "        gyroscope = []\n",
    "        magno = []\n",
    "        \n",
    "    tag.waitForNotifications(0.1)\n",
    "        \n",
    "        "
   ]
  },
  {
   "cell_type": "code",
   "execution_count": null,
   "metadata": {},
   "outputs": [],
   "source": []
  }
 ],
 "metadata": {
  "kernelspec": {
   "display_name": "Python 3",
   "language": "python",
   "name": "python3"
  },
  "language_info": {
   "codemirror_mode": {
    "name": "ipython",
    "version": 3
   },
   "file_extension": ".py",
   "mimetype": "text/x-python",
   "name": "python",
   "nbconvert_exporter": "python",
   "pygments_lexer": "ipython3",
   "version": "3.6.8"
  }
 },
 "nbformat": 4,
 "nbformat_minor": 2
}
